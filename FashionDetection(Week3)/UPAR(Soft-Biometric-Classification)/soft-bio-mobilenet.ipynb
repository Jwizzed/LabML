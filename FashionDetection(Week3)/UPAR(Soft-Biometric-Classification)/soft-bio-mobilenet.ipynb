{
 "cells": [
  {
   "cell_type": "code",
   "execution_count": 1,
   "id": "c8035b49",
   "metadata": {
    "execution": {
     "iopub.execute_input": "2024-03-24T05:14:55.101423Z",
     "iopub.status.busy": "2024-03-24T05:14:55.101066Z",
     "iopub.status.idle": "2024-03-24T05:14:57.738626Z",
     "shell.execute_reply": "2024-03-24T05:14:57.737521Z"
    },
    "id": "PfgBeuAevIXc",
    "outputId": "940c3dce-bd09-4aea-eef9-8c79207167be",
    "papermill": {
     "duration": 2.647323,
     "end_time": "2024-03-24T05:14:57.741239",
     "exception": false,
     "start_time": "2024-03-24T05:14:55.093916",
     "status": "completed"
    },
    "tags": []
   },
   "outputs": [
    {
     "name": "stdout",
     "output_type": "stream",
     "text": [
      "Cloning into 'upar_dataset'...\r\n",
      "remote: Enumerating objects: 16, done.\u001b[K\r\n",
      "remote: Counting objects: 100% (16/16), done.\u001b[K\r\n",
      "remote: Compressing objects: 100% (12/12), done.\u001b[K\r\n",
      "remote: Total 16 (delta 1), reused 6 (delta 0), pack-reused 0\u001b[K\r\n",
      "Unpacking objects: 100% (16/16), 4.87 MiB | 4.94 MiB/s, done.\r\n"
     ]
    }
   ],
   "source": [
    "!git clone https://github.com/speckean/upar_dataset.git"
   ]
  },
  {
   "cell_type": "markdown",
   "id": "3280684a",
   "metadata": {
    "id": "N-Qkzag4vzzN",
    "papermill": {
     "duration": 0.005476,
     "end_time": "2024-03-24T05:14:57.752895",
     "exception": false,
     "start_time": "2024-03-24T05:14:57.747419",
     "status": "completed"
    },
    "tags": []
   },
   "source": [
    "# Import Tools"
   ]
  },
  {
   "cell_type": "code",
   "execution_count": 2,
   "id": "76f0f842",
   "metadata": {
    "execution": {
     "iopub.execute_input": "2024-03-24T05:14:57.765651Z",
     "iopub.status.busy": "2024-03-24T05:14:57.765345Z",
     "iopub.status.idle": "2024-03-24T05:15:04.266718Z",
     "shell.execute_reply": "2024-03-24T05:15:04.265760Z"
    },
    "id": "qPx3W0h-vT97",
    "papermill": {
     "duration": 6.510552,
     "end_time": "2024-03-24T05:15:04.269106",
     "exception": false,
     "start_time": "2024-03-24T05:14:57.758554",
     "status": "completed"
    },
    "tags": []
   },
   "outputs": [],
   "source": [
    "import os\n",
    "import pickle\n",
    "import glob\n",
    "import random\n",
    "\n",
    "import numpy as np\n",
    "import torch.utils.data as data\n",
    "from PIL import Image\n",
    "\n",
    "import torchvision.transforms as T\n",
    "from torchvision import models\n",
    "\n",
    "from torch.utils.data import DataLoader\n",
    "\n",
    "import torch\n",
    "import torch.nn as nn\n",
    "import torch.optim as optim"
   ]
  },
  {
   "cell_type": "code",
   "execution_count": 3,
   "id": "5285dcad",
   "metadata": {
    "execution": {
     "iopub.execute_input": "2024-03-24T05:15:04.282591Z",
     "iopub.status.busy": "2024-03-24T05:15:04.281879Z",
     "iopub.status.idle": "2024-03-24T05:15:04.288787Z",
     "shell.execute_reply": "2024-03-24T05:15:04.287888Z"
    },
    "id": "g3cYG_hs_bhO",
    "outputId": "f79cb5d2-c440-46b4-8db0-44f1532b73ba",
    "papermill": {
     "duration": 0.01563,
     "end_time": "2024-03-24T05:15:04.290855",
     "exception": false,
     "start_time": "2024-03-24T05:15:04.275225",
     "status": "completed"
    },
    "tags": []
   },
   "outputs": [
    {
     "data": {
      "text/plain": [
       "'/kaggle/working'"
      ]
     },
     "execution_count": 3,
     "metadata": {},
     "output_type": "execute_result"
    }
   ],
   "source": [
    "HOME = os.getcwd()\n",
    "HOME"
   ]
  },
  {
   "cell_type": "markdown",
   "id": "e2745abc",
   "metadata": {
    "id": "lUdsEedzid6v",
    "papermill": {
     "duration": 0.005736,
     "end_time": "2024-03-24T05:15:04.302361",
     "exception": false,
     "start_time": "2024-03-24T05:15:04.296625",
     "status": "completed"
    },
    "tags": []
   },
   "source": [
    "# Dataset"
   ]
  },
  {
   "cell_type": "markdown",
   "id": "a8f574b4",
   "metadata": {
    "id": "96_bEv_IiiA6",
    "papermill": {
     "duration": 0.005605,
     "end_time": "2024-03-24T05:15:04.314333",
     "exception": false,
     "start_time": "2024-03-24T05:15:04.308728",
     "status": "completed"
    },
    "tags": []
   },
   "source": [
    "## Get a data"
   ]
  },
  {
   "cell_type": "code",
   "execution_count": 4,
   "id": "80748cdc",
   "metadata": {
    "execution": {
     "iopub.execute_input": "2024-03-24T05:15:04.327494Z",
     "iopub.status.busy": "2024-03-24T05:15:04.326905Z",
     "iopub.status.idle": "2024-03-24T05:15:18.767587Z",
     "shell.execute_reply": "2024-03-24T05:15:18.766289Z"
    },
    "id": "oRRDnWjIi-zS",
    "outputId": "89e7bd3d-ce24-4a17-c47d-3db23c5491fc",
    "papermill": {
     "duration": 14.449861,
     "end_time": "2024-03-24T05:15:18.769918",
     "exception": false,
     "start_time": "2024-03-24T05:15:04.320057",
     "status": "completed"
    },
    "tags": []
   },
   "outputs": [
    {
     "name": "stdout",
     "output_type": "stream",
     "text": [
      "Cloning into 'upar_challenge'...\r\n",
      "remote: Enumerating objects: 49, done.\u001b[K\r\n",
      "remote: Counting objects: 100% (49/49), done.\u001b[K\r\n",
      "remote: Compressing objects: 100% (38/38), done.\u001b[K\r\n",
      "remote: Total 49 (delta 14), reused 40 (delta 10), pack-reused 0\u001b[K\r\n",
      "Unpacking objects: 100% (49/49), 144.37 KiB | 3.21 MiB/s, done.\r\n",
      "/kaggle/working/upar_challenge\n",
      "Requirement already satisfied: tqdm in /opt/conda/lib/python3.10/site-packages (4.66.1)\r\n",
      "Collecting gdown\r\n",
      "  Downloading gdown-5.1.0-py3-none-any.whl.metadata (5.7 kB)\r\n",
      "Requirement already satisfied: requests in /opt/conda/lib/python3.10/site-packages (2.31.0)\r\n",
      "Requirement already satisfied: beautifulsoup4 in /opt/conda/lib/python3.10/site-packages (from gdown) (4.12.2)\r\n",
      "Requirement already satisfied: filelock in /opt/conda/lib/python3.10/site-packages (from gdown) (3.13.1)\r\n",
      "Requirement already satisfied: charset-normalizer<4,>=2 in /opt/conda/lib/python3.10/site-packages (from requests) (3.3.2)\r\n",
      "Requirement already satisfied: idna<4,>=2.5 in /opt/conda/lib/python3.10/site-packages (from requests) (3.6)\r\n",
      "Requirement already satisfied: urllib3<3,>=1.21.1 in /opt/conda/lib/python3.10/site-packages (from requests) (1.26.18)\r\n",
      "Requirement already satisfied: certifi>=2017.4.17 in /opt/conda/lib/python3.10/site-packages (from requests) (2024.2.2)\r\n",
      "Requirement already satisfied: soupsieve>1.2 in /opt/conda/lib/python3.10/site-packages (from beautifulsoup4->gdown) (2.5)\r\n",
      "Requirement already satisfied: PySocks!=1.5.7,>=1.5.6 in /opt/conda/lib/python3.10/site-packages (from requests[socks]->gdown) (1.7.1)\r\n",
      "Downloading gdown-5.1.0-py3-none-any.whl (17 kB)\r\n",
      "Installing collected packages: gdown\r\n",
      "Successfully installed gdown-5.1.0\r\n"
     ]
    }
   ],
   "source": [
    "!git clone https://github.com/speckean/upar_challenge.git\n",
    "%cd upar_challenge\n",
    "!pip install tqdm gdown requests"
   ]
  },
  {
   "cell_type": "code",
   "execution_count": 5,
   "id": "8f2e1f4b",
   "metadata": {
    "execution": {
     "iopub.execute_input": "2024-03-24T05:15:18.785806Z",
     "iopub.status.busy": "2024-03-24T05:15:18.785006Z",
     "iopub.status.idle": "2024-03-24T05:16:07.502186Z",
     "shell.execute_reply": "2024-03-24T05:16:07.500904Z"
    },
    "id": "6vrUotcziocm",
    "outputId": "2d7bdb8c-f538-44be-e008-4aadf50c74ed",
    "papermill": {
     "duration": 48.727697,
     "end_time": "2024-03-24T05:16:07.504705",
     "exception": false,
     "start_time": "2024-03-24T05:15:18.777008",
     "status": "completed"
    },
    "tags": []
   },
   "outputs": [
    {
     "name": "stdout",
     "output_type": "stream",
     "text": [
      "Download Market 1501 dataset\r\n",
      "Downloading...\r\n",
      "From (original): https://drive.google.com/uc?id=0B8-rUzbwVRk0c054eEozWG9COHM\r\n",
      "From (redirected): https://drive.google.com/uc?id=0B8-rUzbwVRk0c054eEozWG9COHM&confirm=t&uuid=321826f4-5fef-4dab-9ec9-196a91433fff\r\n",
      "To: /kaggle/working/upar_challenge/data/market_1501.zip\r\n",
      "100%|█████████████████████████████████████████| 153M/153M [00:00<00:00, 252MB/s]\r\n",
      "Extract Market 1501 dataset\r\n",
      "Extracting : 100%|██████████████████████| 68042/68042 [00:07<00:00, 8506.82it/s]\r\n",
      "Download PA100k dataset\r\n",
      "Retrieving folder contents\r\n",
      "Processing file 1dt5nteusNfCVrjAkffLK1sbh4hTLM8tl annotation.zip\r\n",
      "Processing file 1Bod3MrbdCRiSvpR7NSOYi-rF3-ushwtj data.zip\r\n",
      "Processing file 1zmQkoN2YJgbclT990ihj_DYU29YAidey README.txt\r\n",
      "Retrieving folder contents completed\r\n",
      "Building directory structure\r\n",
      "Building directory structure completed\r\n",
      "Downloading...\r\n",
      "From: https://drive.google.com/uc?id=1dt5nteusNfCVrjAkffLK1sbh4hTLM8tl\r\n",
      "To: /kaggle/working/upar_challenge/data/PA100k/annotation.zip\r\n",
      "100%|█████████████████████████████████████████| 339k/339k [00:00<00:00, 117MB/s]\r\n",
      "Downloading...\r\n",
      "From (original): https://drive.google.com/uc?id=1Bod3MrbdCRiSvpR7NSOYi-rF3-ushwtj\r\n",
      "From (redirected): https://drive.google.com/uc?id=1Bod3MrbdCRiSvpR7NSOYi-rF3-ushwtj&confirm=t&uuid=5b5c8596-6328-48b0-8306-21265f4cb984\r\n",
      "To: /kaggle/working/upar_challenge/data/PA100k/data.zip\r\n",
      "100%|█████████████████████████████████████████| 451M/451M [00:01<00:00, 272MB/s]\r\n",
      "Downloading...\r\n",
      "From: https://drive.google.com/uc?id=1zmQkoN2YJgbclT990ihj_DYU29YAidey\r\n",
      "To: /kaggle/working/upar_challenge/data/PA100k/README.txt\r\n",
      "100%|██████████████████████████████████████████| 794/794 [00:00<00:00, 3.90MB/s]\r\n",
      "Download completed\r\n",
      "Extract PA100k dataset\r\n",
      "Extracting : 100%|████████████████████| 100001/100001 [00:14<00:00, 7133.99it/s]\r\n",
      "Download PETA dataset\r\n",
      "* url=\"https://www.dropbox.com/s/52ylx522hwbdxz6/PETA.zip?dl=1\"\r\n",
      "* destination=\"data/PETA/peta.zip\"\r\n",
      "...100%, 224 MB, 113072 KB/s, 2 seconds passed\r\n",
      "Extract PETA dataset\r\n",
      "Extracting : 100%|██████████████████████| 19032/19032 [00:03<00:00, 5080.32it/s]\r\n",
      "19010it [00:01, 16018.68it/s]\r\n",
      "Download annotations\r\n",
      "Downloading...\r\n",
      "From: https://drive.google.com/uc?id=1FMX9nUrXArxW4wkORO6Z7zp7xy7JBjUM\r\n",
      "To: /kaggle/working/upar_challenge/data/annotations/development.zip\r\n",
      "100%|█████████████████████████████████████████| 918k/918k [00:00<00:00, 121MB/s]\r\n",
      "Extract annotations\r\n",
      "Extracting : 100%|███████████████████████████████| 8/8 [00:00<00:00, 153.39it/s]\r\n",
      "Download templates\r\n",
      "Downloading...\r\n",
      "From (original): https://drive.google.com/uc?id=11ZxT8kixkV-vAj8aixS8n2aGJ5Rw0OQy\r\n",
      "From (redirected): https://drive.google.com/uc?id=11ZxT8kixkV-vAj8aixS8n2aGJ5Rw0OQy&confirm=t&uuid=f0f8f12f-89ec-44e5-bb98-3c282c671287\r\n",
      "To: /kaggle/working/upar_challenge/submission_templates.zip\r\n",
      "100%|█████████████████████████████████████████| 300M/300M [00:01<00:00, 234MB/s]\r\n",
      "Extract templates\r\n",
      "Extracting : 100%|████████████████████████████████| 5/5 [00:04<00:00,  1.07it/s]\r\n",
      "/kaggle/working\n"
     ]
    }
   ],
   "source": [
    "!python3 download_datasets.py\n",
    "%cd {HOME}\n",
    "!mv upar_challenge/data ."
   ]
  },
  {
   "cell_type": "code",
   "execution_count": 6,
   "id": "aa4fd210",
   "metadata": {
    "execution": {
     "iopub.execute_input": "2024-03-24T05:16:07.649653Z",
     "iopub.status.busy": "2024-03-24T05:16:07.649226Z",
     "iopub.status.idle": "2024-03-24T05:16:07.656603Z",
     "shell.execute_reply": "2024-03-24T05:16:07.655579Z"
    },
    "id": "PYxNcR4XyKL0",
    "outputId": "457e5b22-fb5d-466e-faf5-334207115f4b",
    "papermill": {
     "duration": 0.08005,
     "end_time": "2024-03-24T05:16:07.658732",
     "exception": false,
     "start_time": "2024-03-24T05:16:07.578682",
     "status": "completed"
    },
    "tags": []
   },
   "outputs": [
    {
     "name": "stdout",
     "output_type": "stream",
     "text": [
      "Directory renamed from 'data/PA100k/release_data/release_data' to 'data/PA100k/data'\n"
     ]
    }
   ],
   "source": [
    "current_dir_path = 'data/PA100k/release_data/release_data'\n",
    "new_dir_path = 'data/PA100k/data'\n",
    "\n",
    "\n",
    "if os.path.exists(current_dir_path):\n",
    "    if not os.path.exists(new_dir_path):\n",
    "        os.rename(current_dir_path, new_dir_path)\n",
    "        print(f\"Directory renamed from '{current_dir_path}' to '{new_dir_path}'\")\n",
    "\n",
    "    else:\n",
    "        print(f\"The target directory '{new_dir_path}' already exists.\")\n",
    "else:\n",
    "    print(f\"The directory '{current_dir_path}' does not exist.\")"
   ]
  },
  {
   "cell_type": "markdown",
   "id": "21086f2a",
   "metadata": {
    "id": "Ipq3tXRkijzw",
    "papermill": {
     "duration": 0.068064,
     "end_time": "2024-03-24T05:16:07.799718",
     "exception": false,
     "start_time": "2024-03-24T05:16:07.731654",
     "status": "completed"
    },
    "tags": []
   },
   "source": [
    "## Construct dataset/dataloader"
   ]
  },
  {
   "cell_type": "code",
   "execution_count": 7,
   "id": "dd343740",
   "metadata": {
    "execution": {
     "iopub.execute_input": "2024-03-24T05:16:07.947583Z",
     "iopub.status.busy": "2024-03-24T05:16:07.947220Z",
     "iopub.status.idle": "2024-03-24T05:16:07.965154Z",
     "shell.execute_reply": "2024-03-24T05:16:07.964219Z"
    },
    "id": "7Y15r_o5v07f",
    "papermill": {
     "duration": 0.091063,
     "end_time": "2024-03-24T05:16:07.967420",
     "exception": false,
     "start_time": "2024-03-24T05:16:07.876357",
     "status": "completed"
    },
    "tags": []
   },
   "outputs": [],
   "source": [
    "\n",
    "class UPAR(data.Dataset):\n",
    "  \"\"\"\n",
    "  Load UPAR dataset from pickle file\n",
    "\n",
    "  split: whether to use train/val/trainval/test split\n",
    "  partition: partition id 0-9\n",
    "  root: path to datasets, original datasets must be in this directory\n",
    "  data_path: path to UPAR pickle file\n",
    "  transform: training data transforms\n",
    "  target_transforms: evaluation data transforms\n",
    "  \"\"\"\n",
    "  def __init__(self, split='train', partition=0, root=HOME, data_path='/kaggle/working/upar_dataset/UPAR/dataset_all.pkl', transform=None, target_transform=None):\n",
    "    dataset_info = pickle.load(open(data_path, 'rb+'))\n",
    "    self.dataset_info = dataset_info\n",
    "\n",
    "    img_id = dataset_info.image_name\n",
    "    attr_label = dataset_info.label\n",
    "\n",
    "    assert split in dataset_info.partition.keys(), f'split {split} does not exist'\n",
    "\n",
    "    self.dataset = 'UPAR'\n",
    "    self.transform = transform  # data transforms during training\n",
    "    self.target_transform = target_transform  # data transforms during testing\n",
    "\n",
    "    self.root_path = root+\"/data\"  # path to datasets\n",
    "\n",
    "    self.attr_id = dataset_info.attr_name  # attribute names\n",
    "    self.attr_num = len(self.attr_id)  # number of attributes\n",
    "\n",
    "\t\t# load partition\n",
    "    self.img_idx = dataset_info.partition[split]\n",
    "\n",
    "    if isinstance(self.img_idx, list):\n",
    "      self.img_idx = self.img_idx[partition]\n",
    "\n",
    "    if isinstance(self.img_idx, list):\n",
    "      self.img_idx = np.hstack(self.img_idx)\n",
    "\n",
    "    self.img_idx = np.array([i for i in self.img_idx if not any(folder in img_id[i] for folder in [\"RAP\"])])\n",
    "\n",
    "\n",
    "    self.img_num = self.img_idx.shape[0]\n",
    "    self.img_id = [img_id[i] for i in self.img_idx]\n",
    "    self.label = attr_label[self.img_idx]\n",
    "\n",
    "    # set sub-dataset lengths to enable evaluation on sub-datasets\n",
    "    self.sub_dataset_lengths = [len(d) for d in dataset_info.partition.test[partition]]\n",
    "\n",
    "\n",
    "  def __getitem__(self, index):\n",
    "      \"\"\"\n",
    "      get dataset item by index\n",
    "\n",
    "      index: item index\n",
    "      return: image data (img) with corresponding ground truth labels (gt_label), dataset id (did), and image path (imgname)\n",
    "      \"\"\"\n",
    "      imgname, gt_label, imgidx = self.img_id[index], self.label[index], self.img_idx[index]\n",
    "      did = self.dataset_info.dataset_ids[imgidx]\n",
    "      imgpath = os.path.join(self.root_path, imgname)\n",
    "      img = Image.open(imgpath)\n",
    "\n",
    "      if self.transform is not None:\n",
    "          img = self.transform(img)\n",
    "\n",
    "      gt_label = gt_label.astype(np.float32)\n",
    "\n",
    "      if self.target_transform is not None:\n",
    "          gt_label = self.transform(gt_label)\n",
    "\n",
    "      return img, gt_label, did, imgname\n",
    "\n",
    "\n",
    "  def __len__(self):\n",
    "    \"\"\"\n",
    "    get length of dataset\n",
    "    \"\"\"\n",
    "    return len(self.img_id)\n",
    "\n",
    "\n",
    "def get_transform(height, width):\n",
    "    normalize = T.Normalize(mean=[0.485, 0.456, 0.406], std=[0.229, 0.224, 0.225])\n",
    "    train_transform = [\n",
    "        T.Resize((height, width))\n",
    "    ]\n",
    "\n",
    "    train_transform += [\n",
    "        T.Pad(10),\n",
    "        T.RandomCrop((height, width)),\n",
    "        T.RandomHorizontalFlip(),\n",
    "    ]\n",
    "\n",
    "    train_transform += [\n",
    "        T.ToTensor(),\n",
    "        normalize,\n",
    "    ]\n",
    "    train_transform = T.Compose(train_transform)\n",
    "\n",
    "    valid_transform = T.Compose([\n",
    "        T.Resize((height, width)),\n",
    "        T.ToTensor(),\n",
    "        normalize\n",
    "    ])\n",
    "\n",
    "    return train_transform, valid_transform"
   ]
  },
  {
   "cell_type": "code",
   "execution_count": 8,
   "id": "f70911fb",
   "metadata": {
    "execution": {
     "iopub.execute_input": "2024-03-24T05:16:08.108849Z",
     "iopub.status.busy": "2024-03-24T05:16:08.108482Z",
     "iopub.status.idle": "2024-03-24T05:16:09.004068Z",
     "shell.execute_reply": "2024-03-24T05:16:09.003083Z"
    },
    "id": "C__-utMewC83",
    "papermill": {
     "duration": 0.96624,
     "end_time": "2024-03-24T05:16:09.006464",
     "exception": false,
     "start_time": "2024-03-24T05:16:08.040224",
     "status": "completed"
    },
    "tags": []
   },
   "outputs": [],
   "source": [
    "height = 224\n",
    "width = 224\n",
    "train_transform, valid_transform = get_transform(height, width)\n",
    "\n",
    "\n",
    "train_dataset = UPAR(split='train', partition=0, transform=train_transform)\n",
    "val_dataset = UPAR(split='val', partition=0, transform=valid_transform)\n",
    "test_dataset = UPAR(split='test', partition=0, transform=valid_transform)\n"
   ]
  },
  {
   "cell_type": "code",
   "execution_count": 9,
   "id": "d289f3b4",
   "metadata": {
    "execution": {
     "iopub.execute_input": "2024-03-24T05:16:09.144467Z",
     "iopub.status.busy": "2024-03-24T05:16:09.143473Z",
     "iopub.status.idle": "2024-03-24T05:16:09.151581Z",
     "shell.execute_reply": "2024-03-24T05:16:09.150634Z"
    },
    "id": "bAwTtSBfwpBn",
    "papermill": {
     "duration": 0.080362,
     "end_time": "2024-03-24T05:16:09.153745",
     "exception": false,
     "start_time": "2024-03-24T05:16:09.073383",
     "status": "completed"
    },
    "tags": []
   },
   "outputs": [],
   "source": [
    "batch_size = 32 \n",
    "train_loader = DataLoader(train_dataset, batch_size=batch_size, shuffle=True)\n",
    "val_loader = DataLoader(val_dataset, batch_size=batch_size, shuffle=False)\n",
    "test_loader = DataLoader(test_dataset, batch_size=batch_size, shuffle=False)"
   ]
  },
  {
   "cell_type": "markdown",
   "id": "43ce3361",
   "metadata": {
    "id": "zYqxrG3p_sc0",
    "papermill": {
     "duration": 0.071181,
     "end_time": "2024-03-24T05:16:09.303562",
     "exception": false,
     "start_time": "2024-03-24T05:16:09.232381",
     "status": "completed"
    },
    "tags": []
   },
   "source": [
    "# Model Baseline"
   ]
  },
  {
   "cell_type": "code",
   "execution_count": 10,
   "id": "dcbf30c6",
   "metadata": {
    "execution": {
     "iopub.execute_input": "2024-03-24T05:16:09.437148Z",
     "iopub.status.busy": "2024-03-24T05:16:09.436778Z",
     "iopub.status.idle": "2024-03-24T05:16:09.880123Z",
     "shell.execute_reply": "2024-03-24T05:16:09.879095Z"
    },
    "id": "We87CAdU-cww",
    "papermill": {
     "duration": 0.511964,
     "end_time": "2024-03-24T05:16:09.882262",
     "exception": false,
     "start_time": "2024-03-24T05:16:09.370298",
     "status": "completed"
    },
    "tags": []
   },
   "outputs": [
    {
     "name": "stderr",
     "output_type": "stream",
     "text": [
      "/opt/conda/lib/python3.10/site-packages/torchvision/models/_utils.py:208: UserWarning: The parameter 'pretrained' is deprecated since 0.13 and may be removed in the future, please use 'weights' instead.\n",
      "  warnings.warn(\n",
      "/opt/conda/lib/python3.10/site-packages/torchvision/models/_utils.py:223: UserWarning: Arguments other than a weight enum or `None` for 'weights' are deprecated since 0.13 and may be removed in the future. The current behavior is equivalent to passing `weights=MobileNet_V2_Weights.IMAGENET1K_V1`. You can also use `weights=MobileNet_V2_Weights.DEFAULT` to get the most up-to-date weights.\n",
      "  warnings.warn(msg)\n",
      "Downloading: \"https://download.pytorch.org/models/mobilenet_v2-b0353104.pth\" to /root/.cache/torch/hub/checkpoints/mobilenet_v2-b0353104.pth\n",
      "100%|██████████| 13.6M/13.6M [00:00<00:00, 99.4MB/s]\n"
     ]
    }
   ],
   "source": [
    "model = models.mobilenet_v2(pretrained=True)"
   ]
  },
  {
   "cell_type": "code",
   "execution_count": 11,
   "id": "e21a83f0",
   "metadata": {
    "execution": {
     "iopub.execute_input": "2024-03-24T05:16:10.018261Z",
     "iopub.status.busy": "2024-03-24T05:16:10.017532Z",
     "iopub.status.idle": "2024-03-24T05:16:10.024761Z",
     "shell.execute_reply": "2024-03-24T05:16:10.024079Z"
    },
    "id": "NrK7JzSxDzZD",
    "papermill": {
     "duration": 0.076892,
     "end_time": "2024-03-24T05:16:10.026732",
     "exception": false,
     "start_time": "2024-03-24T05:16:09.949840",
     "status": "completed"
    },
    "tags": []
   },
   "outputs": [],
   "source": [
    "num_classes = 40\n",
    "model.classifier[1] = nn.Linear(model.last_channel, num_classes)\n",
    "loss_fn = nn.CrossEntropyLoss()\n",
    "optimizer = optim.Adam(model.parameters(), lr=0.001)"
   ]
  },
  {
   "cell_type": "code",
   "execution_count": 12,
   "id": "f7f7e054",
   "metadata": {
    "execution": {
     "iopub.execute_input": "2024-03-24T05:16:10.161549Z",
     "iopub.status.busy": "2024-03-24T05:16:10.160655Z",
     "iopub.status.idle": "2024-03-24T05:58:45.298524Z",
     "shell.execute_reply": "2024-03-24T05:58:45.297573Z"
    },
    "id": "guhqNIXxHkHS",
    "outputId": "b6849ff6-53fc-4bac-97b2-8d80d4211774",
    "papermill": {
     "duration": 2555.285983,
     "end_time": "2024-03-24T05:58:45.379531",
     "exception": false,
     "start_time": "2024-03-24T05:16:10.093548",
     "status": "completed"
    },
    "tags": []
   },
   "outputs": [
    {
     "name": "stdout",
     "output_type": "stream",
     "text": [
      "Epoch 1/5\n",
      "----------\n",
      "Batch 0, Loss: 25.45807647705078\n",
      "Batch 100, Loss: 18.39025115966797\n",
      "Batch 200, Loss: 18.3584041595459\n",
      "Batch 300, Loss: 18.63368034362793\n",
      "Batch 400, Loss: 18.158985137939453\n",
      "Batch 500, Loss: 17.447589874267578\n",
      "Batch 600, Loss: 17.917827606201172\n",
      "Batch 700, Loss: 17.8455753326416\n",
      "Batch 800, Loss: 18.20815658569336\n",
      "Batch 900, Loss: 17.280881881713867\n",
      "Batch 1000, Loss: 16.63712501525879\n",
      "Batch 1100, Loss: 17.065988540649414\n",
      "Batch 1200, Loss: 16.85506820678711\n",
      "Batch 1300, Loss: 17.157058715820312\n",
      "Batch 1400, Loss: 17.748868942260742\n",
      "Batch 1500, Loss: 16.164506912231445\n",
      "Batch 1600, Loss: 16.10417938232422\n",
      "Batch 1700, Loss: 16.47708511352539\n",
      "Batch 1800, Loss: 16.555679321289062\n",
      "Batch 1900, Loss: 18.177427291870117\n",
      "Batch 2000, Loss: 16.640670776367188\n",
      "Batch 2100, Loss: 17.865280151367188\n",
      "Batch 2200, Loss: 16.705068588256836\n",
      "Batch 2300, Loss: 15.554530143737793\n",
      "Batch 2400, Loss: 16.983123779296875\n",
      "Batch 2500, Loss: 16.99689292907715\n",
      "Batch 2600, Loss: 16.80962562561035\n",
      "Batch 2700, Loss: 17.27457618713379\n",
      "Batch 2800, Loss: 17.27701187133789\n",
      "Batch 2900, Loss: 16.632577896118164\n",
      "Batch 3000, Loss: 16.590225219726562\n",
      "Batch 3100, Loss: 16.34718894958496\n",
      "Average Training Loss: 17.176322108916654\n",
      "Average Validation Loss: 17.77951562759724\n",
      "Epoch 2/5\n",
      "----------\n",
      "Batch 0, Loss: 17.977231979370117\n",
      "Batch 100, Loss: 18.233261108398438\n",
      "Batch 200, Loss: 16.661090850830078\n",
      "Batch 300, Loss: 16.22355842590332\n",
      "Batch 400, Loss: 15.43172836303711\n",
      "Batch 500, Loss: 16.845962524414062\n",
      "Batch 600, Loss: 15.722616195678711\n",
      "Batch 700, Loss: 17.1175594329834\n",
      "Batch 800, Loss: 16.62946319580078\n",
      "Batch 900, Loss: 15.301231384277344\n",
      "Batch 1000, Loss: 17.300796508789062\n",
      "Batch 1100, Loss: 15.619512557983398\n",
      "Batch 1200, Loss: 16.127803802490234\n",
      "Batch 1300, Loss: 16.292970657348633\n",
      "Batch 1400, Loss: 17.216472625732422\n",
      "Batch 1500, Loss: 15.64015007019043\n",
      "Batch 1600, Loss: 17.149581909179688\n",
      "Batch 1700, Loss: 15.277493476867676\n",
      "Batch 1800, Loss: 15.45740795135498\n",
      "Batch 1900, Loss: 16.23038673400879\n",
      "Batch 2000, Loss: 16.420806884765625\n",
      "Batch 2100, Loss: 14.947952270507812\n",
      "Batch 2200, Loss: 16.575620651245117\n",
      "Batch 2300, Loss: 16.253501892089844\n",
      "Batch 2400, Loss: 15.757217407226562\n",
      "Batch 2500, Loss: 16.701805114746094\n",
      "Batch 2600, Loss: 17.112255096435547\n",
      "Batch 2700, Loss: 15.214133262634277\n",
      "Batch 2800, Loss: 16.667661666870117\n",
      "Batch 2900, Loss: 16.980998992919922\n",
      "Batch 3000, Loss: 15.928128242492676\n",
      "Batch 3100, Loss: 16.41744613647461\n",
      "Average Training Loss: 16.406359332511748\n",
      "Average Validation Loss: 17.242679794798505\n",
      "Epoch 3/5\n",
      "----------\n",
      "Batch 0, Loss: 16.442758560180664\n",
      "Batch 100, Loss: 16.340145111083984\n",
      "Batch 200, Loss: 16.17850112915039\n",
      "Batch 300, Loss: 15.636828422546387\n",
      "Batch 400, Loss: 16.30091667175293\n",
      "Batch 500, Loss: 15.703648567199707\n",
      "Batch 600, Loss: 16.817485809326172\n",
      "Batch 700, Loss: 16.13115119934082\n",
      "Batch 800, Loss: 15.90812873840332\n",
      "Batch 900, Loss: 15.606721878051758\n",
      "Batch 1000, Loss: 14.833882331848145\n",
      "Batch 1100, Loss: 17.07045555114746\n",
      "Batch 1200, Loss: 16.84347915649414\n",
      "Batch 1300, Loss: 15.970693588256836\n",
      "Batch 1400, Loss: 15.05158805847168\n",
      "Batch 1500, Loss: 16.85891342163086\n",
      "Batch 1600, Loss: 15.876814842224121\n",
      "Batch 1700, Loss: 17.201400756835938\n",
      "Batch 1800, Loss: 16.57477378845215\n",
      "Batch 1900, Loss: 16.158029556274414\n",
      "Batch 2000, Loss: 16.156044006347656\n",
      "Batch 2100, Loss: 15.21932601928711\n",
      "Batch 2200, Loss: 15.702218055725098\n",
      "Batch 2300, Loss: 14.961347579956055\n",
      "Batch 2400, Loss: 15.931276321411133\n",
      "Batch 2500, Loss: 15.879659652709961\n",
      "Batch 2600, Loss: 14.675718307495117\n",
      "Batch 2700, Loss: 15.736172676086426\n",
      "Batch 2800, Loss: 14.511093139648438\n",
      "Batch 2900, Loss: 14.997105598449707\n",
      "Batch 3000, Loss: 16.366182327270508\n",
      "Batch 3100, Loss: 16.459333419799805\n",
      "Average Training Loss: 16.125747591181263\n",
      "Average Validation Loss: 17.25317056534138\n",
      "Epoch 4/5\n",
      "----------\n",
      "Batch 0, Loss: 15.870070457458496\n",
      "Batch 100, Loss: 15.80721664428711\n",
      "Batch 200, Loss: 14.679998397827148\n",
      "Batch 300, Loss: 15.729659080505371\n",
      "Batch 400, Loss: 16.64041519165039\n",
      "Batch 500, Loss: 15.344439506530762\n",
      "Batch 600, Loss: 15.198534965515137\n",
      "Batch 700, Loss: 15.582479476928711\n",
      "Batch 800, Loss: 16.316076278686523\n",
      "Batch 900, Loss: 16.123790740966797\n",
      "Batch 1000, Loss: 16.24156951904297\n",
      "Batch 1100, Loss: 16.9173583984375\n",
      "Batch 1200, Loss: 17.6323184967041\n",
      "Batch 1300, Loss: 17.526493072509766\n",
      "Batch 1400, Loss: 16.454227447509766\n",
      "Batch 1500, Loss: 15.328865051269531\n",
      "Batch 1600, Loss: 15.756547927856445\n",
      "Batch 1700, Loss: 15.365116119384766\n",
      "Batch 1800, Loss: 16.932323455810547\n",
      "Batch 1900, Loss: 14.96581745147705\n",
      "Batch 2000, Loss: 17.025257110595703\n",
      "Batch 2100, Loss: 14.359028816223145\n",
      "Batch 2200, Loss: 15.4908447265625\n",
      "Batch 2300, Loss: 14.270803451538086\n",
      "Batch 2400, Loss: 15.457601547241211\n",
      "Batch 2500, Loss: 16.066570281982422\n",
      "Batch 2600, Loss: 16.018436431884766\n",
      "Batch 2700, Loss: 14.72355842590332\n",
      "Batch 2800, Loss: 15.18707275390625\n",
      "Batch 2900, Loss: 17.5682430267334\n",
      "Batch 3000, Loss: 14.96522045135498\n",
      "Batch 3100, Loss: 14.966793060302734\n",
      "Average Training Loss: 15.999661623673282\n",
      "Average Validation Loss: 17.20119165866933\n",
      "Epoch 5/5\n",
      "----------\n",
      "Batch 0, Loss: 14.89886474609375\n",
      "Batch 100, Loss: 16.357791900634766\n",
      "Batch 200, Loss: 16.54960823059082\n",
      "Batch 300, Loss: 15.907461166381836\n",
      "Batch 400, Loss: 16.28009796142578\n",
      "Batch 500, Loss: 15.692704200744629\n",
      "Batch 600, Loss: 16.88642120361328\n",
      "Batch 700, Loss: 16.01293182373047\n",
      "Batch 800, Loss: 16.539073944091797\n",
      "Batch 900, Loss: 16.001766204833984\n",
      "Batch 1000, Loss: 14.806217193603516\n",
      "Batch 1100, Loss: 16.67855453491211\n",
      "Batch 1200, Loss: 16.428348541259766\n",
      "Batch 1300, Loss: 15.600652694702148\n",
      "Batch 1400, Loss: 15.657073020935059\n",
      "Batch 1500, Loss: 17.0498104095459\n",
      "Batch 1600, Loss: 16.52259063720703\n",
      "Batch 1700, Loss: 15.834907531738281\n",
      "Batch 1800, Loss: 16.42463493347168\n",
      "Batch 1900, Loss: 15.907404899597168\n",
      "Batch 2000, Loss: 16.198341369628906\n",
      "Batch 2100, Loss: 14.814130783081055\n",
      "Batch 2200, Loss: 16.110305786132812\n",
      "Batch 2300, Loss: 15.868093490600586\n",
      "Batch 2400, Loss: 16.04062271118164\n",
      "Batch 2500, Loss: 15.707560539245605\n",
      "Batch 2600, Loss: 16.468021392822266\n",
      "Batch 2700, Loss: 15.780167579650879\n",
      "Batch 2800, Loss: 15.219808578491211\n",
      "Batch 2900, Loss: 15.323055267333984\n",
      "Batch 3000, Loss: 15.31728744506836\n",
      "Batch 3100, Loss: 16.29775619506836\n",
      "Average Training Loss: 15.923891479125762\n",
      "Average Validation Loss: 17.048670214795052\n"
     ]
    }
   ],
   "source": [
    "def train_one_epoch(model, dataloader, loss_fn, optimizer, device):\n",
    "    model.train()\n",
    "    total_loss = 0\n",
    "    for batch, (X, y, _, _) in enumerate(dataloader):\n",
    "        X, y = X.to(device), y.to(device)\n",
    "\n",
    "        pred = model(X)\n",
    "        loss = loss_fn(pred, y)\n",
    "\n",
    "        optimizer.zero_grad()\n",
    "        loss.backward()\n",
    "        optimizer.step()\n",
    "\n",
    "        total_loss += loss.item()\n",
    "\n",
    "        if batch % 100 == 0:\n",
    "            print(f\"Batch {batch}, Loss: {loss.item()}\")\n",
    "\n",
    "    avg_loss = total_loss / len(dataloader)\n",
    "    print(f\"Average Training Loss: {avg_loss}\")\n",
    "    return avg_loss\n",
    "\n",
    "def validate(model, dataloader, loss_fn, device):\n",
    "    model.eval()\n",
    "    total_loss = 0\n",
    "    with torch.no_grad():\n",
    "        for X, y, _, _ in dataloader:\n",
    "            X, y = X.to(device), y.to(device)\n",
    "            pred = model(X)\n",
    "            loss = loss_fn(pred, y)\n",
    "            total_loss += loss.item()\n",
    "\n",
    "    avg_loss = total_loss / len(dataloader)\n",
    "    print(f\"Average Validation Loss: {avg_loss}\")\n",
    "    return avg_loss\n",
    "\n",
    "device = torch.device(\"cuda\" if torch.cuda.is_available() else \"cpu\")\n",
    "model.to(device)\n",
    "\n",
    "epochs = 5\n",
    "\n",
    "for epoch in range(epochs):\n",
    "    print(f\"Epoch {epoch+1}/{epochs}\")\n",
    "    print(\"-\" * 10)\n",
    "    train_loss = train_one_epoch(model, train_loader, loss_fn, optimizer, device)\n",
    "    val_loss = validate(model, val_loader, loss_fn, device)\n"
   ]
  },
  {
   "cell_type": "code",
   "execution_count": 13,
   "id": "4700d82b",
   "metadata": {
    "execution": {
     "iopub.execute_input": "2024-03-24T05:58:45.536236Z",
     "iopub.status.busy": "2024-03-24T05:58:45.535877Z",
     "iopub.status.idle": "2024-03-24T05:58:45.583288Z",
     "shell.execute_reply": "2024-03-24T05:58:45.582533Z"
    },
    "id": "cT7dvhsmHuPp",
    "papermill": {
     "duration": 0.127856,
     "end_time": "2024-03-24T05:58:45.585330",
     "exception": false,
     "start_time": "2024-03-24T05:58:45.457474",
     "status": "completed"
    },
    "tags": []
   },
   "outputs": [],
   "source": [
    "torch.save(model.state_dict(), \"mobilenet_model.pth\")"
   ]
  },
  {
   "cell_type": "code",
   "execution_count": null,
   "id": "988d661f",
   "metadata": {
    "papermill": {
     "duration": 0.077554,
     "end_time": "2024-03-24T05:58:45.740199",
     "exception": false,
     "start_time": "2024-03-24T05:58:45.662645",
     "status": "completed"
    },
    "tags": []
   },
   "outputs": [],
   "source": []
  }
 ],
 "metadata": {
  "colab": {
   "provenance": []
  },
  "kaggle": {
   "accelerator": "gpu",
   "dataSources": [],
   "dockerImageVersionId": 30674,
   "isGpuEnabled": true,
   "isInternetEnabled": true,
   "language": "python",
   "sourceType": "notebook"
  },
  "kernelspec": {
   "display_name": "Python 3",
   "language": "python",
   "name": "python3"
  },
  "language_info": {
   "codemirror_mode": {
    "name": "ipython",
    "version": 3
   },
   "file_extension": ".py",
   "mimetype": "text/x-python",
   "name": "python",
   "nbconvert_exporter": "python",
   "pygments_lexer": "ipython3",
   "version": "3.10.13"
  },
  "papermill": {
   "default_parameters": {},
   "duration": 2636.405041,
   "end_time": "2024-03-24T05:58:48.512518",
   "environment_variables": {},
   "exception": null,
   "input_path": "__notebook__.ipynb",
   "output_path": "__notebook__.ipynb",
   "parameters": {},
   "start_time": "2024-03-24T05:14:52.107477",
   "version": "2.5.0"
  }
 },
 "nbformat": 4,
 "nbformat_minor": 5
}
