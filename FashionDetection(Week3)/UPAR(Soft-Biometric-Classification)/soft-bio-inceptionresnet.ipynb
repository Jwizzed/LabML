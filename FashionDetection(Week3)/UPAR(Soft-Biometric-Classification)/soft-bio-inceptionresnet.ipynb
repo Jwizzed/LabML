{
 "cells": [
  {
   "cell_type": "code",
   "execution_count": 1,
   "id": "9883c49d",
   "metadata": {
    "execution": {
     "iopub.execute_input": "2024-03-24T05:37:32.654492Z",
     "iopub.status.busy": "2024-03-24T05:37:32.654085Z",
     "iopub.status.idle": "2024-03-24T05:37:35.403173Z",
     "shell.execute_reply": "2024-03-24T05:37:35.402081Z"
    },
    "id": "PfgBeuAevIXc",
    "outputId": "940c3dce-bd09-4aea-eef9-8c79207167be",
    "papermill": {
     "duration": 2.759335,
     "end_time": "2024-03-24T05:37:35.405847",
     "exception": false,
     "start_time": "2024-03-24T05:37:32.646512",
     "status": "completed"
    },
    "tags": []
   },
   "outputs": [
    {
     "name": "stdout",
     "output_type": "stream",
     "text": [
      "Cloning into 'upar_dataset'...\r\n",
      "remote: Enumerating objects: 16, done.\u001b[K\r\n",
      "remote: Counting objects: 100% (16/16), done.\u001b[K\r\n",
      "remote: Compressing objects: 100% (12/12), done.\u001b[K\r\n",
      "remote: Total 16 (delta 1), reused 6 (delta 0), pack-reused 0\u001b[K\r\n",
      "Unpacking objects: 100% (16/16), 4.87 MiB | 4.49 MiB/s, done.\r\n"
     ]
    }
   ],
   "source": [
    "!git clone https://github.com/speckean/upar_dataset.git"
   ]
  },
  {
   "cell_type": "markdown",
   "id": "c649f217",
   "metadata": {
    "id": "N-Qkzag4vzzN",
    "papermill": {
     "duration": 0.00614,
     "end_time": "2024-03-24T05:37:35.418864",
     "exception": false,
     "start_time": "2024-03-24T05:37:35.412724",
     "status": "completed"
    },
    "tags": []
   },
   "source": [
    "# Import Tools"
   ]
  },
  {
   "cell_type": "code",
   "execution_count": 2,
   "id": "0ff74539",
   "metadata": {
    "execution": {
     "iopub.execute_input": "2024-03-24T05:37:35.433812Z",
     "iopub.status.busy": "2024-03-24T05:37:35.432768Z",
     "iopub.status.idle": "2024-03-24T05:37:42.221153Z",
     "shell.execute_reply": "2024-03-24T05:37:42.220091Z"
    },
    "id": "qPx3W0h-vT97",
    "papermill": {
     "duration": 6.798511,
     "end_time": "2024-03-24T05:37:42.223701",
     "exception": false,
     "start_time": "2024-03-24T05:37:35.425190",
     "status": "completed"
    },
    "tags": []
   },
   "outputs": [],
   "source": [
    "import os\n",
    "import pickle\n",
    "import glob\n",
    "import random\n",
    "\n",
    "import numpy as np\n",
    "import torch.utils.data as data\n",
    "from PIL import Image\n",
    "\n",
    "import torchvision.transforms as T\n",
    "\n",
    "from torch.utils.data import DataLoader\n",
    "\n",
    "import torch\n",
    "import torch.nn as nn\n",
    "import torch.optim as optim\n",
    "from torchvision import models"
   ]
  },
  {
   "cell_type": "code",
   "execution_count": 3,
   "id": "01b66c2b",
   "metadata": {
    "execution": {
     "iopub.execute_input": "2024-03-24T05:37:42.237797Z",
     "iopub.status.busy": "2024-03-24T05:37:42.237345Z",
     "iopub.status.idle": "2024-03-24T05:37:42.245431Z",
     "shell.execute_reply": "2024-03-24T05:37:42.244462Z"
    },
    "id": "g3cYG_hs_bhO",
    "outputId": "f79cb5d2-c440-46b4-8db0-44f1532b73ba",
    "papermill": {
     "duration": 0.017803,
     "end_time": "2024-03-24T05:37:42.247741",
     "exception": false,
     "start_time": "2024-03-24T05:37:42.229938",
     "status": "completed"
    },
    "tags": []
   },
   "outputs": [
    {
     "data": {
      "text/plain": [
       "'/kaggle/working'"
      ]
     },
     "execution_count": 3,
     "metadata": {},
     "output_type": "execute_result"
    }
   ],
   "source": [
    "HOME = os.getcwd()\n",
    "HOME"
   ]
  },
  {
   "cell_type": "markdown",
   "id": "620850e8",
   "metadata": {
    "id": "lUdsEedzid6v",
    "papermill": {
     "duration": 0.006357,
     "end_time": "2024-03-24T05:37:42.260846",
     "exception": false,
     "start_time": "2024-03-24T05:37:42.254489",
     "status": "completed"
    },
    "tags": []
   },
   "source": [
    "# Dataset"
   ]
  },
  {
   "cell_type": "markdown",
   "id": "6ea4eb3b",
   "metadata": {
    "id": "96_bEv_IiiA6",
    "papermill": {
     "duration": 0.006216,
     "end_time": "2024-03-24T05:37:42.273530",
     "exception": false,
     "start_time": "2024-03-24T05:37:42.267314",
     "status": "completed"
    },
    "tags": []
   },
   "source": [
    "## Get a data"
   ]
  },
  {
   "cell_type": "code",
   "execution_count": 4,
   "id": "69957df0",
   "metadata": {
    "execution": {
     "iopub.execute_input": "2024-03-24T05:37:42.288747Z",
     "iopub.status.busy": "2024-03-24T05:37:42.287833Z",
     "iopub.status.idle": "2024-03-24T05:37:58.069471Z",
     "shell.execute_reply": "2024-03-24T05:37:58.068386Z"
    },
    "id": "oRRDnWjIi-zS",
    "outputId": "89e7bd3d-ce24-4a17-c47d-3db23c5491fc",
    "papermill": {
     "duration": 15.79207,
     "end_time": "2024-03-24T05:37:58.072193",
     "exception": false,
     "start_time": "2024-03-24T05:37:42.280123",
     "status": "completed"
    },
    "tags": []
   },
   "outputs": [
    {
     "name": "stdout",
     "output_type": "stream",
     "text": [
      "Cloning into 'upar_challenge'...\r\n",
      "remote: Enumerating objects: 49, done.\u001b[K\r\n",
      "remote: Counting objects: 100% (49/49), done.\u001b[K\r\n",
      "remote: Compressing objects: 100% (38/38), done.\u001b[K\r\n",
      "remote: Total 49 (delta 14), reused 40 (delta 10), pack-reused 0\u001b[K\r\n",
      "Unpacking objects: 100% (49/49), 144.37 KiB | 2.33 MiB/s, done.\r\n",
      "/kaggle/working/upar_challenge\n",
      "Requirement already satisfied: tqdm in /opt/conda/lib/python3.10/site-packages (4.66.1)\r\n",
      "Collecting gdown\r\n",
      "  Downloading gdown-5.1.0-py3-none-any.whl.metadata (5.7 kB)\r\n",
      "Requirement already satisfied: requests in /opt/conda/lib/python3.10/site-packages (2.31.0)\r\n",
      "Requirement already satisfied: beautifulsoup4 in /opt/conda/lib/python3.10/site-packages (from gdown) (4.12.2)\r\n",
      "Requirement already satisfied: filelock in /opt/conda/lib/python3.10/site-packages (from gdown) (3.13.1)\r\n",
      "Requirement already satisfied: charset-normalizer<4,>=2 in /opt/conda/lib/python3.10/site-packages (from requests) (3.3.2)\r\n",
      "Requirement already satisfied: idna<4,>=2.5 in /opt/conda/lib/python3.10/site-packages (from requests) (3.6)\r\n",
      "Requirement already satisfied: urllib3<3,>=1.21.1 in /opt/conda/lib/python3.10/site-packages (from requests) (1.26.18)\r\n",
      "Requirement already satisfied: certifi>=2017.4.17 in /opt/conda/lib/python3.10/site-packages (from requests) (2024.2.2)\r\n",
      "Requirement already satisfied: soupsieve>1.2 in /opt/conda/lib/python3.10/site-packages (from beautifulsoup4->gdown) (2.5)\r\n",
      "Requirement already satisfied: PySocks!=1.5.7,>=1.5.6 in /opt/conda/lib/python3.10/site-packages (from requests[socks]->gdown) (1.7.1)\r\n",
      "Downloading gdown-5.1.0-py3-none-any.whl (17 kB)\r\n",
      "Installing collected packages: gdown\r\n",
      "Successfully installed gdown-5.1.0\r\n"
     ]
    }
   ],
   "source": [
    "!git clone https://github.com/speckean/upar_challenge.git\n",
    "%cd upar_challenge\n",
    "!pip install tqdm gdown requests"
   ]
  },
  {
   "cell_type": "code",
   "execution_count": 5,
   "id": "d30e4c4a",
   "metadata": {
    "execution": {
     "iopub.execute_input": "2024-03-24T05:37:58.089618Z",
     "iopub.status.busy": "2024-03-24T05:37:58.089251Z",
     "iopub.status.idle": "2024-03-24T05:38:48.961441Z",
     "shell.execute_reply": "2024-03-24T05:38:48.960279Z"
    },
    "id": "6vrUotcziocm",
    "outputId": "2d7bdb8c-f538-44be-e008-4aadf50c74ed",
    "papermill": {
     "duration": 50.883986,
     "end_time": "2024-03-24T05:38:48.964092",
     "exception": false,
     "start_time": "2024-03-24T05:37:58.080106",
     "status": "completed"
    },
    "tags": []
   },
   "outputs": [
    {
     "name": "stdout",
     "output_type": "stream",
     "text": [
      "Download Market 1501 dataset\r\n",
      "Downloading...\r\n",
      "From (original): https://drive.google.com/uc?id=0B8-rUzbwVRk0c054eEozWG9COHM\r\n",
      "From (redirected): https://drive.google.com/uc?id=0B8-rUzbwVRk0c054eEozWG9COHM&confirm=t&uuid=1ee72840-83e7-4230-b095-c1132d728bc1\r\n",
      "To: /kaggle/working/upar_challenge/data/market_1501.zip\r\n",
      "100%|█████████████████████████████████████████| 153M/153M [00:01<00:00, 121MB/s]\r\n",
      "Extract Market 1501 dataset\r\n",
      "Extracting : 100%|██████████████████████| 68042/68042 [00:08<00:00, 7719.18it/s]\r\n",
      "Download PA100k dataset\r\n",
      "Retrieving folder contents\r\n",
      "Processing file 1dt5nteusNfCVrjAkffLK1sbh4hTLM8tl annotation.zip\r\n",
      "Processing file 1Bod3MrbdCRiSvpR7NSOYi-rF3-ushwtj data.zip\r\n",
      "Processing file 1zmQkoN2YJgbclT990ihj_DYU29YAidey README.txt\r\n",
      "Retrieving folder contents completed\r\n",
      "Building directory structure\r\n",
      "Building directory structure completed\r\n",
      "Downloading...\r\n",
      "From: https://drive.google.com/uc?id=1dt5nteusNfCVrjAkffLK1sbh4hTLM8tl\r\n",
      "To: /kaggle/working/upar_challenge/data/PA100k/annotation.zip\r\n",
      "100%|████████████████████████████████████████| 339k/339k [00:00<00:00, 95.0MB/s]\r\n",
      "Downloading...\r\n",
      "From (original): https://drive.google.com/uc?id=1Bod3MrbdCRiSvpR7NSOYi-rF3-ushwtj\r\n",
      "From (redirected): https://drive.google.com/uc?id=1Bod3MrbdCRiSvpR7NSOYi-rF3-ushwtj&confirm=t&uuid=2f50810b-7e29-466e-be21-c7aa907585f4\r\n",
      "To: /kaggle/working/upar_challenge/data/PA100k/data.zip\r\n",
      "100%|█████████████████████████████████████████| 451M/451M [00:01<00:00, 257MB/s]\r\n",
      "Downloading...\r\n",
      "From: https://drive.google.com/uc?id=1zmQkoN2YJgbclT990ihj_DYU29YAidey\r\n",
      "To: /kaggle/working/upar_challenge/data/PA100k/README.txt\r\n",
      "100%|██████████████████████████████████████████| 794/794 [00:00<00:00, 4.22MB/s]\r\n",
      "Download completed\r\n",
      "Extract PA100k dataset\r\n",
      "Extracting : 100%|████████████████████| 100001/100001 [00:15<00:00, 6459.30it/s]\r\n",
      "Download PETA dataset\r\n",
      "* url=\"https://www.dropbox.com/s/52ylx522hwbdxz6/PETA.zip?dl=1\"\r\n",
      "* destination=\"data/PETA/peta.zip\"\r\n",
      "...100%, 224 MB, 151207 KB/s, 1 seconds passed\r\n",
      "Extract PETA dataset\r\n",
      "Extracting : 100%|██████████████████████| 19032/19032 [00:04<00:00, 4524.60it/s]\r\n",
      "19010it [00:01, 14500.75it/s]\r\n",
      "Download annotations\r\n",
      "Downloading...\r\n",
      "From: https://drive.google.com/uc?id=1FMX9nUrXArxW4wkORO6Z7zp7xy7JBjUM\r\n",
      "To: /kaggle/working/upar_challenge/data/annotations/development.zip\r\n",
      "100%|████████████████████████████████████████| 918k/918k [00:00<00:00, 95.9MB/s]\r\n",
      "Extract annotations\r\n",
      "Extracting : 100%|███████████████████████████████| 8/8 [00:00<00:00, 154.36it/s]\r\n",
      "Download templates\r\n",
      "Downloading...\r\n",
      "From (original): https://drive.google.com/uc?id=11ZxT8kixkV-vAj8aixS8n2aGJ5Rw0OQy\r\n",
      "From (redirected): https://drive.google.com/uc?id=11ZxT8kixkV-vAj8aixS8n2aGJ5Rw0OQy&confirm=t&uuid=622d64a4-64c7-4b7e-85a0-c95d03df45c7\r\n",
      "To: /kaggle/working/upar_challenge/submission_templates.zip\r\n",
      "100%|█████████████████████████████████████████| 300M/300M [00:01<00:00, 284MB/s]\r\n",
      "Extract templates\r\n",
      "Extracting : 100%|████████████████████████████████| 5/5 [00:04<00:00,  1.02it/s]\r\n",
      "/kaggle/working\n"
     ]
    }
   ],
   "source": [
    "!python3 download_datasets.py\n",
    "%cd {HOME}\n",
    "!mv upar_challenge/data ."
   ]
  },
  {
   "cell_type": "code",
   "execution_count": 6,
   "id": "ece41be9",
   "metadata": {
    "execution": {
     "iopub.execute_input": "2024-03-24T05:38:49.123123Z",
     "iopub.status.busy": "2024-03-24T05:38:49.122709Z",
     "iopub.status.idle": "2024-03-24T05:38:49.130636Z",
     "shell.execute_reply": "2024-03-24T05:38:49.129610Z"
    },
    "id": "PYxNcR4XyKL0",
    "outputId": "457e5b22-fb5d-466e-faf5-334207115f4b",
    "papermill": {
     "duration": 0.090484,
     "end_time": "2024-03-24T05:38:49.133012",
     "exception": false,
     "start_time": "2024-03-24T05:38:49.042528",
     "status": "completed"
    },
    "tags": []
   },
   "outputs": [
    {
     "name": "stdout",
     "output_type": "stream",
     "text": [
      "Directory renamed from 'data/PA100k/release_data/release_data' to 'data/PA100k/data'\n"
     ]
    }
   ],
   "source": [
    "current_dir_path = 'data/PA100k/release_data/release_data'\n",
    "new_dir_path = 'data/PA100k/data'\n",
    "\n",
    "\n",
    "if os.path.exists(current_dir_path):\n",
    "    if not os.path.exists(new_dir_path):\n",
    "        os.rename(current_dir_path, new_dir_path)\n",
    "        print(f\"Directory renamed from '{current_dir_path}' to '{new_dir_path}'\")\n",
    "\n",
    "    else:\n",
    "        print(f\"The target directory '{new_dir_path}' already exists.\")\n",
    "else:\n",
    "    print(f\"The directory '{current_dir_path}' does not exist.\")"
   ]
  },
  {
   "cell_type": "markdown",
   "id": "a125616d",
   "metadata": {
    "id": "Ipq3tXRkijzw",
    "papermill": {
     "duration": 0.073196,
     "end_time": "2024-03-24T05:38:49.282200",
     "exception": false,
     "start_time": "2024-03-24T05:38:49.209004",
     "status": "completed"
    },
    "tags": []
   },
   "source": [
    "## Construct dataset/dataloader"
   ]
  },
  {
   "cell_type": "code",
   "execution_count": 7,
   "id": "dea902f7",
   "metadata": {
    "execution": {
     "iopub.execute_input": "2024-03-24T05:38:49.434847Z",
     "iopub.status.busy": "2024-03-24T05:38:49.434471Z",
     "iopub.status.idle": "2024-03-24T05:38:49.454384Z",
     "shell.execute_reply": "2024-03-24T05:38:49.453153Z"
    },
    "id": "7Y15r_o5v07f",
    "papermill": {
     "duration": 0.099283,
     "end_time": "2024-03-24T05:38:49.457052",
     "exception": false,
     "start_time": "2024-03-24T05:38:49.357769",
     "status": "completed"
    },
    "tags": []
   },
   "outputs": [],
   "source": [
    "\n",
    "class UPAR(data.Dataset):\n",
    "  \"\"\"\n",
    "  Load UPAR dataset from pickle file\n",
    "\n",
    "  split: whether to use train/val/trainval/test split\n",
    "  partition: partition id 0-9\n",
    "  root: path to datasets, original datasets must be in this directory\n",
    "  data_path: path to UPAR pickle file\n",
    "  transform: training data transforms\n",
    "  target_transforms: evaluation data transforms\n",
    "  \"\"\"\n",
    "  def __init__(self, split='train', partition=0, root=HOME, data_path='/kaggle/working/upar_dataset/UPAR/dataset_all.pkl', transform=None, target_transform=None):\n",
    "    dataset_info = pickle.load(open(data_path, 'rb+'))\n",
    "    self.dataset_info = dataset_info\n",
    "\n",
    "    img_id = dataset_info.image_name\n",
    "    attr_label = dataset_info.label\n",
    "\n",
    "    assert split in dataset_info.partition.keys(), f'split {split} does not exist'\n",
    "\n",
    "    self.dataset = 'UPAR'\n",
    "    self.transform = transform  # data transforms during training\n",
    "    self.target_transform = target_transform  # data transforms during testing\n",
    "\n",
    "    self.root_path = root+\"/data\"  # path to datasets\n",
    "\n",
    "    self.attr_id = dataset_info.attr_name  # attribute names\n",
    "    self.attr_num = len(self.attr_id)  # number of attributes\n",
    "\n",
    "\t\t# load partition\n",
    "    self.img_idx = dataset_info.partition[split]\n",
    "\n",
    "    if isinstance(self.img_idx, list):\n",
    "      self.img_idx = self.img_idx[partition]\n",
    "\n",
    "    if isinstance(self.img_idx, list):\n",
    "      self.img_idx = np.hstack(self.img_idx)\n",
    "\n",
    "    self.img_idx = np.array([i for i in self.img_idx if not any(folder in img_id[i] for folder in [\"RAP\"])])\n",
    "\n",
    "\n",
    "    self.img_num = self.img_idx.shape[0]\n",
    "    self.img_id = [img_id[i] for i in self.img_idx]\n",
    "    self.label = attr_label[self.img_idx]\n",
    "\n",
    "    # set sub-dataset lengths to enable evaluation on sub-datasets\n",
    "    self.sub_dataset_lengths = [len(d) for d in dataset_info.partition.test[partition]]\n",
    "\n",
    "\n",
    "  def __getitem__(self, index):\n",
    "      \"\"\"\n",
    "      get dataset item by index\n",
    "\n",
    "      index: item index\n",
    "      return: image data (img) with corresponding ground truth labels (gt_label), dataset id (did), and image path (imgname)\n",
    "      \"\"\"\n",
    "      imgname, gt_label, imgidx = self.img_id[index], self.label[index], self.img_idx[index]\n",
    "      did = self.dataset_info.dataset_ids[imgidx]\n",
    "      imgpath = os.path.join(self.root_path, imgname)\n",
    "      img = Image.open(imgpath)\n",
    "\n",
    "      if self.transform is not None:\n",
    "          img = self.transform(img)\n",
    "\n",
    "      gt_label = gt_label.astype(np.float32)\n",
    "\n",
    "      if self.target_transform is not None:\n",
    "          gt_label = self.transform(gt_label)\n",
    "\n",
    "      return img, gt_label, did, imgname\n",
    "\n",
    "\n",
    "  def __len__(self):\n",
    "    \"\"\"\n",
    "    get length of dataset\n",
    "    \"\"\"\n",
    "    return len(self.img_id)\n",
    "\n",
    "\n",
    "def get_transform(height, width):\n",
    "    normalize = T.Normalize(mean=[0.485, 0.456, 0.406], std=[0.229, 0.224, 0.225])\n",
    "    train_transform = [\n",
    "        T.Resize((height, width))\n",
    "    ]\n",
    "\n",
    "    train_transform += [\n",
    "        T.Pad(10),\n",
    "        T.RandomCrop((height, width)),\n",
    "        T.RandomHorizontalFlip(),\n",
    "    ]\n",
    "\n",
    "    train_transform += [\n",
    "        T.ToTensor(),\n",
    "        normalize,\n",
    "    ]\n",
    "    train_transform = T.Compose(train_transform)\n",
    "\n",
    "    valid_transform = T.Compose([\n",
    "        T.Resize((height, width)),\n",
    "        T.ToTensor(),\n",
    "        normalize\n",
    "    ])\n",
    "\n",
    "    return train_transform, valid_transform"
   ]
  },
  {
   "cell_type": "code",
   "execution_count": 8,
   "id": "a8edcb74",
   "metadata": {
    "execution": {
     "iopub.execute_input": "2024-03-24T05:38:49.749101Z",
     "iopub.status.busy": "2024-03-24T05:38:49.748638Z",
     "iopub.status.idle": "2024-03-24T05:38:50.890387Z",
     "shell.execute_reply": "2024-03-24T05:38:50.889087Z"
    },
    "id": "C__-utMewC83",
    "papermill": {
     "duration": 1.292092,
     "end_time": "2024-03-24T05:38:50.894104",
     "exception": false,
     "start_time": "2024-03-24T05:38:49.602012",
     "status": "completed"
    },
    "tags": []
   },
   "outputs": [],
   "source": [
    "height = 299 # For Inception\n",
    "width = 299\n",
    "train_transform, valid_transform = get_transform(height, width)\n",
    "\n",
    "\n",
    "train_dataset = UPAR(split='train', partition=0, transform=train_transform)\n",
    "val_dataset = UPAR(split='val', partition=0, transform=valid_transform)\n",
    "test_dataset = UPAR(split='test', partition=0, transform=valid_transform)\n"
   ]
  },
  {
   "cell_type": "code",
   "execution_count": 9,
   "id": "8202c30f",
   "metadata": {
    "execution": {
     "iopub.execute_input": "2024-03-24T05:38:51.072215Z",
     "iopub.status.busy": "2024-03-24T05:38:51.071301Z",
     "iopub.status.idle": "2024-03-24T05:38:51.077577Z",
     "shell.execute_reply": "2024-03-24T05:38:51.076601Z"
    },
    "id": "bAwTtSBfwpBn",
    "papermill": {
     "duration": 0.090563,
     "end_time": "2024-03-24T05:38:51.079889",
     "exception": false,
     "start_time": "2024-03-24T05:38:50.989326",
     "status": "completed"
    },
    "tags": []
   },
   "outputs": [],
   "source": [
    "batch_size = 32 \n",
    "train_loader = DataLoader(train_dataset, batch_size=batch_size, shuffle=True)\n",
    "val_loader = DataLoader(val_dataset, batch_size=batch_size, shuffle=False)\n",
    "test_loader = DataLoader(test_dataset, batch_size=batch_size, shuffle=False)"
   ]
  },
  {
   "cell_type": "markdown",
   "id": "1271535a",
   "metadata": {
    "id": "zYqxrG3p_sc0",
    "papermill": {
     "duration": 0.074973,
     "end_time": "2024-03-24T05:38:51.233302",
     "exception": false,
     "start_time": "2024-03-24T05:38:51.158329",
     "status": "completed"
    },
    "tags": []
   },
   "source": [
    "# Model"
   ]
  },
  {
   "cell_type": "code",
   "execution_count": 10,
   "id": "14c86bfd",
   "metadata": {
    "execution": {
     "iopub.execute_input": "2024-03-24T05:38:51.391296Z",
     "iopub.status.busy": "2024-03-24T05:38:51.390493Z",
     "iopub.status.idle": "2024-03-24T05:38:52.850493Z",
     "shell.execute_reply": "2024-03-24T05:38:52.849410Z"
    },
    "id": "We87CAdU-cww",
    "papermill": {
     "duration": 1.542992,
     "end_time": "2024-03-24T05:38:52.853199",
     "exception": false,
     "start_time": "2024-03-24T05:38:51.310207",
     "status": "completed"
    },
    "tags": []
   },
   "outputs": [
    {
     "name": "stderr",
     "output_type": "stream",
     "text": [
      "/opt/conda/lib/python3.10/site-packages/torchvision/models/_utils.py:208: UserWarning: The parameter 'pretrained' is deprecated since 0.13 and may be removed in the future, please use 'weights' instead.\n",
      "  warnings.warn(\n",
      "/opt/conda/lib/python3.10/site-packages/torchvision/models/_utils.py:223: UserWarning: Arguments other than a weight enum or `None` for 'weights' are deprecated since 0.13 and may be removed in the future. The current behavior is equivalent to passing `weights=Inception_V3_Weights.IMAGENET1K_V1`. You can also use `weights=Inception_V3_Weights.DEFAULT` to get the most up-to-date weights.\n",
      "  warnings.warn(msg)\n",
      "Downloading: \"https://download.pytorch.org/models/inception_v3_google-0cc3c7bd.pth\" to /root/.cache/torch/hub/checkpoints/inception_v3_google-0cc3c7bd.pth\n",
      "100%|██████████| 104M/104M [00:00<00:00, 140MB/s] \n"
     ]
    }
   ],
   "source": [
    "num_attributes = 40\n",
    "model = models.inception_v3(pretrained=True)\n",
    "num_ftrs = model.fc.in_features\n",
    "model.fc = nn.Linear(num_ftrs, num_attributes)\n",
    "loss_fn = nn.CrossEntropyLoss()\n",
    "optimizer = optim.Adam(model.parameters(), lr=0.001)"
   ]
  },
  {
   "cell_type": "code",
   "execution_count": 11,
   "id": "b31de9e9",
   "metadata": {
    "execution": {
     "iopub.execute_input": "2024-03-24T05:38:53.015767Z",
     "iopub.status.busy": "2024-03-24T05:38:53.015388Z",
     "iopub.status.idle": "2024-03-24T07:29:38.760312Z",
     "shell.execute_reply": "2024-03-24T07:29:38.759100Z"
    },
    "id": "guhqNIXxHkHS",
    "outputId": "b6849ff6-53fc-4bac-97b2-8d80d4211774",
    "papermill": {
     "duration": 6645.928051,
     "end_time": "2024-03-24T07:29:38.858942",
     "exception": false,
     "start_time": "2024-03-24T05:38:52.930891",
     "status": "completed"
    },
    "tags": []
   },
   "outputs": [
    {
     "name": "stdout",
     "output_type": "stream",
     "text": [
      "Epoch 1/5\n",
      "----------\n",
      "Batch 0, Loss: 24.73872947692871\n",
      "Batch 100, Loss: 18.51519203186035\n",
      "Batch 200, Loss: 17.290149688720703\n",
      "Batch 300, Loss: 16.574020385742188\n",
      "Batch 400, Loss: 16.837387084960938\n",
      "Batch 500, Loss: 16.672607421875\n",
      "Batch 600, Loss: 18.445287704467773\n",
      "Batch 700, Loss: 19.07260513305664\n",
      "Batch 800, Loss: 17.488479614257812\n",
      "Batch 900, Loss: 17.121742248535156\n",
      "Batch 1000, Loss: 18.09394073486328\n",
      "Batch 1100, Loss: 18.37244415283203\n",
      "Batch 1200, Loss: 17.08738136291504\n",
      "Batch 1300, Loss: 16.98593521118164\n",
      "Batch 1400, Loss: 16.754724502563477\n",
      "Batch 1500, Loss: 17.402877807617188\n",
      "Batch 1600, Loss: 15.78946590423584\n",
      "Batch 1700, Loss: 17.94723129272461\n",
      "Batch 1800, Loss: 17.88703155517578\n",
      "Batch 1900, Loss: 18.735563278198242\n",
      "Batch 2000, Loss: 18.109668731689453\n",
      "Batch 2100, Loss: 15.379570960998535\n",
      "Batch 2200, Loss: 17.59271812438965\n",
      "Batch 2300, Loss: 16.99167251586914\n",
      "Batch 2400, Loss: 16.701719284057617\n",
      "Batch 2500, Loss: 15.697026252746582\n",
      "Batch 2600, Loss: 16.04145622253418\n",
      "Batch 2700, Loss: 16.797027587890625\n",
      "Batch 2800, Loss: 16.88983154296875\n",
      "Batch 2900, Loss: 16.114307403564453\n",
      "Batch 3000, Loss: 17.374160766601562\n",
      "Batch 3100, Loss: 16.460168838500977\n",
      "Average Training Loss: 17.23258658068174\n",
      "Average Validation Loss: 17.42298558823606\n",
      "Epoch 2/5\n",
      "----------\n",
      "Batch 0, Loss: 16.891088485717773\n",
      "Batch 100, Loss: 15.85693359375\n",
      "Batch 200, Loss: 17.02760887145996\n",
      "Batch 300, Loss: 16.842815399169922\n",
      "Batch 400, Loss: 16.405803680419922\n",
      "Batch 500, Loss: 16.864253997802734\n",
      "Batch 600, Loss: 17.121898651123047\n",
      "Batch 700, Loss: 17.16702651977539\n",
      "Batch 800, Loss: 16.121606826782227\n",
      "Batch 900, Loss: 15.313669204711914\n",
      "Batch 1000, Loss: 16.642898559570312\n",
      "Batch 1100, Loss: 15.911115646362305\n",
      "Batch 1200, Loss: 16.393497467041016\n",
      "Batch 1300, Loss: 16.202743530273438\n",
      "Batch 1400, Loss: 16.84039306640625\n",
      "Batch 1500, Loss: 17.21114158630371\n",
      "Batch 1600, Loss: 16.901491165161133\n",
      "Batch 1700, Loss: 16.821319580078125\n",
      "Batch 1800, Loss: 14.285634994506836\n",
      "Batch 1900, Loss: 16.002717971801758\n",
      "Batch 2000, Loss: 17.594072341918945\n",
      "Batch 2100, Loss: 15.941251754760742\n",
      "Batch 2200, Loss: 16.438579559326172\n",
      "Batch 2300, Loss: 16.510150909423828\n",
      "Batch 2400, Loss: 14.918968200683594\n",
      "Batch 2500, Loss: 15.479730606079102\n",
      "Batch 2600, Loss: 15.7779541015625\n",
      "Batch 2700, Loss: 16.715229034423828\n",
      "Batch 2800, Loss: 15.795536041259766\n",
      "Batch 2900, Loss: 16.100074768066406\n",
      "Batch 3000, Loss: 14.560087203979492\n",
      "Batch 3100, Loss: 16.963348388671875\n",
      "Average Training Loss: 16.248166484687165\n",
      "Average Validation Loss: 17.192544586100478\n",
      "Epoch 3/5\n",
      "----------\n",
      "Batch 0, Loss: 15.958873748779297\n",
      "Batch 100, Loss: 15.123624801635742\n",
      "Batch 200, Loss: 15.901436805725098\n",
      "Batch 300, Loss: 15.220711708068848\n",
      "Batch 400, Loss: 16.48040008544922\n",
      "Batch 500, Loss: 17.247901916503906\n",
      "Batch 600, Loss: 15.226118087768555\n",
      "Batch 700, Loss: 16.12420654296875\n",
      "Batch 800, Loss: 14.91639232635498\n",
      "Batch 900, Loss: 15.651435852050781\n",
      "Batch 1000, Loss: 16.346675872802734\n",
      "Batch 1100, Loss: 14.294611930847168\n",
      "Batch 1200, Loss: 16.05980682373047\n",
      "Batch 1300, Loss: 15.919807434082031\n",
      "Batch 1400, Loss: 15.700630187988281\n",
      "Batch 1500, Loss: 15.478147506713867\n",
      "Batch 1600, Loss: 16.613536834716797\n",
      "Batch 1700, Loss: 15.982995986938477\n",
      "Batch 1800, Loss: 15.488654136657715\n",
      "Batch 1900, Loss: 16.499181747436523\n",
      "Batch 2000, Loss: 17.691043853759766\n",
      "Batch 2100, Loss: 16.804363250732422\n",
      "Batch 2200, Loss: 15.537127494812012\n",
      "Batch 2300, Loss: 15.013127326965332\n",
      "Batch 2400, Loss: 15.574402809143066\n",
      "Batch 2500, Loss: 16.656171798706055\n",
      "Batch 2600, Loss: 16.159732818603516\n",
      "Batch 2700, Loss: 15.688187599182129\n",
      "Batch 2800, Loss: 15.096360206604004\n",
      "Batch 2900, Loss: 15.137977600097656\n",
      "Batch 3000, Loss: 15.645772933959961\n",
      "Batch 3100, Loss: 15.228036880493164\n",
      "Average Training Loss: 15.849446690416215\n",
      "Average Validation Loss: 16.960254429756326\n",
      "Epoch 4/5\n",
      "----------\n",
      "Batch 0, Loss: 15.577415466308594\n",
      "Batch 100, Loss: 15.158843994140625\n",
      "Batch 200, Loss: 16.417465209960938\n",
      "Batch 300, Loss: 15.07994270324707\n",
      "Batch 400, Loss: 15.392729759216309\n",
      "Batch 500, Loss: 16.461931228637695\n",
      "Batch 600, Loss: 15.971257209777832\n",
      "Batch 700, Loss: 16.3133487701416\n",
      "Batch 800, Loss: 15.755643844604492\n",
      "Batch 900, Loss: 16.585153579711914\n",
      "Batch 1000, Loss: 15.669326782226562\n",
      "Batch 1100, Loss: 14.9844331741333\n",
      "Batch 1200, Loss: 16.50354766845703\n",
      "Batch 1300, Loss: 15.349413871765137\n",
      "Batch 1400, Loss: 15.579683303833008\n",
      "Batch 1500, Loss: 14.25112533569336\n",
      "Batch 1600, Loss: 15.332181930541992\n",
      "Batch 1700, Loss: 14.981128692626953\n",
      "Batch 1800, Loss: 15.33263111114502\n",
      "Batch 1900, Loss: 16.943584442138672\n",
      "Batch 2000, Loss: 15.667484283447266\n",
      "Batch 2100, Loss: 15.775483131408691\n",
      "Batch 2200, Loss: 17.125551223754883\n",
      "Batch 2300, Loss: 15.547330856323242\n",
      "Batch 2400, Loss: 16.199874877929688\n",
      "Batch 2500, Loss: 16.835927963256836\n",
      "Batch 2600, Loss: 15.395917892456055\n",
      "Batch 2700, Loss: 14.705077171325684\n",
      "Batch 2800, Loss: 15.936866760253906\n",
      "Batch 2900, Loss: 16.135507583618164\n",
      "Batch 3000, Loss: 15.642760276794434\n",
      "Batch 3100, Loss: 16.160659790039062\n",
      "Average Training Loss: 15.571252963318473\n",
      "Average Validation Loss: 16.930334038430072\n",
      "Epoch 5/5\n",
      "----------\n",
      "Batch 0, Loss: 15.92885684967041\n",
      "Batch 100, Loss: 14.615961074829102\n",
      "Batch 200, Loss: 15.225509643554688\n",
      "Batch 300, Loss: 14.449125289916992\n",
      "Batch 400, Loss: 15.880975723266602\n",
      "Batch 500, Loss: 16.068906784057617\n",
      "Batch 600, Loss: 15.182119369506836\n",
      "Batch 700, Loss: 15.423664093017578\n",
      "Batch 800, Loss: 15.309494018554688\n",
      "Batch 900, Loss: 16.084980010986328\n",
      "Batch 1000, Loss: 15.126641273498535\n",
      "Batch 1100, Loss: 14.621574401855469\n",
      "Batch 1200, Loss: 15.853644371032715\n",
      "Batch 1300, Loss: 14.203391075134277\n",
      "Batch 1400, Loss: 15.3133544921875\n",
      "Batch 1500, Loss: 15.22464370727539\n",
      "Batch 1600, Loss: 15.473028182983398\n",
      "Batch 1700, Loss: 15.494635581970215\n",
      "Batch 1800, Loss: 15.493840217590332\n",
      "Batch 1900, Loss: 15.826542854309082\n",
      "Batch 2000, Loss: 14.015556335449219\n",
      "Batch 2100, Loss: 15.25974178314209\n",
      "Batch 2200, Loss: 14.665349006652832\n",
      "Batch 2300, Loss: 14.705012321472168\n",
      "Batch 2400, Loss: 15.590958595275879\n",
      "Batch 2500, Loss: 16.057924270629883\n",
      "Batch 2600, Loss: 14.914754867553711\n",
      "Batch 2700, Loss: 15.362255096435547\n",
      "Batch 2800, Loss: 17.401691436767578\n",
      "Batch 2900, Loss: 16.217792510986328\n",
      "Batch 3000, Loss: 15.536720275878906\n",
      "Batch 3100, Loss: 14.70722770690918\n",
      "Average Training Loss: 15.34973095816207\n",
      "Average Validation Loss: 17.018462150654894\n"
     ]
    }
   ],
   "source": [
    "def train_one_epoch(model, dataloader, loss_fn, optimizer, device):\n",
    "    model.train()\n",
    "    total_loss = 0\n",
    "    for batch, (X, y, _, _) in enumerate(dataloader):\n",
    "        X, y = X.to(device), y.to(device)\n",
    "\n",
    "        pred, _ = model(X)\n",
    "        loss = loss_fn(pred, y)\n",
    "\n",
    "        optimizer.zero_grad()\n",
    "        loss.backward()\n",
    "        optimizer.step()\n",
    "\n",
    "        total_loss += loss.item()\n",
    "\n",
    "        if batch % 100 == 0:\n",
    "            print(f\"Batch {batch}, Loss: {loss.item()}\")\n",
    "\n",
    "    avg_loss = total_loss / len(dataloader)\n",
    "    print(f\"Average Training Loss: {avg_loss}\")\n",
    "    return avg_loss\n",
    "\n",
    "def validate(model, dataloader, loss_fn, device):\n",
    "    model.eval()\n",
    "    total_loss = 0\n",
    "    with torch.no_grad():\n",
    "        for X, y, _, _ in dataloader:\n",
    "            X, y = X.to(device), y.to(device)\n",
    "            pred = model(X)\n",
    "            loss = loss_fn(pred, y)\n",
    "            total_loss += loss.item()\n",
    "\n",
    "    avg_loss = total_loss / len(dataloader)\n",
    "    print(f\"Average Validation Loss: {avg_loss}\")\n",
    "    return avg_loss\n",
    "\n",
    "device = torch.device(\"cuda\" if torch.cuda.is_available() else \"cpu\")\n",
    "model.to(device)\n",
    "\n",
    "epochs = 5\n",
    "\n",
    "for epoch in range(epochs):\n",
    "    print(f\"Epoch {epoch+1}/{epochs}\")\n",
    "    print(\"-\" * 10)\n",
    "    train_loss = train_one_epoch(model, train_loader, loss_fn, optimizer, device)\n",
    "    val_loss = validate(model, val_loader, loss_fn, device)\n"
   ]
  },
  {
   "cell_type": "code",
   "execution_count": 12,
   "id": "66cb1cb5",
   "metadata": {
    "execution": {
     "iopub.execute_input": "2024-03-24T07:29:39.055505Z",
     "iopub.status.busy": "2024-03-24T07:29:39.055088Z",
     "iopub.status.idle": "2024-03-24T07:29:39.262741Z",
     "shell.execute_reply": "2024-03-24T07:29:39.261774Z"
    },
    "id": "cT7dvhsmHuPp",
    "papermill": {
     "duration": 0.308066,
     "end_time": "2024-03-24T07:29:39.265485",
     "exception": false,
     "start_time": "2024-03-24T07:29:38.957419",
     "status": "completed"
    },
    "tags": []
   },
   "outputs": [],
   "source": [
    "torch.save(model.state_dict(), \"inceptionResnet.pth\")"
   ]
  },
  {
   "cell_type": "code",
   "execution_count": null,
   "id": "72a01f03",
   "metadata": {
    "papermill": {
     "duration": 0.097069,
     "end_time": "2024-03-24T07:29:39.458347",
     "exception": false,
     "start_time": "2024-03-24T07:29:39.361278",
     "status": "completed"
    },
    "tags": []
   },
   "outputs": [],
   "source": []
  }
 ],
 "metadata": {
  "colab": {
   "provenance": []
  },
  "kaggle": {
   "accelerator": "gpu",
   "dataSources": [],
   "dockerImageVersionId": 30674,
   "isGpuEnabled": true,
   "isInternetEnabled": true,
   "language": "python",
   "sourceType": "notebook"
  },
  "kernelspec": {
   "display_name": "Python 3",
   "language": "python",
   "name": "python3"
  },
  "language_info": {
   "codemirror_mode": {
    "name": "ipython",
    "version": 3
   },
   "file_extension": ".py",
   "mimetype": "text/x-python",
   "name": "python",
   "nbconvert_exporter": "python",
   "pygments_lexer": "ipython3",
   "version": "3.10.13"
  },
  "papermill": {
   "default_parameters": {},
   "duration": 6732.67468,
   "end_time": "2024-03-24T07:29:42.385663",
   "environment_variables": {},
   "exception": null,
   "input_path": "__notebook__.ipynb",
   "output_path": "__notebook__.ipynb",
   "parameters": {},
   "start_time": "2024-03-24T05:37:29.710983",
   "version": "2.5.0"
  }
 },
 "nbformat": 4,
 "nbformat_minor": 5
}
