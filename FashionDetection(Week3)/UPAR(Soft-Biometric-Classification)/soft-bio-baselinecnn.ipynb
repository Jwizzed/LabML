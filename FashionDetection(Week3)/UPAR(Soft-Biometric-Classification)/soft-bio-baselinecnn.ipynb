{
 "cells": [
  {
   "cell_type": "code",
   "execution_count": 1,
   "id": "f3d79377",
   "metadata": {
    "execution": {
     "iopub.execute_input": "2024-03-24T04:10:56.486843Z",
     "iopub.status.busy": "2024-03-24T04:10:56.486564Z",
     "iopub.status.idle": "2024-03-24T04:10:59.267949Z",
     "shell.execute_reply": "2024-03-24T04:10:59.266569Z"
    },
    "id": "PfgBeuAevIXc",
    "outputId": "940c3dce-bd09-4aea-eef9-8c79207167be",
    "papermill": {
     "duration": 2.792201,
     "end_time": "2024-03-24T04:10:59.271552",
     "exception": false,
     "start_time": "2024-03-24T04:10:56.479351",
     "status": "completed"
    },
    "tags": []
   },
   "outputs": [
    {
     "name": "stdout",
     "output_type": "stream",
     "text": [
      "Cloning into 'upar_dataset'...\r\n",
      "remote: Enumerating objects: 16, done.\u001b[K\r\n",
      "remote: Counting objects: 100% (16/16), done.\u001b[K\r\n",
      "remote: Compressing objects: 100% (12/12), done.\u001b[K\r\n",
      "remote: Total 16 (delta 1), reused 6 (delta 0), pack-reused 0\u001b[K\r\n",
      "Unpacking objects: 100% (16/16), 4.87 MiB | 4.53 MiB/s, done.\r\n"
     ]
    }
   ],
   "source": [
    "!git clone https://github.com/speckean/upar_dataset.git"
   ]
  },
  {
   "cell_type": "markdown",
   "id": "d37c5dd8",
   "metadata": {
    "id": "N-Qkzag4vzzN",
    "papermill": {
     "duration": 0.006223,
     "end_time": "2024-03-24T04:10:59.288053",
     "exception": false,
     "start_time": "2024-03-24T04:10:59.281830",
     "status": "completed"
    },
    "tags": []
   },
   "source": [
    "# Import Tools"
   ]
  },
  {
   "cell_type": "code",
   "execution_count": 2,
   "id": "a08800ac",
   "metadata": {
    "execution": {
     "iopub.execute_input": "2024-03-24T04:10:59.301919Z",
     "iopub.status.busy": "2024-03-24T04:10:59.301573Z",
     "iopub.status.idle": "2024-03-24T04:11:06.888272Z",
     "shell.execute_reply": "2024-03-24T04:11:06.887517Z"
    },
    "id": "qPx3W0h-vT97",
    "papermill": {
     "duration": 7.596493,
     "end_time": "2024-03-24T04:11:06.890586",
     "exception": false,
     "start_time": "2024-03-24T04:10:59.294093",
     "status": "completed"
    },
    "tags": []
   },
   "outputs": [],
   "source": [
    "import os\n",
    "import pickle\n",
    "import glob\n",
    "import random\n",
    "\n",
    "import numpy as np\n",
    "import torch.utils.data as data\n",
    "from PIL import Image\n",
    "\n",
    "import torchvision.transforms as T\n",
    "\n",
    "from torch.utils.data import DataLoader\n",
    "\n",
    "import torch\n",
    "import torch.nn as nn\n",
    "import torch.optim as optim\n",
    "from torch.optim.lr_scheduler import StepLR"
   ]
  },
  {
   "cell_type": "code",
   "execution_count": 3,
   "id": "aa0acbb5",
   "metadata": {
    "execution": {
     "iopub.execute_input": "2024-03-24T04:11:06.903917Z",
     "iopub.status.busy": "2024-03-24T04:11:06.903514Z",
     "iopub.status.idle": "2024-03-24T04:11:06.910108Z",
     "shell.execute_reply": "2024-03-24T04:11:06.909279Z"
    },
    "id": "g3cYG_hs_bhO",
    "outputId": "f79cb5d2-c440-46b4-8db0-44f1532b73ba",
    "papermill": {
     "duration": 0.015262,
     "end_time": "2024-03-24T04:11:06.912010",
     "exception": false,
     "start_time": "2024-03-24T04:11:06.896748",
     "status": "completed"
    },
    "tags": []
   },
   "outputs": [
    {
     "data": {
      "text/plain": [
       "'/kaggle/working'"
      ]
     },
     "execution_count": 3,
     "metadata": {},
     "output_type": "execute_result"
    }
   ],
   "source": [
    "HOME = os.getcwd()\n",
    "HOME"
   ]
  },
  {
   "cell_type": "markdown",
   "id": "8a752bb2",
   "metadata": {
    "id": "lUdsEedzid6v",
    "papermill": {
     "duration": 0.005696,
     "end_time": "2024-03-24T04:11:06.923807",
     "exception": false,
     "start_time": "2024-03-24T04:11:06.918111",
     "status": "completed"
    },
    "tags": []
   },
   "source": [
    "# Dataset"
   ]
  },
  {
   "cell_type": "markdown",
   "id": "a4d8604f",
   "metadata": {
    "id": "96_bEv_IiiA6",
    "papermill": {
     "duration": 0.005974,
     "end_time": "2024-03-24T04:11:06.935800",
     "exception": false,
     "start_time": "2024-03-24T04:11:06.929826",
     "status": "completed"
    },
    "tags": []
   },
   "source": [
    "## Get a data"
   ]
  },
  {
   "cell_type": "code",
   "execution_count": 4,
   "id": "45f0a548",
   "metadata": {
    "execution": {
     "iopub.execute_input": "2024-03-24T04:11:06.949161Z",
     "iopub.status.busy": "2024-03-24T04:11:06.948890Z",
     "iopub.status.idle": "2024-03-24T04:11:22.626366Z",
     "shell.execute_reply": "2024-03-24T04:11:22.625174Z"
    },
    "id": "oRRDnWjIi-zS",
    "outputId": "89e7bd3d-ce24-4a17-c47d-3db23c5491fc",
    "papermill": {
     "duration": 15.687015,
     "end_time": "2024-03-24T04:11:22.628902",
     "exception": false,
     "start_time": "2024-03-24T04:11:06.941887",
     "status": "completed"
    },
    "tags": []
   },
   "outputs": [
    {
     "name": "stdout",
     "output_type": "stream",
     "text": [
      "Cloning into 'upar_challenge'...\r\n",
      "remote: Enumerating objects: 49, done.\u001b[K\r\n",
      "remote: Counting objects: 100% (49/49), done.\u001b[K\r\n",
      "remote: Compressing objects: 100% (38/38), done.\u001b[K\r\n",
      "remote: Total 49 (delta 14), reused 40 (delta 10), pack-reused 0\u001b[K\r\n",
      "Unpacking objects: 100% (49/49), 144.37 KiB | 1.50 MiB/s, done.\r\n",
      "/kaggle/working/upar_challenge\n",
      "Requirement already satisfied: tqdm in /opt/conda/lib/python3.10/site-packages (4.66.1)\r\n",
      "Collecting gdown\r\n",
      "  Downloading gdown-5.1.0-py3-none-any.whl.metadata (5.7 kB)\r\n",
      "Requirement already satisfied: requests in /opt/conda/lib/python3.10/site-packages (2.31.0)\r\n",
      "Requirement already satisfied: beautifulsoup4 in /opt/conda/lib/python3.10/site-packages (from gdown) (4.12.2)\r\n",
      "Requirement already satisfied: filelock in /opt/conda/lib/python3.10/site-packages (from gdown) (3.13.1)\r\n",
      "Requirement already satisfied: charset-normalizer<4,>=2 in /opt/conda/lib/python3.10/site-packages (from requests) (3.3.2)\r\n",
      "Requirement already satisfied: idna<4,>=2.5 in /opt/conda/lib/python3.10/site-packages (from requests) (3.6)\r\n",
      "Requirement already satisfied: urllib3<3,>=1.21.1 in /opt/conda/lib/python3.10/site-packages (from requests) (1.26.18)\r\n",
      "Requirement already satisfied: certifi>=2017.4.17 in /opt/conda/lib/python3.10/site-packages (from requests) (2024.2.2)\r\n",
      "Requirement already satisfied: soupsieve>1.2 in /opt/conda/lib/python3.10/site-packages (from beautifulsoup4->gdown) (2.5)\r\n",
      "Requirement already satisfied: PySocks!=1.5.7,>=1.5.6 in /opt/conda/lib/python3.10/site-packages (from requests[socks]->gdown) (1.7.1)\r\n",
      "Downloading gdown-5.1.0-py3-none-any.whl (17 kB)\r\n",
      "Installing collected packages: gdown\r\n",
      "Successfully installed gdown-5.1.0\r\n"
     ]
    }
   ],
   "source": [
    "!git clone https://github.com/speckean/upar_challenge.git\n",
    "%cd upar_challenge\n",
    "!pip install tqdm gdown requests"
   ]
  },
  {
   "cell_type": "code",
   "execution_count": 5,
   "id": "c4ecdaf8",
   "metadata": {
    "execution": {
     "iopub.execute_input": "2024-03-24T04:11:22.645853Z",
     "iopub.status.busy": "2024-03-24T04:11:22.645557Z",
     "iopub.status.idle": "2024-03-24T04:12:18.027560Z",
     "shell.execute_reply": "2024-03-24T04:12:18.026259Z"
    },
    "id": "6vrUotcziocm",
    "outputId": "2d7bdb8c-f538-44be-e008-4aadf50c74ed",
    "papermill": {
     "duration": 55.393361,
     "end_time": "2024-03-24T04:12:18.029882",
     "exception": false,
     "start_time": "2024-03-24T04:11:22.636521",
     "status": "completed"
    },
    "tags": []
   },
   "outputs": [
    {
     "name": "stdout",
     "output_type": "stream",
     "text": [
      "Download Market 1501 dataset\r\n",
      "Downloading...\r\n",
      "From (original): https://drive.google.com/uc?id=0B8-rUzbwVRk0c054eEozWG9COHM\r\n",
      "From (redirected): https://drive.google.com/uc?id=0B8-rUzbwVRk0c054eEozWG9COHM&confirm=t&uuid=ab6b55dd-4a67-4008-a2a5-4af1411937fc\r\n",
      "To: /kaggle/working/upar_challenge/data/market_1501.zip\r\n",
      "100%|█████████████████████████████████████████| 153M/153M [00:01<00:00, 140MB/s]\r\n",
      "Extract Market 1501 dataset\r\n",
      "Extracting : 100%|██████████████████████| 68042/68042 [00:08<00:00, 8348.90it/s]\r\n",
      "Download PA100k dataset\r\n",
      "Retrieving folder contents\r\n",
      "Processing file 1dt5nteusNfCVrjAkffLK1sbh4hTLM8tl annotation.zip\r\n",
      "Processing file 1Bod3MrbdCRiSvpR7NSOYi-rF3-ushwtj data.zip\r\n",
      "Processing file 1zmQkoN2YJgbclT990ihj_DYU29YAidey README.txt\r\n",
      "Retrieving folder contents completed\r\n",
      "Building directory structure\r\n",
      "Building directory structure completed\r\n",
      "Downloading...\r\n",
      "From: https://drive.google.com/uc?id=1dt5nteusNfCVrjAkffLK1sbh4hTLM8tl\r\n",
      "To: /kaggle/working/upar_challenge/data/PA100k/annotation.zip\r\n",
      "100%|█████████████████████████████████████████| 339k/339k [00:00<00:00, 115MB/s]\r\n",
      "Downloading...\r\n",
      "From (original): https://drive.google.com/uc?id=1Bod3MrbdCRiSvpR7NSOYi-rF3-ushwtj\r\n",
      "From (redirected): https://drive.google.com/uc?id=1Bod3MrbdCRiSvpR7NSOYi-rF3-ushwtj&confirm=t&uuid=9f72014b-2519-4f78-b28e-417b0851def9\r\n",
      "To: /kaggle/working/upar_challenge/data/PA100k/data.zip\r\n",
      "100%|████████████████████████████████████████| 451M/451M [00:04<00:00, 99.4MB/s]\r\n",
      "Downloading...\r\n",
      "From: https://drive.google.com/uc?id=1zmQkoN2YJgbclT990ihj_DYU29YAidey\r\n",
      "To: /kaggle/working/upar_challenge/data/PA100k/README.txt\r\n",
      "100%|██████████████████████████████████████████| 794/794 [00:00<00:00, 4.15MB/s]\r\n",
      "Download completed\r\n",
      "Extract PA100k dataset\r\n",
      "Extracting : 100%|████████████████████| 100001/100001 [00:14<00:00, 6924.09it/s]\r\n",
      "Download PETA dataset\r\n",
      "* url=\"https://www.dropbox.com/s/52ylx522hwbdxz6/PETA.zip?dl=1\"\r\n",
      "* destination=\"data/PETA/peta.zip\"\r\n",
      "...100%, 224 MB, 77605 KB/s, 2 seconds passed\r\n",
      "Extract PETA dataset\r\n",
      "Extracting : 100%|██████████████████████| 19032/19032 [00:03<00:00, 5052.76it/s]\r\n",
      "19010it [00:01, 15629.22it/s]\r\n",
      "Download annotations\r\n",
      "Downloading...\r\n",
      "From: https://drive.google.com/uc?id=1FMX9nUrXArxW4wkORO6Z7zp7xy7JBjUM\r\n",
      "To: /kaggle/working/upar_challenge/data/annotations/development.zip\r\n",
      "100%|█████████████████████████████████████████| 918k/918k [00:00<00:00, 128MB/s]\r\n",
      "Extract annotations\r\n",
      "Extracting : 100%|███████████████████████████████| 8/8 [00:00<00:00, 179.41it/s]\r\n",
      "Download templates\r\n",
      "Downloading...\r\n",
      "From (original): https://drive.google.com/uc?id=11ZxT8kixkV-vAj8aixS8n2aGJ5Rw0OQy\r\n",
      "From (redirected): https://drive.google.com/uc?id=11ZxT8kixkV-vAj8aixS8n2aGJ5Rw0OQy&confirm=t&uuid=6bcc57e2-bb60-4d72-8c9b-6a53fab4d239\r\n",
      "To: /kaggle/working/upar_challenge/submission_templates.zip\r\n",
      "100%|█████████████████████████████████████████| 300M/300M [00:01<00:00, 157MB/s]\r\n",
      "Extract templates\r\n",
      "Extracting : 100%|████████████████████████████████| 5/5 [00:04<00:00,  1.11it/s]\r\n",
      "/kaggle/working\n"
     ]
    }
   ],
   "source": [
    "!python3 download_datasets.py\n",
    "%cd {HOME}\n",
    "!mv upar_challenge/data ."
   ]
  },
  {
   "cell_type": "code",
   "execution_count": 6,
   "id": "a33bb04b",
   "metadata": {
    "execution": {
     "iopub.execute_input": "2024-03-24T04:12:19.644910Z",
     "iopub.status.busy": "2024-03-24T04:12:19.644498Z",
     "iopub.status.idle": "2024-03-24T04:12:19.652089Z",
     "shell.execute_reply": "2024-03-24T04:12:19.651228Z"
    },
    "id": "PYxNcR4XyKL0",
    "outputId": "457e5b22-fb5d-466e-faf5-334207115f4b",
    "papermill": {
     "duration": 0.094401,
     "end_time": "2024-03-24T04:12:19.654755",
     "exception": false,
     "start_time": "2024-03-24T04:12:19.560354",
     "status": "completed"
    },
    "tags": []
   },
   "outputs": [
    {
     "name": "stdout",
     "output_type": "stream",
     "text": [
      "Directory renamed from 'data/PA100k/release_data/release_data' to 'data/PA100k/data'\n"
     ]
    }
   ],
   "source": [
    "current_dir_path = 'data/PA100k/release_data/release_data'\n",
    "new_dir_path = 'data/PA100k/data'\n",
    "\n",
    "\n",
    "if os.path.exists(current_dir_path):\n",
    "    if not os.path.exists(new_dir_path):\n",
    "        os.rename(current_dir_path, new_dir_path)\n",
    "        print(f\"Directory renamed from '{current_dir_path}' to '{new_dir_path}'\")\n",
    "\n",
    "    else:\n",
    "        print(f\"The target directory '{new_dir_path}' already exists.\")\n",
    "else:\n",
    "    print(f\"The directory '{current_dir_path}' does not exist.\")"
   ]
  },
  {
   "cell_type": "markdown",
   "id": "bc646317",
   "metadata": {
    "id": "Ipq3tXRkijzw",
    "papermill": {
     "duration": 0.091721,
     "end_time": "2024-03-24T04:12:19.836718",
     "exception": false,
     "start_time": "2024-03-24T04:12:19.744997",
     "status": "completed"
    },
    "tags": []
   },
   "source": [
    "## Construct dataset/dataloader"
   ]
  },
  {
   "cell_type": "code",
   "execution_count": 7,
   "id": "c7f161d7",
   "metadata": {
    "execution": {
     "iopub.execute_input": "2024-03-24T04:12:19.996894Z",
     "iopub.status.busy": "2024-03-24T04:12:19.995842Z",
     "iopub.status.idle": "2024-03-24T04:12:20.015255Z",
     "shell.execute_reply": "2024-03-24T04:12:20.014258Z"
    },
    "id": "7Y15r_o5v07f",
    "papermill": {
     "duration": 0.108607,
     "end_time": "2024-03-24T04:12:20.017509",
     "exception": false,
     "start_time": "2024-03-24T04:12:19.908902",
     "status": "completed"
    },
    "tags": []
   },
   "outputs": [],
   "source": [
    "\n",
    "class UPAR(data.Dataset):\n",
    "  \"\"\"\n",
    "  Load UPAR dataset from pickle file\n",
    "\n",
    "  split: whether to use train/val/trainval/test split\n",
    "  partition: partition id 0-9\n",
    "  root: path to datasets, original datasets must be in this directory\n",
    "  data_path: path to UPAR pickle file\n",
    "  transform: training data transforms\n",
    "  target_transforms: evaluation data transforms\n",
    "  \"\"\"\n",
    "  def __init__(self, split='train', partition=0, root=HOME, data_path='upar_dataset/UPAR/dataset_all.pkl', transform=None, target_transform=None):\n",
    "    dataset_info = pickle.load(open(data_path, 'rb+'))\n",
    "    self.dataset_info = dataset_info\n",
    "\n",
    "    img_id = dataset_info.image_name\n",
    "    attr_label = dataset_info.label\n",
    "\n",
    "    assert split in dataset_info.partition.keys(), f'split {split} does not exist'\n",
    "\n",
    "    self.dataset = 'UPAR'\n",
    "    self.transform = transform  # data transforms during training\n",
    "    self.target_transform = target_transform  # data transforms during testing\n",
    "\n",
    "    self.root_path = root+\"/data\"  # path to datasets\n",
    "\n",
    "    self.attr_id = dataset_info.attr_name  # attribute names\n",
    "    self.attr_num = len(self.attr_id)  # number of attributes\n",
    "\n",
    "\t\t# load partition\n",
    "    self.img_idx = dataset_info.partition[split]\n",
    "\n",
    "    if isinstance(self.img_idx, list):\n",
    "      self.img_idx = self.img_idx[partition]\n",
    "\n",
    "    if isinstance(self.img_idx, list):\n",
    "      self.img_idx = np.hstack(self.img_idx)\n",
    "\n",
    "    self.img_idx = np.array([i for i in self.img_idx if not any(folder in img_id[i] for folder in [\"RAP\"])])\n",
    "\n",
    "\n",
    "    self.img_num = self.img_idx.shape[0]\n",
    "    self.img_id = [img_id[i] for i in self.img_idx]\n",
    "    self.label = attr_label[self.img_idx]\n",
    "\n",
    "    # set sub-dataset lengths to enable evaluation on sub-datasets\n",
    "    self.sub_dataset_lengths = [len(d) for d in dataset_info.partition.test[partition]]\n",
    "\n",
    "\n",
    "  def __getitem__(self, index):\n",
    "      \"\"\"\n",
    "      get dataset item by index\n",
    "\n",
    "      index: item index\n",
    "      return: image data (img) with corresponding ground truth labels (gt_label), dataset id (did), and image path (imgname)\n",
    "      \"\"\"\n",
    "      imgname, gt_label, imgidx = self.img_id[index], self.label[index], self.img_idx[index]\n",
    "      did = self.dataset_info.dataset_ids[imgidx]\n",
    "      imgpath = os.path.join(self.root_path, imgname)\n",
    "      img = Image.open(imgpath)\n",
    "\n",
    "      if self.transform is not None:\n",
    "          img = self.transform(img)\n",
    "\n",
    "      gt_label = gt_label.astype(np.float32)\n",
    "\n",
    "      if self.target_transform is not None:\n",
    "          gt_label = self.transform(gt_label)\n",
    "\n",
    "      return img, gt_label, did, imgname\n",
    "\n",
    "\n",
    "  def __len__(self):\n",
    "    \"\"\"\n",
    "    get length of dataset\n",
    "    \"\"\"\n",
    "    return len(self.img_id)\n",
    "\n",
    "\n",
    "def get_transform(height, width):\n",
    "    normalize = T.Normalize(mean=[0.485, 0.456, 0.406], std=[0.229, 0.224, 0.225])\n",
    "    train_transform = [\n",
    "        T.Resize((height, width))\n",
    "    ]\n",
    "\n",
    "    train_transform += [\n",
    "        T.Pad(10),\n",
    "        T.RandomCrop((height, width)),\n",
    "        T.RandomHorizontalFlip(),\n",
    "    ]\n",
    "\n",
    "    train_transform += [\n",
    "        T.ToTensor(),\n",
    "        normalize,\n",
    "    ]\n",
    "    train_transform = T.Compose(train_transform)\n",
    "\n",
    "    valid_transform = T.Compose([\n",
    "        T.Resize((height, width)),\n",
    "        T.ToTensor(),\n",
    "        normalize\n",
    "    ])\n",
    "\n",
    "    return train_transform, valid_transform"
   ]
  },
  {
   "cell_type": "code",
   "execution_count": 8,
   "id": "5ab94abd",
   "metadata": {
    "execution": {
     "iopub.execute_input": "2024-03-24T04:12:20.166563Z",
     "iopub.status.busy": "2024-03-24T04:12:20.165929Z",
     "iopub.status.idle": "2024-03-24T04:12:21.068981Z",
     "shell.execute_reply": "2024-03-24T04:12:21.068195Z"
    },
    "id": "C__-utMewC83",
    "papermill": {
     "duration": 0.982437,
     "end_time": "2024-03-24T04:12:21.071441",
     "exception": false,
     "start_time": "2024-03-24T04:12:20.089004",
     "status": "completed"
    },
    "tags": []
   },
   "outputs": [],
   "source": [
    "height = 224  # Example height\n",
    "width = 224   # Example width\n",
    "train_transform, valid_transform = get_transform(height, width)\n",
    "\n",
    "\n",
    "# For training\n",
    "train_dataset = UPAR(split='train', partition=0, transform=train_transform)\n",
    "\n",
    "# For validation\n",
    "val_dataset = UPAR(split='val', partition=0, transform=valid_transform)\n",
    "\n",
    "# For testing\n",
    "test_dataset = UPAR(split='test', partition=0, transform=valid_transform)\n"
   ]
  },
  {
   "cell_type": "code",
   "execution_count": 9,
   "id": "94907ea8",
   "metadata": {
    "execution": {
     "iopub.execute_input": "2024-03-24T04:12:21.212270Z",
     "iopub.status.busy": "2024-03-24T04:12:21.211946Z",
     "iopub.status.idle": "2024-03-24T04:12:21.217795Z",
     "shell.execute_reply": "2024-03-24T04:12:21.216697Z"
    },
    "id": "bAwTtSBfwpBn",
    "papermill": {
     "duration": 0.0777,
     "end_time": "2024-03-24T04:12:21.219862",
     "exception": false,
     "start_time": "2024-03-24T04:12:21.142162",
     "status": "completed"
    },
    "tags": []
   },
   "outputs": [],
   "source": [
    "batch_size = 32  # Example batch size\n",
    "\n",
    "train_loader = DataLoader(train_dataset, batch_size=batch_size, shuffle=True)\n",
    "val_loader = DataLoader(val_dataset, batch_size=batch_size, shuffle=False)\n",
    "test_loader = DataLoader(test_dataset, batch_size=batch_size, shuffle=False)"
   ]
  },
  {
   "cell_type": "markdown",
   "id": "75109b14",
   "metadata": {
    "id": "zYqxrG3p_sc0",
    "papermill": {
     "duration": 0.067721,
     "end_time": "2024-03-24T04:12:21.358012",
     "exception": false,
     "start_time": "2024-03-24T04:12:21.290291",
     "status": "completed"
    },
    "tags": []
   },
   "source": [
    "# Model Baseline"
   ]
  },
  {
   "cell_type": "code",
   "execution_count": 1,
   "id": "2a202597",
   "metadata": {
    "id": "We87CAdU-cww",
    "papermill": {
     "duration": 0.087126,
     "end_time": "2024-03-24T04:12:21.532475",
     "exception": false,
     "start_time": "2024-03-24T04:12:21.445349",
     "status": "completed"
    },
    "tags": []
   },
   "outputs": [
    {
     "ename": "NameError",
     "evalue": "name 'nn' is not defined",
     "output_type": "error",
     "traceback": [
      "\u001b[1;31m---------------------------------------------------------------------------\u001b[0m",
      "\u001b[1;31mNameError\u001b[0m                                 Traceback (most recent call last)",
      "Cell \u001b[1;32mIn[1], line 1\u001b[0m\n\u001b[1;32m----> 1\u001b[0m \u001b[38;5;28;01mclass\u001b[39;00m \u001b[38;5;21;01mUPARModel\u001b[39;00m(\u001b[43mnn\u001b[49m\u001b[38;5;241m.\u001b[39mModule):\n\u001b[0;32m      2\u001b[0m     \u001b[38;5;28;01mdef\u001b[39;00m \u001b[38;5;21m__init__\u001b[39m(\u001b[38;5;28mself\u001b[39m, input_size, num_attributes):\n\u001b[0;32m      3\u001b[0m         \u001b[38;5;28msuper\u001b[39m(UPARModel, \u001b[38;5;28mself\u001b[39m)\u001b[38;5;241m.\u001b[39m\u001b[38;5;21m__init__\u001b[39m()\n",
      "\u001b[1;31mNameError\u001b[0m: name 'nn' is not defined"
     ]
    }
   ],
   "source": [
    "class UPARModel(nn.Module):\n",
    "    def __init__(self, input_size, num_attributes):\n",
    "        super(UPARModel, self).__init__()\n",
    "        self.features = nn.Sequential(\n",
    "            nn.Conv2d(in_channels=input_size, out_channels=64, kernel_size=3, padding=1),\n",
    "            nn.ReLU(inplace=True),\n",
    "            nn.MaxPool2d(kernel_size=2),\n",
    "            nn.Conv2d(in_channels=64, out_channels=128, kernel_size=3, padding=1),\n",
    "            nn.ReLU(inplace=True),\n",
    "            nn.MaxPool2d(kernel_size=2),\n",
    "            nn.Conv2d(in_channels=128, out_channels=256, kernel_size=3, padding=1),\n",
    "            nn.ReLU(inplace=True),\n",
    "            nn.MaxPool2d(kernel_size=2),\n",
    "        )\n",
    "        self.flatten = nn.Flatten()\n",
    "        self.classifier = nn.Sequential(\n",
    "            nn.Dropout(),\n",
    "            nn.Linear(256 * 28 * 28, 512),  # Adjusted size\n",
    "            nn.ReLU(inplace=True),\n",
    "            nn.Linear(512, num_attributes),\n",
    "            nn.Sigmoid()\n",
    "        )\n",
    "\n",
    "    def forward(self, x):\n",
    "        x = self.features(x)\n",
    "        x = self.flatten(x)\n",
    "        x = self.classifier(x)\n",
    "        return x\n"
   ]
  },
  {
   "cell_type": "code",
   "execution_count": 11,
   "id": "45880ac8",
   "metadata": {
    "execution": {
     "iopub.execute_input": "2024-03-24T04:12:21.680954Z",
     "iopub.status.busy": "2024-03-24T04:12:21.680042Z",
     "iopub.status.idle": "2024-03-24T04:12:22.742612Z",
     "shell.execute_reply": "2024-03-24T04:12:22.741808Z"
    },
    "id": "NrK7JzSxDzZD",
    "papermill": {
     "duration": 1.141955,
     "end_time": "2024-03-24T04:12:22.745062",
     "exception": false,
     "start_time": "2024-03-24T04:12:21.603107",
     "status": "completed"
    },
    "tags": []
   },
   "outputs": [],
   "source": [
    "num_attributes = 40  # Number of attributes/classes\n",
    "model = UPARModel(input_size=3, num_attributes=num_attributes)\n",
    "\n",
    "loss_fn = nn.BCEWithLogitsLoss()\n",
    "optimizer = optim.Adam(model.parameters(), lr=0.001)\n",
    "scheduler = StepLR(optimizer, step_size=1, gamma=0.7)"
   ]
  },
  {
   "cell_type": "code",
   "execution_count": 12,
   "id": "7151ef97",
   "metadata": {
    "execution": {
     "iopub.execute_input": "2024-03-24T04:12:22.930880Z",
     "iopub.status.busy": "2024-03-24T04:12:22.930483Z",
     "iopub.status.idle": "2024-03-24T05:11:19.480151Z",
     "shell.execute_reply": "2024-03-24T05:11:19.479059Z"
    },
    "id": "guhqNIXxHkHS",
    "outputId": "b6849ff6-53fc-4bac-97b2-8d80d4211774",
    "papermill": {
     "duration": 3536.750095,
     "end_time": "2024-03-24T05:11:19.564840",
     "exception": false,
     "start_time": "2024-03-24T04:12:22.814745",
     "status": "completed"
    },
    "tags": []
   },
   "outputs": [
    {
     "name": "stdout",
     "output_type": "stream",
     "text": [
      "Epoch 1/5\n",
      "----------\n",
      "Batch 0, Loss: 0.6911386251449585\n",
      "Batch 100, Loss: 0.28199079632759094\n",
      "Batch 200, Loss: 0.22555799782276154\n",
      "Batch 300, Loss: 0.2569648027420044\n",
      "Batch 400, Loss: 0.19973628222942352\n",
      "Batch 500, Loss: 0.19880269467830658\n",
      "Batch 600, Loss: 0.20782451331615448\n",
      "Batch 700, Loss: 0.20567677915096283\n",
      "Batch 800, Loss: 0.2037932425737381\n",
      "Batch 900, Loss: 0.20143082737922668\n",
      "Batch 1000, Loss: 0.19191581010818481\n",
      "Batch 1100, Loss: 0.1968393623828888\n",
      "Batch 1200, Loss: 0.19852982461452484\n",
      "Batch 1300, Loss: 0.17594949901103973\n",
      "Batch 1400, Loss: 0.19688864052295685\n",
      "Batch 1500, Loss: 0.16377785801887512\n",
      "Batch 1600, Loss: 0.17418864369392395\n",
      "Batch 1700, Loss: 0.19814859330654144\n",
      "Batch 1800, Loss: 0.18747849762439728\n",
      "Batch 1900, Loss: 0.19883081316947937\n",
      "Batch 2000, Loss: 0.18385250866413116\n",
      "Batch 2100, Loss: 0.168907031416893\n",
      "Batch 2200, Loss: 0.183963343501091\n",
      "Batch 2300, Loss: 0.18913768231868744\n",
      "Batch 2400, Loss: 0.20063672959804535\n",
      "Batch 2500, Loss: 0.19215063750743866\n",
      "Batch 2600, Loss: 0.17823970317840576\n",
      "Batch 2700, Loss: 0.16199520230293274\n",
      "Batch 2800, Loss: 0.19082604348659515\n",
      "Batch 2900, Loss: 0.17531011998653412\n",
      "Batch 3000, Loss: 0.14119458198547363\n",
      "Batch 3100, Loss: 0.1865372359752655\n",
      "Average Training Loss: 0.197864857381423\n",
      "Average Validation Loss: 0.2088428923107208\n",
      "Epoch 2/5\n",
      "----------\n",
      "Batch 0, Loss: 0.1671053171157837\n",
      "Batch 100, Loss: 0.18106046319007874\n",
      "Batch 200, Loss: 0.1562904566526413\n",
      "Batch 300, Loss: 0.17482894659042358\n",
      "Batch 400, Loss: 0.17072616517543793\n",
      "Batch 500, Loss: 0.16465389728546143\n",
      "Batch 600, Loss: 0.16408590972423553\n",
      "Batch 700, Loss: 0.1918974369764328\n",
      "Batch 800, Loss: 0.1835130751132965\n",
      "Batch 900, Loss: 0.1792011559009552\n",
      "Batch 1000, Loss: 0.16011276841163635\n",
      "Batch 1100, Loss: 0.1754155308008194\n",
      "Batch 1200, Loss: 0.1492156982421875\n",
      "Batch 1300, Loss: 0.13755205273628235\n",
      "Batch 1400, Loss: 0.1610277146100998\n",
      "Batch 1500, Loss: 0.1741463989019394\n",
      "Batch 1600, Loss: 0.1654830127954483\n",
      "Batch 1700, Loss: 0.15157301723957062\n",
      "Batch 1800, Loss: 0.18575073778629303\n",
      "Batch 1900, Loss: 0.1764773726463318\n",
      "Batch 2000, Loss: 0.1568925827741623\n",
      "Batch 2100, Loss: 0.12894167006015778\n",
      "Batch 2200, Loss: 0.16953277587890625\n",
      "Batch 2300, Loss: 0.13059936463832855\n",
      "Batch 2400, Loss: 0.15893597900867462\n",
      "Batch 2500, Loss: 0.15980401635169983\n",
      "Batch 2600, Loss: 0.15641391277313232\n",
      "Batch 2700, Loss: 0.16111412644386292\n",
      "Batch 2800, Loss: 0.18683288991451263\n",
      "Batch 2900, Loss: 0.1490837186574936\n",
      "Batch 3000, Loss: 0.14929533004760742\n",
      "Batch 3100, Loss: 0.15487445890903473\n",
      "Average Training Loss: 0.16518322867282095\n",
      "Average Validation Loss: 0.19942953187100432\n",
      "Epoch 3/5\n",
      "----------\n",
      "Batch 0, Loss: 0.14739267528057098\n",
      "Batch 100, Loss: 0.17446847259998322\n",
      "Batch 200, Loss: 0.1849084496498108\n",
      "Batch 300, Loss: 0.12959788739681244\n",
      "Batch 400, Loss: 0.1532590240240097\n",
      "Batch 500, Loss: 0.16726048290729523\n",
      "Batch 600, Loss: 0.16661392152309418\n",
      "Batch 700, Loss: 0.15358607470989227\n",
      "Batch 800, Loss: 0.1743917465209961\n",
      "Batch 900, Loss: 0.12810997664928436\n",
      "Batch 1000, Loss: 0.16105560958385468\n",
      "Batch 1100, Loss: 0.162798672914505\n",
      "Batch 1200, Loss: 0.13574285805225372\n",
      "Batch 1300, Loss: 0.14895133674144745\n",
      "Batch 1400, Loss: 0.1317746639251709\n",
      "Batch 1500, Loss: 0.1470286101102829\n",
      "Batch 1600, Loss: 0.15782736241817474\n",
      "Batch 1700, Loss: 0.14800521731376648\n",
      "Batch 1800, Loss: 0.14211271703243256\n",
      "Batch 1900, Loss: 0.1352112740278244\n",
      "Batch 2000, Loss: 0.17194204032421112\n",
      "Batch 2100, Loss: 0.15093994140625\n",
      "Batch 2200, Loss: 0.134562149643898\n",
      "Batch 2300, Loss: 0.16099195182323456\n",
      "Batch 2400, Loss: 0.19640429317951202\n",
      "Batch 2500, Loss: 0.1342913955450058\n",
      "Batch 2600, Loss: 0.16900354623794556\n",
      "Batch 2700, Loss: 0.15954934060573578\n",
      "Batch 2800, Loss: 0.15461823344230652\n",
      "Batch 2900, Loss: 0.15272165834903717\n",
      "Batch 3000, Loss: 0.16353368759155273\n",
      "Batch 3100, Loss: 0.17898425459861755\n",
      "Average Training Loss: 0.15377574810004643\n",
      "Average Validation Loss: 0.19512458553022527\n",
      "Epoch 4/5\n",
      "----------\n",
      "Batch 0, Loss: 0.15523023903369904\n",
      "Batch 100, Loss: 0.13291922211647034\n",
      "Batch 200, Loss: 0.12563888728618622\n",
      "Batch 300, Loss: 0.14946071803569794\n",
      "Batch 400, Loss: 0.14840200543403625\n",
      "Batch 500, Loss: 0.1315305233001709\n",
      "Batch 600, Loss: 0.12939822673797607\n",
      "Batch 700, Loss: 0.13563589751720428\n",
      "Batch 800, Loss: 0.13902732729911804\n",
      "Batch 900, Loss: 0.18291857838630676\n",
      "Batch 1000, Loss: 0.12449675798416138\n",
      "Batch 1100, Loss: 0.11557237058877945\n",
      "Batch 1200, Loss: 0.1463271826505661\n",
      "Batch 1300, Loss: 0.15964217483997345\n",
      "Batch 1400, Loss: 0.1788332164287567\n",
      "Batch 1500, Loss: 0.1595945954322815\n",
      "Batch 1600, Loss: 0.15115463733673096\n",
      "Batch 1700, Loss: 0.13237641751766205\n",
      "Batch 1800, Loss: 0.17081521451473236\n",
      "Batch 1900, Loss: 0.13297434151172638\n",
      "Batch 2000, Loss: 0.1313491314649582\n",
      "Batch 2100, Loss: 0.14268027245998383\n",
      "Batch 2200, Loss: 0.1216660663485527\n",
      "Batch 2300, Loss: 0.16519442200660706\n",
      "Batch 2400, Loss: 0.15716998279094696\n",
      "Batch 2500, Loss: 0.16698665916919708\n",
      "Batch 2600, Loss: 0.1518869698047638\n",
      "Batch 2700, Loss: 0.14242489635944366\n",
      "Batch 2800, Loss: 0.16742955148220062\n",
      "Batch 2900, Loss: 0.15852797031402588\n",
      "Batch 3000, Loss: 0.1724049299955368\n",
      "Batch 3100, Loss: 0.13928966224193573\n",
      "Average Training Loss: 0.14715264730496716\n",
      "Average Validation Loss: 0.1975407420954806\n",
      "Epoch 5/5\n",
      "----------\n",
      "Batch 0, Loss: 0.15028822422027588\n",
      "Batch 100, Loss: 0.12882569432258606\n",
      "Batch 200, Loss: 0.1498051881790161\n",
      "Batch 300, Loss: 0.14639054238796234\n",
      "Batch 400, Loss: 0.149060919880867\n",
      "Batch 500, Loss: 0.12320609390735626\n",
      "Batch 600, Loss: 0.15550024807453156\n",
      "Batch 700, Loss: 0.13035348057746887\n",
      "Batch 800, Loss: 0.1264239400625229\n",
      "Batch 900, Loss: 0.17490552365779877\n",
      "Batch 1000, Loss: 0.11987240612506866\n",
      "Batch 1100, Loss: 0.13894160091876984\n",
      "Batch 1200, Loss: 0.13263088464736938\n",
      "Batch 1300, Loss: 0.14779403805732727\n",
      "Batch 1400, Loss: 0.14121071994304657\n",
      "Batch 1500, Loss: 0.1496521383523941\n",
      "Batch 1600, Loss: 0.11149151623249054\n",
      "Batch 1700, Loss: 0.1306018829345703\n",
      "Batch 1800, Loss: 0.11396912485361099\n",
      "Batch 1900, Loss: 0.14216789603233337\n",
      "Batch 2000, Loss: 0.12645573914051056\n",
      "Batch 2100, Loss: 0.13985256850719452\n",
      "Batch 2200, Loss: 0.09288821369409561\n",
      "Batch 2300, Loss: 0.13705101609230042\n",
      "Batch 2400, Loss: 0.15342187881469727\n",
      "Batch 2500, Loss: 0.17362990975379944\n",
      "Batch 2600, Loss: 0.16643820703029633\n",
      "Batch 2700, Loss: 0.14562933146953583\n",
      "Batch 2800, Loss: 0.1505371779203415\n",
      "Batch 2900, Loss: 0.11869925260543823\n",
      "Batch 3000, Loss: 0.15140129625797272\n",
      "Batch 3100, Loss: 0.15954624116420746\n",
      "Average Training Loss: 0.14213277405938346\n",
      "Average Validation Loss: 0.20378589019813437\n"
     ]
    }
   ],
   "source": [
    "def train_one_epoch(model, dataloader, loss_fn, optimizer, device):\n",
    "    model.train()\n",
    "    total_loss = 0\n",
    "    for batch, (X, y, _, _) in enumerate(dataloader):\n",
    "        X, y = X.to(device), y.to(device)\n",
    "\n",
    "        pred = model(X)\n",
    "        loss = loss_fn(pred, y)\n",
    "\n",
    "        optimizer.zero_grad()\n",
    "        loss.backward()\n",
    "        optimizer.step()\n",
    "\n",
    "        total_loss += loss.item()\n",
    "\n",
    "        if batch % 100 == 0:\n",
    "            print(f\"Batch {batch}, Loss: {loss.item()}\")\n",
    "\n",
    "    avg_loss = total_loss / len(dataloader)\n",
    "    print(f\"Average Training Loss: {avg_loss}\")\n",
    "    return avg_loss\n",
    "\n",
    "def validate(model, dataloader, loss_fn, device):\n",
    "    model.eval()\n",
    "    total_loss = 0\n",
    "    with torch.no_grad():\n",
    "        for X, y, _, _ in dataloader:\n",
    "            X, y = X.to(device), y.to(device)\n",
    "            pred = model(X)\n",
    "            loss = loss_fn(pred, y)\n",
    "            total_loss += loss.item()\n",
    "\n",
    "    avg_loss = total_loss / len(dataloader)\n",
    "    print(f\"Average Validation Loss: {avg_loss}\")\n",
    "    return avg_loss\n",
    "\n",
    "device = torch.device(\"cuda\" if torch.cuda.is_available() else \"cpu\")\n",
    "model.to(device)\n",
    "\n",
    "epochs = 5\n",
    "\n",
    "for epoch in range(epochs):\n",
    "    print(f\"Epoch {epoch+1}/{epochs}\")\n",
    "    print(\"-\" * 10)\n",
    "    train_loss = train_one_epoch(model, train_loader, loss_fn, optimizer, device)\n",
    "    val_loss = validate(model, val_loader, loss_fn, device)\n"
   ]
  },
  {
   "cell_type": "code",
   "execution_count": 13,
   "id": "035f5022",
   "metadata": {
    "execution": {
     "iopub.execute_input": "2024-03-24T05:11:19.730213Z",
     "iopub.status.busy": "2024-03-24T05:11:19.729843Z",
     "iopub.status.idle": "2024-03-24T05:11:20.534418Z",
     "shell.execute_reply": "2024-03-24T05:11:20.533445Z"
    },
    "id": "cT7dvhsmHuPp",
    "papermill": {
     "duration": 0.890332,
     "end_time": "2024-03-24T05:11:20.536527",
     "exception": false,
     "start_time": "2024-03-24T05:11:19.646195",
     "status": "completed"
    },
    "tags": []
   },
   "outputs": [
    {
     "name": "stdout",
     "output_type": "stream",
     "text": [
      "Model saved to model.pth\n"
     ]
    }
   ],
   "source": [
    "model_save_path = \"model.pth\"\n",
    "torch.save(model.state_dict(), model_save_path)\n",
    "print(f\"Model saved to {model_save_path}\")"
   ]
  },
  {
   "cell_type": "code",
   "execution_count": null,
   "id": "4a0a8276",
   "metadata": {
    "papermill": {
     "duration": 0.086813,
     "end_time": "2024-03-24T05:11:20.709463",
     "exception": false,
     "start_time": "2024-03-24T05:11:20.622650",
     "status": "completed"
    },
    "tags": []
   },
   "outputs": [],
   "source": []
  }
 ],
 "metadata": {
  "colab": {
   "provenance": []
  },
  "kaggle": {
   "accelerator": "nvidiaTeslaT4",
   "dataSources": [],
   "dockerImageVersionId": 30673,
   "isGpuEnabled": true,
   "isInternetEnabled": true,
   "language": "python",
   "sourceType": "notebook"
  },
  "kernelspec": {
   "display_name": "Python 3 (ipykernel)",
   "language": "python",
   "name": "python3"
  },
  "language_info": {
   "codemirror_mode": {
    "name": "ipython",
    "version": 3
   },
   "file_extension": ".py",
   "mimetype": "text/x-python",
   "name": "python",
   "nbconvert_exporter": "python",
   "pygments_lexer": "ipython3",
   "version": "3.8.18"
  },
  "papermill": {
   "default_parameters": {},
   "duration": 3630.02537,
   "end_time": "2024-03-24T05:11:23.462049",
   "environment_variables": {},
   "exception": null,
   "input_path": "__notebook__.ipynb",
   "output_path": "__notebook__.ipynb",
   "parameters": {},
   "start_time": "2024-03-24T04:10:53.436679",
   "version": "2.5.0"
  }
 },
 "nbformat": 4,
 "nbformat_minor": 5
}
