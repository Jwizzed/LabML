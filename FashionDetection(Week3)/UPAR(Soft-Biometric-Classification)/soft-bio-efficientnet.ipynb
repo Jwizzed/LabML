{
 "cells": [
  {
   "cell_type": "code",
   "execution_count": 1,
   "id": "f3d79377",
   "metadata": {
    "id": "PfgBeuAevIXc",
    "outputId": "940c3dce-bd09-4aea-eef9-8c79207167be",
    "papermill": {
     "duration": 2.792201,
     "end_time": "2024-03-24T04:10:59.271552",
     "exception": false,
     "start_time": "2024-03-24T04:10:56.479351",
     "status": "completed"
    },
    "tags": []
   },
   "outputs": [
    {
     "name": "stderr",
     "output_type": "stream",
     "text": [
      "fatal: destination path 'upar_dataset' already exists and is not an empty directory.\n"
     ]
    }
   ],
   "source": [
    "!git clone https://github.com/speckean/upar_dataset.git"
   ]
  },
  {
   "cell_type": "code",
   "execution_count": 2,
   "id": "16010a50-0393-4c1f-abb6-7ae6e7a8ae67",
   "metadata": {},
   "outputs": [],
   "source": [
    "!pip install efficientnet_pytorch -q"
   ]
  },
  {
   "cell_type": "markdown",
   "id": "d37c5dd8",
   "metadata": {
    "id": "N-Qkzag4vzzN",
    "papermill": {
     "duration": 0.006223,
     "end_time": "2024-03-24T04:10:59.288053",
     "exception": false,
     "start_time": "2024-03-24T04:10:59.281830",
     "status": "completed"
    },
    "tags": []
   },
   "source": [
    "# Import Tools"
   ]
  },
  {
   "cell_type": "code",
   "execution_count": 3,
   "id": "a08800ac",
   "metadata": {
    "id": "qPx3W0h-vT97",
    "papermill": {
     "duration": 7.596493,
     "end_time": "2024-03-24T04:11:06.890586",
     "exception": false,
     "start_time": "2024-03-24T04:10:59.294093",
     "status": "completed"
    },
    "tags": []
   },
   "outputs": [],
   "source": [
    "import os\n",
    "import pickle\n",
    "import glob\n",
    "import random\n",
    "\n",
    "import numpy as np\n",
    "import torch.utils.data as data\n",
    "from PIL import Image\n",
    "\n",
    "import torchvision.transforms as T\n",
    "\n",
    "from torch.utils.data import DataLoader\n",
    "\n",
    "import torch\n",
    "import torch.nn as nn\n",
    "import torch.optim as optim\n",
    "from torch.optim.lr_scheduler import StepLR\n",
    "\n",
    "from efficientnet_pytorch import EfficientNet"
   ]
  },
  {
   "cell_type": "code",
   "execution_count": 4,
   "id": "aa0acbb5",
   "metadata": {
    "id": "g3cYG_hs_bhO",
    "outputId": "f79cb5d2-c440-46b4-8db0-44f1532b73ba",
    "papermill": {
     "duration": 0.015262,
     "end_time": "2024-03-24T04:11:06.912010",
     "exception": false,
     "start_time": "2024-03-24T04:11:06.896748",
     "status": "completed"
    },
    "tags": []
   },
   "outputs": [
    {
     "data": {
      "text/plain": [
       "'C:\\\\Users\\\\USER\\\\Downloads\\\\LabML\\\\FashionDetection(Week3)\\\\UPAR(Soft-Biometric-Classification)'"
      ]
     },
     "execution_count": 4,
     "metadata": {},
     "output_type": "execute_result"
    }
   ],
   "source": [
    "HOME = os.getcwd()\n",
    "HOME"
   ]
  },
  {
   "cell_type": "markdown",
   "id": "8a752bb2",
   "metadata": {
    "id": "lUdsEedzid6v",
    "papermill": {
     "duration": 0.005696,
     "end_time": "2024-03-24T04:11:06.923807",
     "exception": false,
     "start_time": "2024-03-24T04:11:06.918111",
     "status": "completed"
    },
    "tags": []
   },
   "source": [
    "# Dataset"
   ]
  },
  {
   "cell_type": "markdown",
   "id": "a4d8604f",
   "metadata": {
    "id": "96_bEv_IiiA6",
    "papermill": {
     "duration": 0.005974,
     "end_time": "2024-03-24T04:11:06.935800",
     "exception": false,
     "start_time": "2024-03-24T04:11:06.929826",
     "status": "completed"
    },
    "tags": []
   },
   "source": [
    "## Get a data"
   ]
  },
  {
   "cell_type": "code",
   "execution_count": 5,
   "id": "45f0a548",
   "metadata": {
    "id": "oRRDnWjIi-zS",
    "outputId": "89e7bd3d-ce24-4a17-c47d-3db23c5491fc",
    "papermill": {
     "duration": 15.687015,
     "end_time": "2024-03-24T04:11:22.628902",
     "exception": false,
     "start_time": "2024-03-24T04:11:06.941887",
     "status": "completed"
    },
    "tags": []
   },
   "outputs": [
    {
     "name": "stdout",
     "output_type": "stream",
     "text": [
      "C:\\Users\\USER\\Downloads\\LabML\\FashionDetection(Week3)\\UPAR(Soft-Biometric-Classification)\\upar_challenge\n"
     ]
    },
    {
     "name": "stderr",
     "output_type": "stream",
     "text": [
      "fatal: destination path 'upar_challenge' already exists and is not an empty directory.\n"
     ]
    },
    {
     "name": "stdout",
     "output_type": "stream",
     "text": [
      "Requirement already satisfied: tqdm in c:\\users\\user\\anaconda3\\envs\\yolo\\lib\\site-packages (4.66.2)\n",
      "Requirement already satisfied: gdown in c:\\users\\user\\anaconda3\\envs\\yolo\\lib\\site-packages (5.1.0)\n",
      "Requirement already satisfied: requests in c:\\users\\user\\anaconda3\\envs\\yolo\\lib\\site-packages (2.31.0)\n",
      "Requirement already satisfied: colorama in c:\\users\\user\\anaconda3\\envs\\yolo\\lib\\site-packages (from tqdm) (0.4.4)\n",
      "Requirement already satisfied: beautifulsoup4 in c:\\users\\user\\anaconda3\\envs\\yolo\\lib\\site-packages (from gdown) (4.12.2)\n",
      "Requirement already satisfied: filelock in c:\\users\\user\\appdata\\roaming\\python\\python38\\site-packages (from gdown) (3.9.0)\n",
      "Requirement already satisfied: charset-normalizer<4,>=2 in c:\\users\\user\\anaconda3\\envs\\yolo\\lib\\site-packages (from requests) (2.0.4)\n",
      "Requirement already satisfied: idna<4,>=2.5 in c:\\users\\user\\appdata\\roaming\\python\\python38\\site-packages (from requests) (2.10)\n",
      "Requirement already satisfied: urllib3<3,>=1.21.1 in c:\\users\\user\\anaconda3\\envs\\yolo\\lib\\site-packages (from requests) (1.26.18)\n",
      "Requirement already satisfied: certifi>=2017.4.17 in c:\\users\\user\\appdata\\roaming\\python\\python38\\site-packages (from requests) (2023.7.22)\n",
      "Requirement already satisfied: soupsieve>1.2 in c:\\users\\user\\anaconda3\\envs\\yolo\\lib\\site-packages (from beautifulsoup4->gdown) (2.5)\n",
      "Requirement already satisfied: PySocks!=1.5.7,>=1.5.6 in c:\\users\\user\\anaconda3\\envs\\yolo\\lib\\site-packages (from requests[socks]->gdown) (1.7.1)\n"
     ]
    }
   ],
   "source": [
    "!git clone https://github.com/speckean/upar_challenge.git\n",
    "%cd upar_challenge\n",
    "!pip install tqdm gdown requests"
   ]
  },
  {
   "cell_type": "code",
   "execution_count": 6,
   "id": "c4ecdaf8",
   "metadata": {
    "id": "6vrUotcziocm",
    "outputId": "2d7bdb8c-f538-44be-e008-4aadf50c74ed",
    "papermill": {
     "duration": 55.393361,
     "end_time": "2024-03-24T04:12:18.029882",
     "exception": false,
     "start_time": "2024-03-24T04:11:22.636521",
     "status": "completed"
    },
    "tags": []
   },
   "outputs": [
    {
     "name": "stdout",
     "output_type": "stream",
     "text": [
      "C:\\Users\\USER\\Downloads\\LabML\\FashionDetection(Week3)\\UPAR(Soft-Biometric-Classification)\n"
     ]
    },
    {
     "name": "stderr",
     "output_type": "stream",
     "text": [
      "Traceback (most recent call last):\n",
      "  File \"download_datasets.py\", line 9, in <module>\n",
      "    import gdown\n",
      "ModuleNotFoundError: No module named 'gdown'\n",
      "'mv' is not recognized as an internal or external command,\n",
      "operable program or batch file.\n"
     ]
    }
   ],
   "source": [
    "!python3 download_datasets.py\n",
    "%cd {HOME}\n",
    "!mv upar_challenge/data ."
   ]
  },
  {
   "cell_type": "code",
   "execution_count": 7,
   "id": "a33bb04b",
   "metadata": {
    "id": "PYxNcR4XyKL0",
    "outputId": "457e5b22-fb5d-466e-faf5-334207115f4b",
    "papermill": {
     "duration": 0.094401,
     "end_time": "2024-03-24T04:12:19.654755",
     "exception": false,
     "start_time": "2024-03-24T04:12:19.560354",
     "status": "completed"
    },
    "tags": []
   },
   "outputs": [
    {
     "name": "stdout",
     "output_type": "stream",
     "text": [
      "The directory 'data/PA100k/release_data/release_data' does not exist.\n"
     ]
    }
   ],
   "source": [
    "current_dir_path = 'data/PA100k/release_data/release_data'\n",
    "new_dir_path = 'data/PA100k/data'\n",
    "\n",
    "\n",
    "if os.path.exists(current_dir_path):\n",
    "    if not os.path.exists(new_dir_path):\n",
    "        os.rename(current_dir_path, new_dir_path)\n",
    "        print(f\"Directory renamed from '{current_dir_path}' to '{new_dir_path}'\")\n",
    "\n",
    "    else:\n",
    "        print(f\"The target directory '{new_dir_path}' already exists.\")\n",
    "else:\n",
    "    print(f\"The directory '{current_dir_path}' does not exist.\")"
   ]
  },
  {
   "cell_type": "markdown",
   "id": "bc646317",
   "metadata": {
    "id": "Ipq3tXRkijzw",
    "papermill": {
     "duration": 0.091721,
     "end_time": "2024-03-24T04:12:19.836718",
     "exception": false,
     "start_time": "2024-03-24T04:12:19.744997",
     "status": "completed"
    },
    "tags": []
   },
   "source": [
    "## Construct dataset/dataloader"
   ]
  },
  {
   "cell_type": "code",
   "execution_count": 8,
   "id": "c7f161d7",
   "metadata": {
    "id": "7Y15r_o5v07f",
    "papermill": {
     "duration": 0.108607,
     "end_time": "2024-03-24T04:12:20.017509",
     "exception": false,
     "start_time": "2024-03-24T04:12:19.908902",
     "status": "completed"
    },
    "tags": []
   },
   "outputs": [],
   "source": [
    "\n",
    "class UPAR(data.Dataset):\n",
    "  \"\"\"\n",
    "  Load UPAR dataset from pickle file\n",
    "\n",
    "  split: whether to use train/val/trainval/test split\n",
    "  partition: partition id 0-9\n",
    "  root: path to datasets, original datasets must be in this directory\n",
    "  data_path: path to UPAR pickle file\n",
    "  transform: training data transforms\n",
    "  target_transforms: evaluation data transforms\n",
    "  \"\"\"\n",
    "  def __init__(self, split='train', partition=0, root=HOME, data_path='upar_dataset/UPAR/dataset_all.pkl', transform=None, target_transform=None):\n",
    "    dataset_info = pickle.load(open(data_path, 'rb+'))\n",
    "    self.dataset_info = dataset_info\n",
    "\n",
    "    img_id = dataset_info.image_name\n",
    "    attr_label = dataset_info.label\n",
    "\n",
    "    assert split in dataset_info.partition.keys(), f'split {split} does not exist'\n",
    "\n",
    "    self.dataset = 'UPAR'\n",
    "    self.transform = transform  # data transforms during training\n",
    "    self.target_transform = target_transform  # data transforms during testing\n",
    "\n",
    "    self.root_path = root+\"/data\"  # path to datasets\n",
    "\n",
    "    self.attr_id = dataset_info.attr_name  # attribute names\n",
    "    self.attr_num = len(self.attr_id)  # number of attributes\n",
    "\n",
    "\t\t# load partition\n",
    "    self.img_idx = dataset_info.partition[split]\n",
    "\n",
    "    if isinstance(self.img_idx, list):\n",
    "      self.img_idx = self.img_idx[partition]\n",
    "\n",
    "    if isinstance(self.img_idx, list):\n",
    "      self.img_idx = np.hstack(self.img_idx)\n",
    "\n",
    "    self.img_idx = np.array([i for i in self.img_idx if not any(folder in img_id[i] for folder in [\"RAP\"])])\n",
    "\n",
    "\n",
    "    self.img_num = self.img_idx.shape[0]\n",
    "    self.img_id = [img_id[i] for i in self.img_idx]\n",
    "    self.label = attr_label[self.img_idx]\n",
    "\n",
    "    # set sub-dataset lengths to enable evaluation on sub-datasets\n",
    "    self.sub_dataset_lengths = [len(d) for d in dataset_info.partition.test[partition]]\n",
    "\n",
    "\n",
    "  def __getitem__(self, index):\n",
    "      \"\"\"\n",
    "      get dataset item by index\n",
    "\n",
    "      index: item index\n",
    "      return: image data (img) with corresponding ground truth labels (gt_label), dataset id (did), and image path (imgname)\n",
    "      \"\"\"\n",
    "      imgname, gt_label, imgidx = self.img_id[index], self.label[index], self.img_idx[index]\n",
    "      did = self.dataset_info.dataset_ids[imgidx]\n",
    "      imgpath = os.path.join(self.root_path, imgname)\n",
    "      img = Image.open(imgpath)\n",
    "\n",
    "      if self.transform is not None:\n",
    "          img = self.transform(img)\n",
    "\n",
    "      gt_label = gt_label.astype(np.float32)\n",
    "\n",
    "      if self.target_transform is not None:\n",
    "          gt_label = self.transform(gt_label)\n",
    "\n",
    "      return img, gt_label, did, imgname\n",
    "\n",
    "\n",
    "  def __len__(self):\n",
    "    \"\"\"\n",
    "    get length of dataset\n",
    "    \"\"\"\n",
    "    return len(self.img_id)\n",
    "\n",
    "\n",
    "def get_transform(height, width):\n",
    "    normalize = T.Normalize(mean=[0.485, 0.456, 0.406], std=[0.229, 0.224, 0.225])\n",
    "    train_transform = [\n",
    "        T.Resize((height, width))\n",
    "    ]\n",
    "\n",
    "    train_transform += [\n",
    "        T.Pad(10),\n",
    "        T.RandomCrop((height, width)),\n",
    "        T.RandomHorizontalFlip(),\n",
    "    ]\n",
    "\n",
    "    train_transform += [\n",
    "        T.ToTensor(),\n",
    "        normalize,\n",
    "    ]\n",
    "    train_transform = T.Compose(train_transform)\n",
    "\n",
    "    valid_transform = T.Compose([\n",
    "        T.Resize((height, width)),\n",
    "        T.ToTensor(),\n",
    "        normalize\n",
    "    ])\n",
    "\n",
    "    return train_transform, valid_transform"
   ]
  },
  {
   "cell_type": "code",
   "execution_count": 9,
   "id": "5ab94abd",
   "metadata": {
    "id": "C__-utMewC83",
    "papermill": {
     "duration": 0.982437,
     "end_time": "2024-03-24T04:12:21.071441",
     "exception": false,
     "start_time": "2024-03-24T04:12:20.089004",
     "status": "completed"
    },
    "tags": []
   },
   "outputs": [],
   "source": [
    "height = 224  # Example height\n",
    "width = 224   # Example width\n",
    "train_transform, valid_transform = get_transform(height, width)\n",
    "\n",
    "\n",
    "# For training\n",
    "train_dataset = UPAR(split='train', partition=0, transform=train_transform)\n",
    "\n",
    "# For validation\n",
    "val_dataset = UPAR(split='val', partition=0, transform=valid_transform)\n",
    "\n",
    "# For testing\n",
    "test_dataset = UPAR(split='test', partition=0, transform=valid_transform)\n"
   ]
  },
  {
   "cell_type": "code",
   "execution_count": 10,
   "id": "94907ea8",
   "metadata": {
    "id": "bAwTtSBfwpBn",
    "papermill": {
     "duration": 0.0777,
     "end_time": "2024-03-24T04:12:21.219862",
     "exception": false,
     "start_time": "2024-03-24T04:12:21.142162",
     "status": "completed"
    },
    "tags": []
   },
   "outputs": [],
   "source": [
    "batch_size = 32  # Example batch size\n",
    "\n",
    "train_loader = DataLoader(train_dataset, batch_size=batch_size, shuffle=True)\n",
    "val_loader = DataLoader(val_dataset, batch_size=batch_size, shuffle=False)\n",
    "test_loader = DataLoader(test_dataset, batch_size=batch_size, shuffle=False)"
   ]
  },
  {
   "cell_type": "markdown",
   "id": "75109b14",
   "metadata": {
    "id": "zYqxrG3p_sc0",
    "papermill": {
     "duration": 0.067721,
     "end_time": "2024-03-24T04:12:21.358012",
     "exception": false,
     "start_time": "2024-03-24T04:12:21.290291",
     "status": "completed"
    },
    "tags": []
   },
   "source": [
    "# Model Baseline"
   ]
  },
  {
   "cell_type": "code",
   "execution_count": 11,
   "id": "2a202597",
   "metadata": {
    "id": "We87CAdU-cww",
    "papermill": {
     "duration": 0.087126,
     "end_time": "2024-03-24T04:12:21.532475",
     "exception": false,
     "start_time": "2024-03-24T04:12:21.445349",
     "status": "completed"
    },
    "tags": []
   },
   "outputs": [],
   "source": [
    "class UPAREfficientNetModel(nn.Module):\n",
    "    def __init__(self, num_attributes, version='efficientnet-b0'):\n",
    "        super(UPAREfficientNetModel, self).__init__()\n",
    "        self.efficientnet = EfficientNet.from_pretrained(version)\n",
    "        feature_size = self.efficientnet._fc.in_features\n",
    "        self.classifier = nn.Sequential(\n",
    "            nn.Dropout(),\n",
    "            nn.Linear(feature_size, 512),\n",
    "            nn.ReLU(inplace=True),\n",
    "            nn.Linear(512, num_attributes),\n",
    "            nn.Sigmoid()\n",
    "        )\n",
    "        \n",
    "        # Remove the original classifier\n",
    "        self.efficientnet._fc = nn.Identity()\n",
    "\n",
    "    def forward(self, x):\n",
    "        x = self.efficientnet(x)\n",
    "        x = self.classifier(x)\n",
    "        return x"
   ]
  },
  {
   "cell_type": "code",
   "execution_count": 12,
   "id": "45880ac8",
   "metadata": {
    "id": "NrK7JzSxDzZD",
    "papermill": {
     "duration": 1.141955,
     "end_time": "2024-03-24T04:12:22.745062",
     "exception": false,
     "start_time": "2024-03-24T04:12:21.603107",
     "status": "completed"
    },
    "tags": []
   },
   "outputs": [
    {
     "name": "stdout",
     "output_type": "stream",
     "text": [
      "Loaded pretrained weights for efficientnet-b0\n"
     ]
    }
   ],
   "source": [
    "num_attributes = 40  # Number of attributes/classes\n",
    "model = UPAREfficientNetModel(num_attributes=num_attributes, version='efficientnet-b0')\n",
    "\n",
    "loss_fn = nn.BCEWithLogitsLoss()\n",
    "optimizer = optim.Adam(model.parameters(), lr=0.001)\n",
    "scheduler = StepLR(optimizer, step_size=1, gamma=0.7)"
   ]
  },
  {
   "cell_type": "code",
   "execution_count": 13,
   "id": "7151ef97",
   "metadata": {
    "id": "guhqNIXxHkHS",
    "outputId": "b6849ff6-53fc-4bac-97b2-8d80d4211774",
    "papermill": {
     "duration": 3536.750095,
     "end_time": "2024-03-24T05:11:19.564840",
     "exception": false,
     "start_time": "2024-03-24T04:12:22.814745",
     "status": "completed"
    },
    "tags": []
   },
   "outputs": [
    {
     "name": "stdout",
     "output_type": "stream",
     "text": [
      "Epoch 1/10\n",
      "----------\n",
      "Batch 0, Loss: 0.888163685798645\n",
      "Batch 100, Loss: 0.6714040040969849\n",
      "Batch 200, Loss: 0.670503556728363\n",
      "Batch 300, Loss: 0.6674556136131287\n",
      "Batch 400, Loss: 0.668674886226654\n",
      "Batch 500, Loss: 0.6675630807876587\n",
      "Batch 600, Loss: 0.6666461825370789\n",
      "Batch 700, Loss: 0.6657683253288269\n",
      "Batch 800, Loss: 0.6662879586219788\n",
      "Batch 900, Loss: 0.6638235449790955\n",
      "Batch 1000, Loss: 0.6654782891273499\n",
      "Batch 1100, Loss: 0.663582444190979\n",
      "Batch 1200, Loss: 0.6669347882270813\n",
      "Batch 1300, Loss: 0.6680306792259216\n",
      "Batch 1400, Loss: 0.6697019934654236\n",
      "Batch 1500, Loss: 0.6734623908996582\n",
      "Batch 1600, Loss: 0.6631010174751282\n",
      "Batch 1700, Loss: 0.667633056640625\n",
      "Batch 1800, Loss: 0.6623842120170593\n",
      "Batch 1900, Loss: 0.6694939732551575\n",
      "Batch 2000, Loss: 0.6625273823738098\n",
      "Batch 2100, Loss: 0.6639817357063293\n",
      "Batch 2200, Loss: 0.6697638630867004\n",
      "Batch 2300, Loss: 0.6644483804702759\n",
      "Batch 2400, Loss: 0.6661810874938965\n",
      "Batch 2500, Loss: 0.6712441444396973\n",
      "Batch 2600, Loss: 0.6692441701889038\n",
      "Batch 2700, Loss: 0.6685370802879333\n",
      "Batch 2800, Loss: 0.6683087348937988\n",
      "Batch 2900, Loss: 0.6654460430145264\n",
      "Batch 3000, Loss: 0.6651563048362732\n",
      "Batch 3100, Loss: 0.6603405475616455\n",
      "Average Training Loss: 0.6671019119350358\n",
      "Average Validation Loss: 0.6676441612395835\n",
      "Epoch 2/10\n",
      "----------\n",
      "Batch 0, Loss: 0.6668859124183655\n",
      "Batch 100, Loss: 0.664172887802124\n",
      "Batch 200, Loss: 0.6706556081771851\n",
      "Batch 300, Loss: 0.6621631383895874\n",
      "Batch 400, Loss: 0.6612672805786133\n",
      "Batch 500, Loss: 0.6633757948875427\n",
      "Batch 600, Loss: 0.6665134429931641\n",
      "Batch 700, Loss: 0.6659421324729919\n",
      "Batch 800, Loss: 0.6653196215629578\n",
      "Batch 900, Loss: 0.6617957353591919\n",
      "Batch 1000, Loss: 0.6609684228897095\n",
      "Batch 1100, Loss: 0.6655871272087097\n",
      "Batch 1200, Loss: 0.662308394908905\n",
      "Batch 1300, Loss: 0.6649699211120605\n",
      "Batch 1400, Loss: 0.6633500456809998\n",
      "Batch 1500, Loss: 0.6699040532112122\n",
      "Batch 1600, Loss: 0.6613560914993286\n",
      "Batch 1700, Loss: 0.6653808951377869\n",
      "Batch 1800, Loss: 0.6644954085350037\n",
      "Batch 1900, Loss: 0.6691638231277466\n",
      "Batch 2000, Loss: 0.6631704568862915\n",
      "Batch 2100, Loss: 0.6696012020111084\n",
      "Batch 2200, Loss: 0.664576530456543\n",
      "Batch 2300, Loss: 0.6695847511291504\n",
      "Batch 2400, Loss: 0.6687833666801453\n",
      "Batch 2500, Loss: 0.6667131781578064\n",
      "Batch 2600, Loss: 0.6647295951843262\n",
      "Batch 2700, Loss: 0.6644708514213562\n",
      "Batch 2800, Loss: 0.6672347187995911\n",
      "Batch 2900, Loss: 0.6647259593009949\n",
      "Batch 3000, Loss: 0.6626505851745605\n",
      "Batch 3100, Loss: 0.6647722125053406\n",
      "Average Training Loss: 0.6661720957047763\n",
      "Average Validation Loss: 0.6686661658134866\n",
      "Epoch 3/10\n",
      "----------\n",
      "Batch 0, Loss: 0.6659428477287292\n",
      "Batch 100, Loss: 0.6613225340843201\n",
      "Batch 200, Loss: 0.6718101501464844\n",
      "Batch 300, Loss: 0.6730369329452515\n",
      "Batch 400, Loss: 0.6684818267822266\n",
      "Batch 500, Loss: 0.6672773957252502\n",
      "Batch 600, Loss: 0.6622472405433655\n",
      "Batch 700, Loss: 0.6713482737541199\n",
      "Batch 800, Loss: 0.6630493402481079\n",
      "Batch 900, Loss: 0.6717275977134705\n",
      "Batch 1000, Loss: 0.6692315936088562\n",
      "Batch 1100, Loss: 0.6662281155586243\n",
      "Batch 1200, Loss: 0.6700661778450012\n",
      "Batch 1300, Loss: 0.6636514663696289\n",
      "Batch 1400, Loss: 0.6663118004798889\n",
      "Batch 1500, Loss: 0.6705959439277649\n",
      "Batch 1600, Loss: 0.6681345105171204\n",
      "Batch 1700, Loss: 0.6647818684577942\n",
      "Batch 1800, Loss: 0.666325032711029\n",
      "Batch 1900, Loss: 0.6674920916557312\n",
      "Batch 2000, Loss: 0.6706137657165527\n",
      "Batch 2100, Loss: 0.6657319664955139\n",
      "Batch 2200, Loss: 0.6708911061286926\n",
      "Batch 2300, Loss: 0.6707399487495422\n",
      "Batch 2400, Loss: 0.6686250567436218\n",
      "Batch 2500, Loss: 0.6737880110740662\n",
      "Batch 2600, Loss: 0.6651411056518555\n",
      "Batch 2700, Loss: 0.6755417585372925\n",
      "Batch 2800, Loss: 0.6643438935279846\n",
      "Batch 2900, Loss: 0.6673145890235901\n",
      "Batch 3000, Loss: 0.6659366488456726\n",
      "Batch 3100, Loss: 0.6657798886299133\n",
      "Average Training Loss: 0.6665754938929439\n",
      "Average Validation Loss: 0.6672529413345012\n",
      "Epoch 4/10\n",
      "----------\n",
      "Batch 0, Loss: 0.660865068435669\n",
      "Batch 100, Loss: 0.6656654477119446\n",
      "Batch 200, Loss: 0.667477548122406\n",
      "Batch 300, Loss: 0.6652914881706238\n",
      "Batch 400, Loss: 0.6667068600654602\n",
      "Batch 500, Loss: 0.6673628091812134\n",
      "Batch 600, Loss: 0.6679949164390564\n",
      "Batch 700, Loss: 0.6650183200836182\n",
      "Batch 800, Loss: 0.6666879653930664\n",
      "Batch 900, Loss: 0.6687442660331726\n",
      "Batch 1000, Loss: 0.6649242639541626\n",
      "Batch 1100, Loss: 0.6700217723846436\n",
      "Batch 1200, Loss: 0.6685177683830261\n",
      "Batch 1300, Loss: 0.6701894998550415\n",
      "Batch 1400, Loss: 0.6670815348625183\n",
      "Batch 1500, Loss: 0.6653222441673279\n",
      "Batch 1600, Loss: 0.6752368807792664\n",
      "Batch 1700, Loss: 0.6670626401901245\n",
      "Batch 1800, Loss: 0.6711062788963318\n",
      "Batch 1900, Loss: 0.6653863191604614\n",
      "Batch 2000, Loss: 0.6652788519859314\n",
      "Batch 2100, Loss: 0.6661574244499207\n",
      "Batch 2200, Loss: 0.6674033403396606\n",
      "Batch 2300, Loss: 0.6639761328697205\n",
      "Batch 2400, Loss: 0.6669061779975891\n",
      "Batch 2500, Loss: 0.6650180816650391\n",
      "Batch 2600, Loss: 0.6661359071731567\n",
      "Batch 2700, Loss: 0.6697408556938171\n",
      "Batch 2800, Loss: 0.6659107208251953\n",
      "Batch 2900, Loss: 0.6636528968811035\n",
      "Batch 3000, Loss: 0.6677045822143555\n",
      "Batch 3100, Loss: 0.6677207350730896\n",
      "Average Training Loss: 0.6666784606134618\n",
      "Average Validation Loss: 0.667792852254624\n",
      "Epoch 5/10\n",
      "----------\n",
      "Batch 0, Loss: 0.6694815754890442\n",
      "Batch 100, Loss: 0.6645336151123047\n",
      "Batch 200, Loss: 0.6695963740348816\n",
      "Batch 300, Loss: 0.6668576598167419\n",
      "Batch 400, Loss: 0.6646881103515625\n",
      "Batch 500, Loss: 0.6646542549133301\n",
      "Batch 600, Loss: 0.669794499874115\n",
      "Batch 700, Loss: 0.6684640049934387\n",
      "Batch 800, Loss: 0.6711578369140625\n",
      "Batch 900, Loss: 0.6713215112686157\n",
      "Batch 1000, Loss: 0.6721698045730591\n",
      "Batch 1100, Loss: 0.6667707562446594\n",
      "Batch 1200, Loss: 0.6646241545677185\n",
      "Batch 1300, Loss: 0.6662024259567261\n",
      "Batch 1400, Loss: 0.6669983863830566\n",
      "Batch 1500, Loss: 0.6672046780586243\n",
      "Batch 1600, Loss: 0.6690638661384583\n",
      "Batch 1700, Loss: 0.6707949042320251\n",
      "Batch 1800, Loss: 0.6710864901542664\n",
      "Batch 1900, Loss: 0.664271354675293\n",
      "Batch 2000, Loss: 0.667980968952179\n",
      "Batch 2100, Loss: 0.6697832345962524\n",
      "Batch 2200, Loss: 0.6682038307189941\n",
      "Batch 2300, Loss: 0.662975013256073\n",
      "Batch 2400, Loss: 0.6652910113334656\n",
      "Batch 2500, Loss: 0.6644538044929504\n",
      "Batch 2600, Loss: 0.6698126196861267\n",
      "Batch 2700, Loss: 0.6646062135696411\n",
      "Batch 2800, Loss: 0.6688115000724792\n",
      "Batch 2900, Loss: 0.6710080504417419\n",
      "Batch 3000, Loss: 0.6702988743782043\n",
      "Batch 3100, Loss: 0.6678576469421387\n",
      "Average Training Loss: 0.6669331061210645\n",
      "Average Validation Loss: 0.6694004876816526\n",
      "Epoch 6/10\n",
      "----------\n",
      "Batch 0, Loss: 0.6671741604804993\n",
      "Batch 100, Loss: 0.6669362187385559\n",
      "Batch 200, Loss: 0.6701356172561646\n",
      "Batch 300, Loss: 0.6682347655296326\n",
      "Batch 400, Loss: 0.6642206907272339\n",
      "Batch 500, Loss: 0.6699351072311401\n",
      "Batch 600, Loss: 0.6675095558166504\n",
      "Batch 700, Loss: 0.6660961508750916\n",
      "Batch 800, Loss: 0.6618701219558716\n",
      "Batch 900, Loss: 0.6699924468994141\n",
      "Batch 1000, Loss: 0.6723877787590027\n",
      "Batch 1100, Loss: 0.6662865877151489\n",
      "Batch 1200, Loss: 0.6717691421508789\n",
      "Batch 1300, Loss: 0.672448992729187\n",
      "Batch 1400, Loss: 0.6701114773750305\n",
      "Batch 1500, Loss: 0.6664993762969971\n",
      "Batch 1600, Loss: 0.6657660007476807\n",
      "Batch 1700, Loss: 0.6640352606773376\n",
      "Batch 1800, Loss: 0.6662967801094055\n",
      "Batch 1900, Loss: 0.6667937636375427\n",
      "Batch 2000, Loss: 0.6742851138114929\n",
      "Batch 2100, Loss: 0.6674745678901672\n",
      "Batch 2200, Loss: 0.6677003502845764\n",
      "Batch 2300, Loss: 0.6673327684402466\n",
      "Batch 2400, Loss: 0.6657562255859375\n",
      "Batch 2500, Loss: 0.6629530787467957\n",
      "Batch 2600, Loss: 0.6657825708389282\n",
      "Batch 2700, Loss: 0.6636423468589783\n",
      "Batch 2800, Loss: 0.6646234393119812\n",
      "Batch 2900, Loss: 0.6678760647773743\n",
      "Batch 3000, Loss: 0.6637539863586426\n",
      "Batch 3100, Loss: 0.6675496101379395\n",
      "Average Training Loss: 0.6672598933824753\n",
      "Average Validation Loss: 0.6688428973897974\n",
      "Epoch 7/10\n",
      "----------\n",
      "Batch 0, Loss: 0.6695706248283386\n",
      "Batch 100, Loss: 0.668034017086029\n",
      "Batch 200, Loss: 0.668018102645874\n",
      "Batch 300, Loss: 0.6676478385925293\n",
      "Batch 400, Loss: 0.6639706492424011\n",
      "Batch 500, Loss: 0.6694393157958984\n",
      "Batch 600, Loss: 0.6644178628921509\n",
      "Batch 700, Loss: 0.6663548350334167\n",
      "Batch 800, Loss: 0.6615206003189087\n",
      "Batch 900, Loss: 0.6671884655952454\n",
      "Batch 1000, Loss: 0.668254017829895\n",
      "Batch 1100, Loss: 0.6736074686050415\n",
      "Batch 1200, Loss: 0.6661748290061951\n",
      "Batch 1300, Loss: 0.6701539158821106\n",
      "Batch 1400, Loss: 0.6652103066444397\n",
      "Batch 1500, Loss: 0.6658981442451477\n",
      "Batch 1600, Loss: 0.6684911251068115\n",
      "Batch 1700, Loss: 0.6718595623970032\n",
      "Batch 1800, Loss: 0.660035252571106\n",
      "Batch 1900, Loss: 0.6663841605186462\n",
      "Batch 2000, Loss: 0.6671289801597595\n",
      "Batch 2100, Loss: 0.6650180816650391\n",
      "Batch 2200, Loss: 0.664267361164093\n",
      "Batch 2300, Loss: 0.6633464694023132\n",
      "Batch 2400, Loss: 0.6743144989013672\n",
      "Batch 2500, Loss: 0.6636434197425842\n",
      "Batch 2600, Loss: 0.6665806174278259\n",
      "Batch 2700, Loss: 0.6623782515525818\n",
      "Batch 2800, Loss: 0.6723464131355286\n",
      "Batch 2900, Loss: 0.6633249521255493\n",
      "Batch 3000, Loss: 0.6753115057945251\n",
      "Batch 3100, Loss: 0.6677868366241455\n",
      "Average Training Loss: 0.6670880764533242\n",
      "Average Validation Loss: 0.6675701029757236\n",
      "Epoch 8/10\n",
      "----------\n",
      "Batch 0, Loss: 0.6664064526557922\n",
      "Batch 100, Loss: 0.6717831492424011\n",
      "Batch 200, Loss: 0.6644331812858582\n",
      "Batch 300, Loss: 0.6698574423789978\n",
      "Batch 400, Loss: 0.6684703826904297\n",
      "Batch 500, Loss: 0.6725041270256042\n",
      "Batch 600, Loss: 0.6628381013870239\n",
      "Batch 700, Loss: 0.6694394946098328\n",
      "Batch 800, Loss: 0.6663699746131897\n",
      "Batch 900, Loss: 0.6625957489013672\n",
      "Batch 1000, Loss: 0.6707586646080017\n",
      "Batch 1100, Loss: 0.6644520163536072\n",
      "Batch 1200, Loss: 0.6648678779602051\n",
      "Batch 1300, Loss: 0.6643475890159607\n",
      "Batch 1400, Loss: 0.6643947958946228\n",
      "Batch 1500, Loss: 0.6680260896682739\n",
      "Batch 1600, Loss: 0.6664111018180847\n",
      "Batch 1700, Loss: 0.6684497594833374\n",
      "Batch 1800, Loss: 0.6666111350059509\n",
      "Batch 1900, Loss: 0.6621902585029602\n",
      "Batch 2000, Loss: 0.6693024039268494\n",
      "Batch 2100, Loss: 0.6656051874160767\n",
      "Batch 2200, Loss: 0.6695917248725891\n",
      "Batch 2300, Loss: 0.6641603112220764\n",
      "Batch 2400, Loss: 0.6668778657913208\n",
      "Batch 2500, Loss: 0.6653203368186951\n",
      "Batch 2600, Loss: 0.6673633456230164\n",
      "Batch 2700, Loss: 0.6731736063957214\n",
      "Batch 2800, Loss: 0.6739872097969055\n",
      "Batch 2900, Loss: 0.6629175543785095\n",
      "Batch 3000, Loss: 0.664236843585968\n",
      "Batch 3100, Loss: 0.6634572148323059\n",
      "Average Training Loss: 0.6669299276237572\n",
      "Average Validation Loss: 0.6722469044492599\n",
      "Epoch 9/10\n",
      "----------\n",
      "Batch 0, Loss: 0.6677671670913696\n",
      "Batch 100, Loss: 0.673022985458374\n",
      "Batch 200, Loss: 0.6652057766914368\n",
      "Batch 300, Loss: 0.6648136377334595\n",
      "Batch 400, Loss: 0.667308509349823\n",
      "Batch 500, Loss: 0.660733699798584\n",
      "Batch 600, Loss: 0.6648306250572205\n",
      "Batch 700, Loss: 0.6656116843223572\n",
      "Batch 800, Loss: 0.6668610572814941\n",
      "Batch 900, Loss: 0.6649424433708191\n",
      "Batch 1000, Loss: 0.6711589097976685\n",
      "Batch 1100, Loss: 0.6684277653694153\n",
      "Batch 1200, Loss: 0.6631588339805603\n",
      "Batch 1300, Loss: 0.6718624234199524\n",
      "Batch 1400, Loss: 0.6640491485595703\n",
      "Batch 1500, Loss: 0.6728610992431641\n",
      "Batch 1600, Loss: 0.662786602973938\n",
      "Batch 1700, Loss: 0.6683613061904907\n",
      "Batch 1800, Loss: 0.6619043350219727\n",
      "Batch 1900, Loss: 0.6652218699455261\n",
      "Batch 2000, Loss: 0.6633282899856567\n",
      "Batch 2100, Loss: 0.6678463220596313\n",
      "Batch 2200, Loss: 0.6684545874595642\n",
      "Batch 2300, Loss: 0.6696956753730774\n",
      "Batch 2400, Loss: 0.6667988896369934\n",
      "Batch 2500, Loss: 0.667466938495636\n",
      "Batch 2600, Loss: 0.665382981300354\n",
      "Batch 2700, Loss: 0.6723461151123047\n",
      "Batch 2800, Loss: 0.6663255095481873\n",
      "Batch 2900, Loss: 0.6671101450920105\n",
      "Batch 3000, Loss: 0.6653143763542175\n",
      "Batch 3100, Loss: 0.6675800681114197\n",
      "Average Training Loss: 0.6671625331006281\n",
      "Average Validation Loss: 0.6678170608713272\n",
      "Epoch 10/10\n",
      "----------\n",
      "Batch 0, Loss: 0.6654818058013916\n",
      "Batch 100, Loss: 0.6625957489013672\n",
      "Batch 200, Loss: 0.6649854779243469\n",
      "Batch 300, Loss: 0.6677215695381165\n",
      "Batch 400, Loss: 0.6679539084434509\n",
      "Batch 500, Loss: 0.6651002764701843\n",
      "Batch 600, Loss: 0.6663928031921387\n",
      "Batch 700, Loss: 0.6632092595100403\n",
      "Batch 800, Loss: 0.6618828773498535\n",
      "Batch 900, Loss: 0.6645470857620239\n",
      "Batch 1000, Loss: 0.6700558662414551\n",
      "Batch 1100, Loss: 0.6627702116966248\n",
      "Batch 1200, Loss: 0.6672832369804382\n",
      "Batch 1300, Loss: 0.6712679862976074\n",
      "Batch 1400, Loss: 0.6682671904563904\n",
      "Batch 1500, Loss: 0.6668446063995361\n",
      "Batch 1600, Loss: 0.6693713068962097\n",
      "Batch 1700, Loss: 0.6643200516700745\n",
      "Batch 1800, Loss: 0.6706780791282654\n",
      "Batch 1900, Loss: 0.6674404144287109\n",
      "Batch 2000, Loss: 0.6685270667076111\n",
      "Batch 2100, Loss: 0.662082850933075\n",
      "Batch 2200, Loss: 0.6664714217185974\n",
      "Batch 2300, Loss: 0.6677369475364685\n",
      "Batch 2400, Loss: 0.671393871307373\n",
      "Batch 2500, Loss: 0.6671237945556641\n",
      "Batch 2600, Loss: 0.6619716882705688\n",
      "Batch 2700, Loss: 0.6667665243148804\n",
      "Batch 2800, Loss: 0.6679885387420654\n",
      "Batch 2900, Loss: 0.6621898412704468\n",
      "Batch 3000, Loss: 0.6683310866355896\n",
      "Batch 3100, Loss: 0.666982114315033\n",
      "Average Training Loss: 0.6672015439993856\n",
      "Average Validation Loss: 0.667861374134713\n"
     ]
    }
   ],
   "source": [
    "def train_one_epoch(model, dataloader, loss_fn, optimizer, device):\n",
    "    model.train()\n",
    "    total_loss = 0\n",
    "    for batch, (X, y, _, _) in enumerate(dataloader):\n",
    "        X, y = X.to(device), y.to(device)\n",
    "\n",
    "        pred = model(X)\n",
    "        loss = loss_fn(pred, y)\n",
    "\n",
    "        optimizer.zero_grad()\n",
    "        loss.backward()\n",
    "        optimizer.step()\n",
    "\n",
    "        total_loss += loss.item()\n",
    "\n",
    "        if batch % 100 == 0:\n",
    "            print(f\"Batch {batch}, Loss: {loss.item()}\")\n",
    "\n",
    "    avg_loss = total_loss / len(dataloader)\n",
    "    print(f\"Average Training Loss: {avg_loss}\")\n",
    "    return avg_loss\n",
    "\n",
    "def validate(model, dataloader, loss_fn, device):\n",
    "    model.eval()\n",
    "    total_loss = 0\n",
    "    with torch.no_grad():\n",
    "        for X, y, _, _ in dataloader:\n",
    "            X, y = X.to(device), y.to(device)\n",
    "            pred = model(X)\n",
    "            loss = loss_fn(pred, y)\n",
    "            total_loss += loss.item()\n",
    "\n",
    "    avg_loss = total_loss / len(dataloader)\n",
    "    print(f\"Average Validation Loss: {avg_loss}\")\n",
    "    return avg_loss\n",
    "\n",
    "device = torch.device(\"cuda\" if torch.cuda.is_available() else \"cpu\")\n",
    "model.to(device)\n",
    "\n",
    "epochs = 10\n",
    "\n",
    "for epoch in range(epochs):\n",
    "    print(f\"Epoch {epoch+1}/{epochs}\")\n",
    "    print(\"-\" * 10)\n",
    "    train_loss = train_one_epoch(model, train_loader, loss_fn, optimizer, device)\n",
    "    val_loss = validate(model, val_loader, loss_fn, device)\n"
   ]
  },
  {
   "cell_type": "code",
   "execution_count": 14,
   "id": "035f5022",
   "metadata": {
    "id": "cT7dvhsmHuPp",
    "papermill": {
     "duration": 0.890332,
     "end_time": "2024-03-24T05:11:20.536527",
     "exception": false,
     "start_time": "2024-03-24T05:11:19.646195",
     "status": "completed"
    },
    "tags": []
   },
   "outputs": [
    {
     "name": "stdout",
     "output_type": "stream",
     "text": [
      "Model saved to eff_model.pth\n"
     ]
    }
   ],
   "source": [
    "model_save_path = \"eff_model.pth\"\n",
    "torch.save(model.state_dict(), model_save_path)\n",
    "print(f\"Model saved to {model_save_path}\")"
   ]
  },
  {
   "cell_type": "code",
   "execution_count": null,
   "id": "4a0a8276",
   "metadata": {
    "papermill": {
     "duration": 0.086813,
     "end_time": "2024-03-24T05:11:20.709463",
     "exception": false,
     "start_time": "2024-03-24T05:11:20.622650",
     "status": "completed"
    },
    "tags": []
   },
   "outputs": [],
   "source": []
  }
 ],
 "metadata": {
  "colab": {
   "provenance": []
  },
  "kaggle": {
   "accelerator": "nvidiaTeslaT4",
   "dataSources": [],
   "dockerImageVersionId": 30673,
   "isGpuEnabled": true,
   "isInternetEnabled": true,
   "language": "python",
   "sourceType": "notebook"
  },
  "kernelspec": {
   "display_name": "Python 3 (ipykernel)",
   "language": "python",
   "name": "python3"
  },
  "language_info": {
   "codemirror_mode": {
    "name": "ipython",
    "version": 3
   },
   "file_extension": ".py",
   "mimetype": "text/x-python",
   "name": "python",
   "nbconvert_exporter": "python",
   "pygments_lexer": "ipython3",
   "version": "3.8.18"
  },
  "papermill": {
   "default_parameters": {},
   "duration": 3630.02537,
   "end_time": "2024-03-24T05:11:23.462049",
   "environment_variables": {},
   "exception": null,
   "input_path": "__notebook__.ipynb",
   "output_path": "__notebook__.ipynb",
   "parameters": {},
   "start_time": "2024-03-24T04:10:53.436679",
   "version": "2.5.0"
  }
 },
 "nbformat": 4,
 "nbformat_minor": 5
}
