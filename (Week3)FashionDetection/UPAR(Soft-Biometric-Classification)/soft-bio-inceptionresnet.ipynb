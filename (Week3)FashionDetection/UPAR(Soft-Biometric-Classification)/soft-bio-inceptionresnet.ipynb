{
 "cells": [
  {
   "cell_type": "code",
   "execution_count": 1,
   "id": "9883c49d",
   "metadata": {
    "id": "PfgBeuAevIXc",
    "outputId": "940c3dce-bd09-4aea-eef9-8c79207167be",
    "papermill": {
     "duration": 2.759335,
     "end_time": "2024-03-24T05:37:35.405847",
     "exception": false,
     "start_time": "2024-03-24T05:37:32.646512",
     "status": "completed"
    },
    "tags": []
   },
   "outputs": [
    {
     "name": "stderr",
     "output_type": "stream",
     "text": [
      "fatal: destination path 'upar_dataset' already exists and is not an empty directory.\n"
     ]
    }
   ],
   "source": [
    "!git clone https://github.com/speckean/upar_dataset.git"
   ]
  },
  {
   "cell_type": "markdown",
   "id": "c649f217",
   "metadata": {
    "id": "N-Qkzag4vzzN",
    "papermill": {
     "duration": 0.00614,
     "end_time": "2024-03-24T05:37:35.418864",
     "exception": false,
     "start_time": "2024-03-24T05:37:35.412724",
     "status": "completed"
    },
    "tags": []
   },
   "source": [
    "# Import Tools"
   ]
  },
  {
   "cell_type": "code",
   "execution_count": 2,
   "id": "0ff74539",
   "metadata": {
    "id": "qPx3W0h-vT97",
    "papermill": {
     "duration": 6.798511,
     "end_time": "2024-03-24T05:37:42.223701",
     "exception": false,
     "start_time": "2024-03-24T05:37:35.425190",
     "status": "completed"
    },
    "tags": []
   },
   "outputs": [],
   "source": [
    "import os\n",
    "import pickle\n",
    "import glob\n",
    "import random\n",
    "\n",
    "import numpy as np\n",
    "import torch.utils.data as data\n",
    "from PIL import Image\n",
    "\n",
    "import torchvision.transforms as T\n",
    "\n",
    "from torch.utils.data import DataLoader\n",
    "\n",
    "import torch\n",
    "import torch.nn as nn\n",
    "import torch.optim as optim\n",
    "from torchvision import models\n",
    "from torch.optim.lr_scheduler import StepLR"
   ]
  },
  {
   "cell_type": "code",
   "execution_count": 3,
   "id": "01b66c2b",
   "metadata": {
    "id": "g3cYG_hs_bhO",
    "outputId": "f79cb5d2-c440-46b4-8db0-44f1532b73ba",
    "papermill": {
     "duration": 0.017803,
     "end_time": "2024-03-24T05:37:42.247741",
     "exception": false,
     "start_time": "2024-03-24T05:37:42.229938",
     "status": "completed"
    },
    "tags": []
   },
   "outputs": [
    {
     "data": {
      "text/plain": [
       "'C:\\\\Users\\\\USER\\\\Downloads\\\\LabML\\\\FashionDetection(Week3)\\\\UPAR(Soft-Biometric-Classification)'"
      ]
     },
     "execution_count": 3,
     "metadata": {},
     "output_type": "execute_result"
    }
   ],
   "source": [
    "HOME = os.getcwd()\n",
    "HOME"
   ]
  },
  {
   "cell_type": "markdown",
   "id": "620850e8",
   "metadata": {
    "id": "lUdsEedzid6v",
    "papermill": {
     "duration": 0.006357,
     "end_time": "2024-03-24T05:37:42.260846",
     "exception": false,
     "start_time": "2024-03-24T05:37:42.254489",
     "status": "completed"
    },
    "tags": []
   },
   "source": [
    "# Dataset"
   ]
  },
  {
   "cell_type": "markdown",
   "id": "6ea4eb3b",
   "metadata": {
    "id": "96_bEv_IiiA6",
    "papermill": {
     "duration": 0.006216,
     "end_time": "2024-03-24T05:37:42.273530",
     "exception": false,
     "start_time": "2024-03-24T05:37:42.267314",
     "status": "completed"
    },
    "tags": []
   },
   "source": [
    "## Get a data"
   ]
  },
  {
   "cell_type": "code",
   "execution_count": 4,
   "id": "69957df0",
   "metadata": {
    "id": "oRRDnWjIi-zS",
    "outputId": "89e7bd3d-ce24-4a17-c47d-3db23c5491fc",
    "papermill": {
     "duration": 15.79207,
     "end_time": "2024-03-24T05:37:58.072193",
     "exception": false,
     "start_time": "2024-03-24T05:37:42.280123",
     "status": "completed"
    },
    "tags": []
   },
   "outputs": [
    {
     "name": "stdout",
     "output_type": "stream",
     "text": [
      "C:\\Users\\USER\\Downloads\\LabML\\FashionDetection(Week3)\\UPAR(Soft-Biometric-Classification)\\upar_challenge\n"
     ]
    },
    {
     "name": "stderr",
     "output_type": "stream",
     "text": [
      "fatal: destination path 'upar_challenge' already exists and is not an empty directory.\n"
     ]
    },
    {
     "name": "stdout",
     "output_type": "stream",
     "text": [
      "Requirement already satisfied: tqdm in c:\\users\\user\\anaconda3\\envs\\yolo\\lib\\site-packages (4.66.2)\n",
      "Requirement already satisfied: gdown in c:\\users\\user\\anaconda3\\envs\\yolo\\lib\\site-packages (5.1.0)\n",
      "Requirement already satisfied: requests in c:\\users\\user\\anaconda3\\envs\\yolo\\lib\\site-packages (2.31.0)\n",
      "Requirement already satisfied: colorama in c:\\users\\user\\anaconda3\\envs\\yolo\\lib\\site-packages (from tqdm) (0.4.4)\n",
      "Requirement already satisfied: beautifulsoup4 in c:\\users\\user\\anaconda3\\envs\\yolo\\lib\\site-packages (from gdown) (4.12.2)\n",
      "Requirement already satisfied: filelock in c:\\users\\user\\appdata\\roaming\\python\\python38\\site-packages (from gdown) (3.9.0)\n",
      "Requirement already satisfied: charset-normalizer<4,>=2 in c:\\users\\user\\anaconda3\\envs\\yolo\\lib\\site-packages (from requests) (2.0.4)\n",
      "Requirement already satisfied: idna<4,>=2.5 in c:\\users\\user\\appdata\\roaming\\python\\python38\\site-packages (from requests) (2.10)\n",
      "Requirement already satisfied: urllib3<3,>=1.21.1 in c:\\users\\user\\anaconda3\\envs\\yolo\\lib\\site-packages (from requests) (1.26.18)\n",
      "Requirement already satisfied: certifi>=2017.4.17 in c:\\users\\user\\appdata\\roaming\\python\\python38\\site-packages (from requests) (2023.7.22)\n",
      "Requirement already satisfied: soupsieve>1.2 in c:\\users\\user\\anaconda3\\envs\\yolo\\lib\\site-packages (from beautifulsoup4->gdown) (2.5)\n",
      "Requirement already satisfied: PySocks!=1.5.7,>=1.5.6 in c:\\users\\user\\anaconda3\\envs\\yolo\\lib\\site-packages (from requests[socks]->gdown) (1.7.1)\n"
     ]
    }
   ],
   "source": [
    "!git clone https://github.com/speckean/upar_challenge.git\n",
    "%cd upar_challenge\n",
    "!pip install tqdm gdown requests"
   ]
  },
  {
   "cell_type": "code",
   "execution_count": 5,
   "id": "d30e4c4a",
   "metadata": {
    "id": "6vrUotcziocm",
    "outputId": "2d7bdb8c-f538-44be-e008-4aadf50c74ed",
    "papermill": {
     "duration": 50.883986,
     "end_time": "2024-03-24T05:38:48.964092",
     "exception": false,
     "start_time": "2024-03-24T05:37:58.080106",
     "status": "completed"
    },
    "tags": []
   },
   "outputs": [
    {
     "name": "stdout",
     "output_type": "stream",
     "text": [
      "C:\\Users\\USER\\Downloads\\LabML\\FashionDetection(Week3)\\UPAR(Soft-Biometric-Classification)\n"
     ]
    },
    {
     "name": "stderr",
     "output_type": "stream",
     "text": [
      "Traceback (most recent call last):\n",
      "  File \"download_datasets.py\", line 9, in <module>\n",
      "    import gdown\n",
      "ModuleNotFoundError: No module named 'gdown'\n",
      "'mv' is not recognized as an internal or external command,\n",
      "operable program or batch file.\n"
     ]
    }
   ],
   "source": [
    "!python3 download_datasets.py\n",
    "%cd {HOME}\n",
    "!mv upar_challenge/data ."
   ]
  },
  {
   "cell_type": "code",
   "execution_count": 6,
   "id": "ece41be9",
   "metadata": {
    "id": "PYxNcR4XyKL0",
    "outputId": "457e5b22-fb5d-466e-faf5-334207115f4b",
    "papermill": {
     "duration": 0.090484,
     "end_time": "2024-03-24T05:38:49.133012",
     "exception": false,
     "start_time": "2024-03-24T05:38:49.042528",
     "status": "completed"
    },
    "tags": []
   },
   "outputs": [
    {
     "name": "stdout",
     "output_type": "stream",
     "text": [
      "The directory 'data/PA100k/release_data/release_data' does not exist.\n"
     ]
    }
   ],
   "source": [
    "current_dir_path = 'data/PA100k/release_data/release_data'\n",
    "new_dir_path = 'data/PA100k/data'\n",
    "\n",
    "\n",
    "if os.path.exists(current_dir_path):\n",
    "    if not os.path.exists(new_dir_path):\n",
    "        os.rename(current_dir_path, new_dir_path)\n",
    "        print(f\"Directory renamed from '{current_dir_path}' to '{new_dir_path}'\")\n",
    "\n",
    "    else:\n",
    "        print(f\"The target directory '{new_dir_path}' already exists.\")\n",
    "else:\n",
    "    print(f\"The directory '{current_dir_path}' does not exist.\")"
   ]
  },
  {
   "cell_type": "markdown",
   "id": "a125616d",
   "metadata": {
    "id": "Ipq3tXRkijzw",
    "papermill": {
     "duration": 0.073196,
     "end_time": "2024-03-24T05:38:49.282200",
     "exception": false,
     "start_time": "2024-03-24T05:38:49.209004",
     "status": "completed"
    },
    "tags": []
   },
   "source": [
    "## Construct dataset/dataloader"
   ]
  },
  {
   "cell_type": "code",
   "execution_count": 7,
   "id": "dea902f7",
   "metadata": {
    "id": "7Y15r_o5v07f",
    "papermill": {
     "duration": 0.099283,
     "end_time": "2024-03-24T05:38:49.457052",
     "exception": false,
     "start_time": "2024-03-24T05:38:49.357769",
     "status": "completed"
    },
    "tags": []
   },
   "outputs": [],
   "source": [
    "\n",
    "class UPAR(data.Dataset):\n",
    "  \"\"\"\n",
    "  Load UPAR dataset from pickle file\n",
    "\n",
    "  split: whether to use train/val/trainval/test split\n",
    "  partition: partition id 0-9\n",
    "  root: path to datasets, original datasets must be in this directory\n",
    "  data_path: path to UPAR pickle file\n",
    "  transform: training data transforms\n",
    "  target_transforms: evaluation data transforms\n",
    "  \"\"\"\n",
    "  def __init__(self, split='train', partition=0, root=HOME, data_path='upar_dataset/UPAR/dataset_all.pkl', transform=None, target_transform=None):\n",
    "    dataset_info = pickle.load(open(data_path, 'rb+'))\n",
    "    self.dataset_info = dataset_info\n",
    "\n",
    "    img_id = dataset_info.image_name\n",
    "    attr_label = dataset_info.label\n",
    "\n",
    "    assert split in dataset_info.partition.keys(), f'split {split} does not exist'\n",
    "\n",
    "    self.dataset = 'UPAR'\n",
    "    self.transform = transform  # data transforms during training\n",
    "    self.target_transform = target_transform  # data transforms during testing\n",
    "\n",
    "    self.root_path = root+\"/data\"  # path to datasets\n",
    "\n",
    "    self.attr_id = dataset_info.attr_name  # attribute names\n",
    "    self.attr_num = len(self.attr_id)  # number of attributes\n",
    "\n",
    "\t\t# load partition\n",
    "    self.img_idx = dataset_info.partition[split]\n",
    "\n",
    "    if isinstance(self.img_idx, list):\n",
    "      self.img_idx = self.img_idx[partition]\n",
    "\n",
    "    if isinstance(self.img_idx, list):\n",
    "      self.img_idx = np.hstack(self.img_idx)\n",
    "\n",
    "    self.img_idx = np.array([i for i in self.img_idx if not any(folder in img_id[i] for folder in [\"RAP\"])])\n",
    "\n",
    "\n",
    "    self.img_num = self.img_idx.shape[0]\n",
    "    self.img_id = [img_id[i] for i in self.img_idx]\n",
    "    self.label = attr_label[self.img_idx]\n",
    "\n",
    "    # set sub-dataset lengths to enable evaluation on sub-datasets\n",
    "    self.sub_dataset_lengths = [len(d) for d in dataset_info.partition.test[partition]]\n",
    "\n",
    "\n",
    "  def __getitem__(self, index):\n",
    "      \"\"\"\n",
    "      get dataset item by index\n",
    "\n",
    "      index: item index\n",
    "      return: image data (img) with corresponding ground truth labels (gt_label), dataset id (did), and image path (imgname)\n",
    "      \"\"\"\n",
    "      imgname, gt_label, imgidx = self.img_id[index], self.label[index], self.img_idx[index]\n",
    "      did = self.dataset_info.dataset_ids[imgidx]\n",
    "      imgpath = os.path.join(self.root_path, imgname)\n",
    "      img = Image.open(imgpath)\n",
    "\n",
    "      if self.transform is not None:\n",
    "          img = self.transform(img)\n",
    "\n",
    "      gt_label = gt_label.astype(np.float32)\n",
    "\n",
    "      if self.target_transform is not None:\n",
    "          gt_label = self.transform(gt_label)\n",
    "\n",
    "      return img, gt_label, did, imgname\n",
    "\n",
    "\n",
    "  def __len__(self):\n",
    "    \"\"\"\n",
    "    get length of dataset\n",
    "    \"\"\"\n",
    "    return len(self.img_id)\n",
    "\n",
    "\n",
    "def get_transform(height, width):\n",
    "    normalize = T.Normalize(mean=[0.485, 0.456, 0.406], std=[0.229, 0.224, 0.225])\n",
    "    train_transform = [\n",
    "        T.Resize((height, width))\n",
    "    ]\n",
    "\n",
    "    train_transform += [\n",
    "        T.Pad(10),\n",
    "        T.RandomCrop((height, width)),\n",
    "        T.RandomHorizontalFlip(),\n",
    "    ]\n",
    "\n",
    "    train_transform += [\n",
    "        T.ToTensor(),\n",
    "        normalize,\n",
    "    ]\n",
    "    train_transform = T.Compose(train_transform)\n",
    "\n",
    "    valid_transform = T.Compose([\n",
    "        T.Resize((height, width)),\n",
    "        T.ToTensor(),\n",
    "        normalize\n",
    "    ])\n",
    "\n",
    "    return train_transform, valid_transform"
   ]
  },
  {
   "cell_type": "code",
   "execution_count": 8,
   "id": "a8edcb74",
   "metadata": {
    "id": "C__-utMewC83",
    "papermill": {
     "duration": 1.292092,
     "end_time": "2024-03-24T05:38:50.894104",
     "exception": false,
     "start_time": "2024-03-24T05:38:49.602012",
     "status": "completed"
    },
    "tags": []
   },
   "outputs": [],
   "source": [
    "height = 299 # For Inception\n",
    "width = 299\n",
    "train_transform, valid_transform = get_transform(height, width)\n",
    "\n",
    "\n",
    "train_dataset = UPAR(split='train', partition=0, transform=train_transform)\n",
    "val_dataset = UPAR(split='val', partition=0, transform=valid_transform)\n",
    "test_dataset = UPAR(split='test', partition=0, transform=valid_transform)\n"
   ]
  },
  {
   "cell_type": "code",
   "execution_count": 9,
   "id": "8202c30f",
   "metadata": {
    "id": "bAwTtSBfwpBn",
    "papermill": {
     "duration": 0.090563,
     "end_time": "2024-03-24T05:38:51.079889",
     "exception": false,
     "start_time": "2024-03-24T05:38:50.989326",
     "status": "completed"
    },
    "tags": []
   },
   "outputs": [],
   "source": [
    "batch_size = 32 \n",
    "train_loader = DataLoader(train_dataset, batch_size=batch_size, shuffle=True)\n",
    "val_loader = DataLoader(val_dataset, batch_size=batch_size, shuffle=False)\n",
    "test_loader = DataLoader(test_dataset, batch_size=batch_size, shuffle=False)"
   ]
  },
  {
   "cell_type": "markdown",
   "id": "1271535a",
   "metadata": {
    "id": "zYqxrG3p_sc0",
    "papermill": {
     "duration": 0.074973,
     "end_time": "2024-03-24T05:38:51.233302",
     "exception": false,
     "start_time": "2024-03-24T05:38:51.158329",
     "status": "completed"
    },
    "tags": []
   },
   "source": [
    "# Model"
   ]
  },
  {
   "cell_type": "code",
   "execution_count": 10,
   "id": "14c86bfd",
   "metadata": {
    "id": "We87CAdU-cww",
    "papermill": {
     "duration": 1.542992,
     "end_time": "2024-03-24T05:38:52.853199",
     "exception": false,
     "start_time": "2024-03-24T05:38:51.310207",
     "status": "completed"
    },
    "tags": []
   },
   "outputs": [
    {
     "name": "stderr",
     "output_type": "stream",
     "text": [
      "C:\\Users\\USER\\AppData\\Roaming\\Python\\Python38\\site-packages\\torchvision\\models\\_utils.py:208: UserWarning: The parameter 'pretrained' is deprecated since 0.13 and may be removed in the future, please use 'weights' instead.\n",
      "  warnings.warn(\n",
      "C:\\Users\\USER\\AppData\\Roaming\\Python\\Python38\\site-packages\\torchvision\\models\\_utils.py:223: UserWarning: Arguments other than a weight enum or `None` for 'weights' are deprecated since 0.13 and may be removed in the future. The current behavior is equivalent to passing `weights=Inception_V3_Weights.IMAGENET1K_V1`. You can also use `weights=Inception_V3_Weights.DEFAULT` to get the most up-to-date weights.\n",
      "  warnings.warn(msg)\n"
     ]
    }
   ],
   "source": [
    "num_classes = 40\n",
    "model = models.inception_v3(pretrained=True)\n",
    "num_ftrs = model.fc.in_features\n",
    "model.fc = nn.Sequential(\n",
    "    nn.Linear(num_ftrs, num_classes),\n",
    "    nn.Sigmoid()\n",
    ")\n",
    "loss_fn = nn.BCEWithLogitsLoss()\n",
    "optimizer = optim.Adam(model.parameters(), lr=0.001)\n",
    "scheduler = StepLR(optimizer, step_size=1, gamma=0.7)\n"
   ]
  },
  {
   "cell_type": "code",
   "execution_count": 12,
   "id": "b31de9e9",
   "metadata": {
    "id": "guhqNIXxHkHS",
    "outputId": "b6849ff6-53fc-4bac-97b2-8d80d4211774",
    "papermill": {
     "duration": 6645.928051,
     "end_time": "2024-03-24T07:29:38.858942",
     "exception": false,
     "start_time": "2024-03-24T05:38:52.930891",
     "status": "completed"
    },
    "tags": []
   },
   "outputs": [
    {
     "name": "stdout",
     "output_type": "stream",
     "text": [
      "Epoch 1/10\n",
      "----------\n",
      "Batch 0, Loss: 0.6693931221961975\n",
      "Batch 100, Loss: 0.6667618155479431\n",
      "Batch 200, Loss: 0.6685255765914917\n",
      "Batch 300, Loss: 0.6650973558425903\n",
      "Batch 400, Loss: 0.6634237170219421\n",
      "Batch 500, Loss: 0.6685718894004822\n",
      "Batch 600, Loss: 0.6620224714279175\n",
      "Batch 700, Loss: 0.665120542049408\n",
      "Batch 800, Loss: 0.666768491268158\n",
      "Batch 900, Loss: 0.6661478281021118\n",
      "Batch 1000, Loss: 0.6697524189949036\n",
      "Batch 1100, Loss: 0.6633914113044739\n",
      "Batch 1200, Loss: 0.6654123067855835\n",
      "Batch 1300, Loss: 0.6685601472854614\n",
      "Batch 1400, Loss: 0.6633309125900269\n",
      "Batch 1500, Loss: 0.6684659123420715\n",
      "Batch 1600, Loss: 0.6641867756843567\n",
      "Batch 1700, Loss: 0.6659638285636902\n",
      "Batch 1800, Loss: 0.6651932597160339\n",
      "Batch 1900, Loss: 0.6657237410545349\n",
      "Batch 2000, Loss: 0.660998523235321\n",
      "Batch 2100, Loss: 0.6684110164642334\n",
      "Batch 2200, Loss: 0.6637053489685059\n",
      "Batch 2300, Loss: 0.6634990572929382\n",
      "Batch 2400, Loss: 0.6648598313331604\n",
      "Batch 2500, Loss: 0.668860912322998\n",
      "Batch 2600, Loss: 0.6650184988975525\n",
      "Batch 2700, Loss: 0.6631807684898376\n",
      "Batch 2800, Loss: 0.6621543765068054\n",
      "Batch 2900, Loss: 0.6647793054580688\n",
      "Batch 3000, Loss: 0.6621953248977661\n",
      "Batch 3100, Loss: 0.6682824492454529\n",
      "Average Training Loss: 0.6656119328267095\n",
      "Average Validation Loss: 0.6665757843788634\n",
      "Epoch 2/10\n",
      "----------\n",
      "Batch 0, Loss: 0.6600233912467957\n",
      "Batch 100, Loss: 0.6635447144508362\n",
      "Batch 200, Loss: 0.6640942692756653\n",
      "Batch 300, Loss: 0.663757860660553\n",
      "Batch 400, Loss: 0.6664750576019287\n",
      "Batch 500, Loss: 0.6705318093299866\n",
      "Batch 600, Loss: 0.6657596826553345\n",
      "Batch 700, Loss: 0.6669833064079285\n",
      "Batch 800, Loss: 0.6691424250602722\n",
      "Batch 900, Loss: 0.6688682436943054\n",
      "Batch 1000, Loss: 0.6652028560638428\n",
      "Batch 1100, Loss: 0.6645598411560059\n",
      "Batch 1200, Loss: 0.6645346879959106\n",
      "Batch 1300, Loss: 0.6617364883422852\n",
      "Batch 1400, Loss: 0.6686380505561829\n",
      "Batch 1500, Loss: 0.6650092005729675\n",
      "Batch 1600, Loss: 0.6622874140739441\n",
      "Batch 1700, Loss: 0.6662748456001282\n",
      "Batch 1800, Loss: 0.6608307957649231\n",
      "Batch 1900, Loss: 0.6642580628395081\n",
      "Batch 2000, Loss: 0.6644020676612854\n",
      "Batch 2100, Loss: 0.6626632809638977\n",
      "Batch 2200, Loss: 0.6670698523521423\n",
      "Batch 2300, Loss: 0.6609201431274414\n",
      "Batch 2400, Loss: 0.6656644940376282\n",
      "Batch 2500, Loss: 0.6614466309547424\n",
      "Batch 2600, Loss: 0.6659771800041199\n",
      "Batch 2700, Loss: 0.6629571914672852\n",
      "Batch 2800, Loss: 0.660162091255188\n",
      "Batch 2900, Loss: 0.664846658706665\n",
      "Batch 3000, Loss: 0.6680741310119629\n",
      "Batch 3100, Loss: 0.6649770140647888\n",
      "Average Training Loss: 0.6643499760265266\n",
      "Average Validation Loss: 0.6651461383129688\n",
      "Epoch 3/10\n",
      "----------\n",
      "Batch 0, Loss: 0.6607080698013306\n",
      "Batch 100, Loss: 0.6628562808036804\n",
      "Batch 200, Loss: 0.6635063290596008\n",
      "Batch 300, Loss: 0.6641542315483093\n",
      "Batch 400, Loss: 0.6598491072654724\n",
      "Batch 500, Loss: 0.6604203581809998\n",
      "Batch 600, Loss: 0.6657568216323853\n",
      "Batch 700, Loss: 0.6619089245796204\n",
      "Batch 800, Loss: 0.665453314781189\n",
      "Batch 900, Loss: 0.6646768450737\n",
      "Batch 1000, Loss: 0.6683639287948608\n",
      "Batch 1100, Loss: 0.661517858505249\n",
      "Batch 1200, Loss: 0.6669101119041443\n",
      "Batch 1300, Loss: 0.6626796722412109\n",
      "Batch 1400, Loss: 0.6580862998962402\n",
      "Batch 1500, Loss: 0.6635828614234924\n",
      "Batch 1600, Loss: 0.6610574126243591\n",
      "Batch 1700, Loss: 0.6663503646850586\n",
      "Batch 1800, Loss: 0.6569162607192993\n",
      "Batch 1900, Loss: 0.6621968150138855\n",
      "Batch 2000, Loss: 0.6658027768135071\n",
      "Batch 2100, Loss: 0.6610790491104126\n",
      "Batch 2200, Loss: 0.6648732423782349\n",
      "Batch 2300, Loss: 0.6656579971313477\n",
      "Batch 2400, Loss: 0.659717857837677\n",
      "Batch 2500, Loss: 0.6674302220344543\n",
      "Batch 2600, Loss: 0.6636846661567688\n",
      "Batch 2700, Loss: 0.6679056286811829\n",
      "Batch 2800, Loss: 0.659376859664917\n",
      "Batch 2900, Loss: 0.6681792140007019\n",
      "Batch 3000, Loss: 0.6649801135063171\n",
      "Batch 3100, Loss: 0.6667644381523132\n",
      "Average Training Loss: 0.6623730298141184\n",
      "Average Validation Loss: 0.6634374777053265\n",
      "Epoch 4/10\n",
      "----------\n",
      "Batch 0, Loss: 0.660254180431366\n",
      "Batch 100, Loss: 0.6621675491333008\n",
      "Batch 200, Loss: 0.6560632586479187\n",
      "Batch 300, Loss: 0.6635131239891052\n",
      "Batch 400, Loss: 0.6627961993217468\n",
      "Batch 500, Loss: 0.6599522829055786\n",
      "Batch 600, Loss: 0.6612161993980408\n",
      "Batch 700, Loss: 0.6617611646652222\n",
      "Batch 800, Loss: 0.6589571237564087\n",
      "Batch 900, Loss: 0.6632909178733826\n",
      "Batch 1000, Loss: 0.6606425046920776\n",
      "Batch 1100, Loss: 0.6638557314872742\n",
      "Batch 1200, Loss: 0.6608963012695312\n",
      "Batch 1300, Loss: 0.6614462733268738\n",
      "Batch 1400, Loss: 0.6661898493766785\n",
      "Batch 1500, Loss: 0.6604371070861816\n",
      "Batch 1600, Loss: 0.6629010438919067\n",
      "Batch 1700, Loss: 0.6633988618850708\n",
      "Batch 1800, Loss: 0.6597758531570435\n",
      "Batch 1900, Loss: 0.6563939452171326\n",
      "Batch 2000, Loss: 0.6616881489753723\n",
      "Batch 2100, Loss: 0.6631739139556885\n",
      "Batch 2200, Loss: 0.6583933234214783\n",
      "Batch 2300, Loss: 0.6586515307426453\n",
      "Batch 2400, Loss: 0.6650129556655884\n",
      "Batch 2500, Loss: 0.6612228751182556\n",
      "Batch 2600, Loss: 0.660750687122345\n",
      "Batch 2700, Loss: 0.6644170880317688\n",
      "Batch 2800, Loss: 0.66209477186203\n",
      "Batch 2900, Loss: 0.6627948880195618\n",
      "Batch 3000, Loss: 0.6615520715713501\n",
      "Batch 3100, Loss: 0.6635894179344177\n",
      "Average Training Loss: 0.6615778963832758\n",
      "Average Validation Loss: 0.6629024305242173\n",
      "Epoch 5/10\n",
      "----------\n",
      "Batch 0, Loss: 0.664060115814209\n",
      "Batch 100, Loss: 0.6617205739021301\n",
      "Batch 200, Loss: 0.6553179621696472\n",
      "Batch 300, Loss: 0.6629884243011475\n",
      "Batch 400, Loss: 0.6560124754905701\n",
      "Batch 500, Loss: 0.6596648097038269\n",
      "Batch 600, Loss: 0.6633037328720093\n",
      "Batch 700, Loss: 0.6640371680259705\n",
      "Batch 800, Loss: 0.658871591091156\n",
      "Batch 900, Loss: 0.6634740233421326\n",
      "Batch 1000, Loss: 0.6625401377677917\n",
      "Batch 1100, Loss: 0.6621227860450745\n",
      "Batch 1200, Loss: 0.6603547930717468\n",
      "Batch 1300, Loss: 0.6625280380249023\n",
      "Batch 1400, Loss: 0.6647223234176636\n",
      "Batch 1500, Loss: 0.6661787033081055\n",
      "Batch 1600, Loss: 0.655906617641449\n",
      "Batch 1700, Loss: 0.66539067029953\n",
      "Batch 1800, Loss: 0.6583426594734192\n",
      "Batch 1900, Loss: 0.6629676818847656\n",
      "Batch 2000, Loss: 0.660142183303833\n",
      "Batch 2100, Loss: 0.6604897379875183\n",
      "Batch 2200, Loss: 0.6610713005065918\n",
      "Batch 2300, Loss: 0.6642486453056335\n",
      "Batch 2400, Loss: 0.6594685316085815\n",
      "Batch 2500, Loss: 0.6612008213996887\n",
      "Batch 2600, Loss: 0.6599205136299133\n",
      "Batch 2700, Loss: 0.6578772664070129\n",
      "Batch 2800, Loss: 0.6627649664878845\n",
      "Batch 2900, Loss: 0.659171998500824\n",
      "Batch 3000, Loss: 0.6592195630073547\n",
      "Batch 3100, Loss: 0.6629107594490051\n",
      "Average Training Loss: 0.6612043097501493\n",
      "Average Validation Loss: 0.6625190868022593\n",
      "Epoch 6/10\n",
      "----------\n",
      "Batch 0, Loss: 0.6649426817893982\n",
      "Batch 100, Loss: 0.6615887880325317\n",
      "Batch 200, Loss: 0.6611451506614685\n",
      "Batch 300, Loss: 0.667219340801239\n",
      "Batch 400, Loss: 0.6605323553085327\n",
      "Batch 500, Loss: 0.6642516255378723\n",
      "Batch 600, Loss: 0.6594526171684265\n",
      "Batch 700, Loss: 0.664132297039032\n",
      "Batch 800, Loss: 0.6634502410888672\n",
      "Batch 900, Loss: 0.6576636433601379\n",
      "Batch 1000, Loss: 0.6560379862785339\n",
      "Batch 1100, Loss: 0.6610569953918457\n",
      "Batch 1200, Loss: 0.6652109026908875\n",
      "Batch 1300, Loss: 0.661662220954895\n",
      "Batch 1400, Loss: 0.654846727848053\n",
      "Batch 1500, Loss: 0.6570143699645996\n",
      "Batch 1600, Loss: 0.6628165245056152\n",
      "Batch 1700, Loss: 0.6667884588241577\n",
      "Batch 1800, Loss: 0.6596428155899048\n",
      "Batch 1900, Loss: 0.6617593169212341\n",
      "Batch 2000, Loss: 0.6570681929588318\n",
      "Batch 2100, Loss: 0.6603755354881287\n",
      "Batch 2200, Loss: 0.6606330275535583\n",
      "Batch 2300, Loss: 0.6635745167732239\n",
      "Batch 2400, Loss: 0.6593934893608093\n",
      "Batch 2500, Loss: 0.6586779356002808\n",
      "Batch 2600, Loss: 0.6544467806816101\n",
      "Batch 2700, Loss: 0.659630298614502\n",
      "Batch 2800, Loss: 0.6606034636497498\n",
      "Batch 2900, Loss: 0.6652325391769409\n",
      "Batch 3000, Loss: 0.6604095101356506\n",
      "Batch 3100, Loss: 0.6604081988334656\n",
      "Average Training Loss: 0.6609119167764679\n",
      "Average Validation Loss: 0.6623312059869157\n",
      "Epoch 7/10\n",
      "----------\n",
      "Batch 0, Loss: 0.6624166369438171\n",
      "Batch 100, Loss: 0.665342390537262\n",
      "Batch 200, Loss: 0.6633557677268982\n",
      "Batch 300, Loss: 0.6582120060920715\n",
      "Batch 400, Loss: 0.6616200804710388\n",
      "Batch 500, Loss: 0.6589662432670593\n",
      "Batch 600, Loss: 0.6586863398551941\n",
      "Batch 700, Loss: 0.6613296866416931\n",
      "Batch 800, Loss: 0.6599531173706055\n",
      "Batch 900, Loss: 0.6563227772712708\n",
      "Batch 1000, Loss: 0.6597148180007935\n",
      "Batch 1100, Loss: 0.6620365977287292\n",
      "Batch 1200, Loss: 0.6607736945152283\n",
      "Batch 1300, Loss: 0.6597779393196106\n",
      "Batch 1400, Loss: 0.6608404517173767\n",
      "Batch 1500, Loss: 0.659252941608429\n",
      "Batch 1600, Loss: 0.6580333113670349\n",
      "Batch 1700, Loss: 0.6596453785896301\n",
      "Batch 1800, Loss: 0.6611244082450867\n",
      "Batch 1900, Loss: 0.661460816860199\n",
      "Batch 2000, Loss: 0.6565284132957458\n",
      "Batch 2100, Loss: 0.657418429851532\n",
      "Batch 2200, Loss: 0.6672462821006775\n",
      "Batch 2300, Loss: 0.6589204668998718\n",
      "Batch 2400, Loss: 0.6581077575683594\n",
      "Batch 2500, Loss: 0.6571656465530396\n",
      "Batch 2600, Loss: 0.6618385910987854\n",
      "Batch 2700, Loss: 0.6600545048713684\n",
      "Batch 2800, Loss: 0.6612831950187683\n",
      "Batch 2900, Loss: 0.6614757180213928\n",
      "Batch 3000, Loss: 0.659287691116333\n",
      "Batch 3100, Loss: 0.6619825959205627\n",
      "Average Training Loss: 0.6606064518823576\n",
      "Average Validation Loss: 0.6621871066854356\n",
      "Epoch 8/10\n",
      "----------\n",
      "Batch 0, Loss: 0.6604089140892029\n",
      "Batch 100, Loss: 0.6607691049575806\n",
      "Batch 200, Loss: 0.659978449344635\n",
      "Batch 300, Loss: 0.6626577377319336\n",
      "Batch 400, Loss: 0.6605420708656311\n",
      "Batch 500, Loss: 0.6638431549072266\n",
      "Batch 600, Loss: 0.661882221698761\n",
      "Batch 700, Loss: 0.6603822112083435\n",
      "Batch 800, Loss: 0.6584092378616333\n",
      "Batch 900, Loss: 0.6586644649505615\n",
      "Batch 1000, Loss: 0.6569823622703552\n",
      "Batch 1100, Loss: 0.6621197462081909\n",
      "Batch 1200, Loss: 0.6615350842475891\n",
      "Batch 1300, Loss: 0.6639766693115234\n",
      "Batch 1400, Loss: 0.659559965133667\n",
      "Batch 1500, Loss: 0.6610057950019836\n",
      "Batch 1600, Loss: 0.6599624752998352\n",
      "Batch 1700, Loss: 0.6614139080047607\n",
      "Batch 1800, Loss: 0.6590642333030701\n",
      "Batch 1900, Loss: 0.6595450043678284\n",
      "Batch 2000, Loss: 0.6615542769432068\n",
      "Batch 2100, Loss: 0.6651703715324402\n",
      "Batch 2200, Loss: 0.660555899143219\n",
      "Batch 2300, Loss: 0.6595102548599243\n",
      "Batch 2400, Loss: 0.6622592806816101\n",
      "Batch 2500, Loss: 0.6632310748100281\n",
      "Batch 2600, Loss: 0.6604064106941223\n",
      "Batch 2700, Loss: 0.6603467464447021\n",
      "Batch 2800, Loss: 0.6622800230979919\n",
      "Batch 2900, Loss: 0.6641459465026855\n",
      "Batch 3000, Loss: 0.6576921343803406\n",
      "Batch 3100, Loss: 0.6561333537101746\n",
      "Average Training Loss: 0.6603912506015549\n",
      "Average Validation Loss: 0.6622616122377679\n",
      "Epoch 9/10\n",
      "----------\n",
      "Batch 0, Loss: 0.6644946336746216\n",
      "Batch 100, Loss: 0.6599540710449219\n",
      "Batch 200, Loss: 0.6612412333488464\n",
      "Batch 300, Loss: 0.6598061323165894\n",
      "Batch 400, Loss: 0.6599425673484802\n",
      "Batch 500, Loss: 0.6613788604736328\n",
      "Batch 600, Loss: 0.6600319743156433\n",
      "Batch 700, Loss: 0.6613285541534424\n",
      "Batch 800, Loss: 0.6612923741340637\n",
      "Batch 900, Loss: 0.6612544059753418\n",
      "Batch 1000, Loss: 0.6558687686920166\n",
      "Batch 1100, Loss: 0.6612500548362732\n",
      "Batch 1200, Loss: 0.6597694754600525\n",
      "Batch 1300, Loss: 0.6578682065010071\n",
      "Batch 1400, Loss: 0.6580218076705933\n",
      "Batch 1500, Loss: 0.6596674919128418\n",
      "Batch 1600, Loss: 0.6628336906433105\n",
      "Batch 1700, Loss: 0.6617109179496765\n",
      "Batch 1800, Loss: 0.6614034175872803\n",
      "Batch 1900, Loss: 0.6607648730278015\n",
      "Batch 2000, Loss: 0.6595242023468018\n",
      "Batch 2100, Loss: 0.6575110554695129\n",
      "Batch 2200, Loss: 0.658984363079071\n",
      "Batch 2300, Loss: 0.656938374042511\n",
      "Batch 2400, Loss: 0.6607894897460938\n",
      "Batch 2500, Loss: 0.6649817824363708\n",
      "Batch 2600, Loss: 0.6596283316612244\n",
      "Batch 2700, Loss: 0.6620905995368958\n",
      "Batch 2800, Loss: 0.664326012134552\n",
      "Batch 2900, Loss: 0.6664411425590515\n",
      "Batch 3000, Loss: 0.6589697003364563\n",
      "Batch 3100, Loss: 0.6608030200004578\n",
      "Average Training Loss: 0.660189375982788\n",
      "Average Validation Loss: 0.6626481672550769\n",
      "Epoch 10/10\n",
      "----------\n",
      "Batch 0, Loss: 0.6610051393508911\n",
      "Batch 100, Loss: 0.6574775576591492\n",
      "Batch 200, Loss: 0.662188708782196\n",
      "Batch 300, Loss: 0.6598700881004333\n",
      "Batch 400, Loss: 0.6604739427566528\n",
      "Batch 500, Loss: 0.6632591485977173\n",
      "Batch 600, Loss: 0.6593852639198303\n",
      "Batch 700, Loss: 0.6609306335449219\n",
      "Batch 800, Loss: 0.6623150706291199\n",
      "Batch 900, Loss: 0.6597785949707031\n",
      "Batch 1000, Loss: 0.6574491262435913\n",
      "Batch 1100, Loss: 0.6647588014602661\n",
      "Batch 1200, Loss: 0.6608565449714661\n",
      "Batch 1300, Loss: 0.6618725657463074\n",
      "Batch 1400, Loss: 0.6604456305503845\n",
      "Batch 1500, Loss: 0.6617862582206726\n",
      "Batch 1600, Loss: 0.6569040417671204\n",
      "Batch 1700, Loss: 0.6550326347351074\n",
      "Batch 1800, Loss: 0.6611101031303406\n",
      "Batch 1900, Loss: 0.6586652398109436\n",
      "Batch 2000, Loss: 0.660767138004303\n",
      "Batch 2100, Loss: 0.6570433974266052\n",
      "Batch 2200, Loss: 0.666733980178833\n",
      "Batch 2300, Loss: 0.658685028553009\n",
      "Batch 2400, Loss: 0.657649040222168\n",
      "Batch 2500, Loss: 0.6591053009033203\n",
      "Batch 2600, Loss: 0.6593446135520935\n",
      "Batch 2700, Loss: 0.6568968892097473\n",
      "Batch 2800, Loss: 0.6557140350341797\n",
      "Batch 2900, Loss: 0.6605912446975708\n",
      "Batch 3000, Loss: 0.6609776616096497\n",
      "Batch 3100, Loss: 0.6569051742553711\n",
      "Average Training Loss: 0.6600083708383958\n",
      "Average Validation Loss: 0.6618666287432325\n"
     ]
    }
   ],
   "source": [
    "def train_one_epoch(model, dataloader, loss_fn, optimizer, device):\n",
    "    model.train()\n",
    "    total_loss = 0\n",
    "    for batch, (X, y, _, _) in enumerate(dataloader):\n",
    "        X, y = X.to(device), y.to(device)\n",
    "\n",
    "        pred, _ = model(X)\n",
    "        loss = loss_fn(pred, y)\n",
    "\n",
    "        optimizer.zero_grad()\n",
    "        loss.backward()\n",
    "        optimizer.step()\n",
    "\n",
    "        total_loss += loss.item()\n",
    "\n",
    "        if batch % 100 == 0:\n",
    "            print(f\"Batch {batch}, Loss: {loss.item()}\")\n",
    "\n",
    "    avg_loss = total_loss / len(dataloader)\n",
    "    print(f\"Average Training Loss: {avg_loss}\")\n",
    "    return avg_loss\n",
    "\n",
    "def validate(model, dataloader, loss_fn, device):\n",
    "    model.eval()\n",
    "    total_loss = 0\n",
    "    with torch.no_grad():\n",
    "        for X, y, _, _ in dataloader:\n",
    "            X, y = X.to(device), y.to(device)\n",
    "            pred = model(X)\n",
    "            loss = loss_fn(pred, y)\n",
    "            total_loss += loss.item()\n",
    "\n",
    "    avg_loss = total_loss / len(dataloader)\n",
    "    print(f\"Average Validation Loss: {avg_loss}\")\n",
    "    return avg_loss\n",
    "\n",
    "device = torch.device(\"cuda\" if torch.cuda.is_available() else \"cpu\")\n",
    "model.to(device)\n",
    "\n",
    "epochs = 10\n",
    "\n",
    "for epoch in range(epochs):\n",
    "    print(f\"Epoch {epoch+1}/{epochs}\")\n",
    "    print(\"-\" * 10)\n",
    "    train_loss = train_one_epoch(model, train_loader, loss_fn, optimizer, device)\n",
    "    val_loss = validate(model, val_loader, loss_fn, device)\n"
   ]
  },
  {
   "cell_type": "code",
   "execution_count": 13,
   "id": "66cb1cb5",
   "metadata": {
    "id": "cT7dvhsmHuPp",
    "papermill": {
     "duration": 0.308066,
     "end_time": "2024-03-24T07:29:39.265485",
     "exception": false,
     "start_time": "2024-03-24T07:29:38.957419",
     "status": "completed"
    },
    "tags": []
   },
   "outputs": [],
   "source": [
    "torch.save(model.state_dict(), \"inceptionResnet.pth\")"
   ]
  },
  {
   "cell_type": "code",
   "execution_count": null,
   "id": "285734b2-bfeb-4fe9-9084-800348e5316f",
   "metadata": {},
   "outputs": [],
   "source": []
  }
 ],
 "metadata": {
  "colab": {
   "provenance": []
  },
  "kaggle": {
   "accelerator": "gpu",
   "dataSources": [],
   "dockerImageVersionId": 30674,
   "isGpuEnabled": true,
   "isInternetEnabled": true,
   "language": "python",
   "sourceType": "notebook"
  },
  "kernelspec": {
   "display_name": "Python 3 (ipykernel)",
   "language": "python",
   "name": "python3"
  },
  "language_info": {
   "codemirror_mode": {
    "name": "ipython",
    "version": 3
   },
   "file_extension": ".py",
   "mimetype": "text/x-python",
   "name": "python",
   "nbconvert_exporter": "python",
   "pygments_lexer": "ipython3",
   "version": "3.8.18"
  },
  "papermill": {
   "default_parameters": {},
   "duration": 6732.67468,
   "end_time": "2024-03-24T07:29:42.385663",
   "environment_variables": {},
   "exception": null,
   "input_path": "__notebook__.ipynb",
   "output_path": "__notebook__.ipynb",
   "parameters": {},
   "start_time": "2024-03-24T05:37:29.710983",
   "version": "2.5.0"
  }
 },
 "nbformat": 4,
 "nbformat_minor": 5
}
